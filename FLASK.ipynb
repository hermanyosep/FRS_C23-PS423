{
 "cells": [
  {
   "cell_type": "code",
   "execution_count": 2,
   "id": "a9f1401a",
   "metadata": {},
   "outputs": [
    {
     "name": "stdout",
     "output_type": "stream",
     "text": [
      " * Serving Flask app '__main__'\n",
      " * Debug mode: off\n"
     ]
    },
    {
     "name": "stderr",
     "output_type": "stream",
     "text": [
      "WARNING: This is a development server. Do not use it in a production deployment. Use a production WSGI server instead.\n",
      " * Running on http://127.0.0.1:5000\n",
      "Press CTRL+C to quit\n",
      "127.0.0.1 - - [21/May/2023 11:43:04] \"GET / HTTP/1.1\" 404 -\n",
      "127.0.0.1 - - [21/May/2023 11:43:04] \"GET /favicon.ico HTTP/1.1\" 404 -\n",
      "127.0.0.1 - - [21/May/2023 11:43:30] \"GET / HTTP/1.1\" 404 -\n"
     ]
    }
   ],
   "source": [
    "from flask import Flask, request, jsonify\n",
    "import tensorflow as tf\n",
    "import numpy as np\n",
    "\n",
    "app = Flask(__name__)\n",
    "\n",
    "# Load the TensorFlow Lite model into memory\n",
    "interpreter = tf.lite.Interpreter(model_path='saved_model/1/model.tflite')\n",
    "interpreter.allocate_tensors()\n",
    "\n",
    "# Get the input and output details of the model\n",
    "input_details = interpreter.get_input_details()\n",
    "output_details = interpreter.get_output_details()\n",
    "\n",
    "# Define a route to handle predictions\n",
    "@app.route('/predict', methods=['POST'])\n",
    "def predict():\n",
    "    # Get the input data from the request\n",
    "    input_data = request.json['data']\n",
    "    \n",
    "    # Preprocess the input data if needed\n",
    "    preprocessed_data = preprocess(input_data)\n",
    "    \n",
    "    # Set the input tensor with the preprocessed data\n",
    "    interpreter.set_tensor(input_details[0]['index'], preprocessed_data)\n",
    "    \n",
    "    # Run the inference\n",
    "    interpreter.invoke()\n",
    "    \n",
    "    # Get the output tensor\n",
    "    output_data = interpreter.get_tensor(output_details[0]['index'])\n",
    "    \n",
    "    # Postprocess the output data if needed\n",
    "    postprocessed_data = postprocess(output_data)\n",
    "    \n",
    "    # Return the predicted results as a JSON response\n",
    "    return jsonify({'result': postprocessed_data})\n",
    "\n",
    "# Preprocess the input data\n",
    "def preprocess(input_data):\n",
    "    # Implement your preprocessing logic here\n",
    "    # Convert the input data to the desired format or shape\n",
    "    \n",
    "    # Return the preprocessed data\n",
    "    return np.array(input_data)\n",
    "\n",
    "# Postprocess the output data\n",
    "def postprocess(output_data):\n",
    "    # Implement your postprocessing logic here\n",
    "    # Convert the output data to the desired format or shape\n",
    "    \n",
    "    # Return the postprocessed data\n",
    "    return np.array(output_data)\n",
    "\n",
    "# Run the Flask application\n",
    "if __name__ == '__main__':\n",
    "    app.run()\n"
   ]
  },
  {
   "cell_type": "code",
   "execution_count": null,
   "id": "ffcc87fc",
   "metadata": {},
   "outputs": [],
   "source": []
  }
 ],
 "metadata": {
  "kernelspec": {
   "display_name": "tfrs",
   "language": "python",
   "name": "tfrs"
  },
  "language_info": {
   "codemirror_mode": {
    "name": "ipython",
    "version": 3
   },
   "file_extension": ".py",
   "mimetype": "text/x-python",
   "name": "python",
   "nbconvert_exporter": "python",
   "pygments_lexer": "ipython3",
   "version": "3.10.4"
  }
 },
 "nbformat": 4,
 "nbformat_minor": 5
}
