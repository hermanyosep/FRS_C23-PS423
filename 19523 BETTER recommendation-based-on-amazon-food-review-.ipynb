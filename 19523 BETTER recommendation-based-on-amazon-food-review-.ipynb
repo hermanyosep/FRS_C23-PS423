{
 "cells": [
  {
   "cell_type": "markdown",
   "metadata": {},
   "source": [
    "# IMPORT LIBRARIES"
   ]
  },
  {
   "cell_type": "code",
   "execution_count": 47,
   "metadata": {},
   "outputs": [],
   "source": [
    "import numpy as np\n",
    "import pandas as pd\n",
    "import math\n",
    "import json\n",
    "import time\n",
    "import matplotlib.pyplot as plt\n",
    "import seaborn as sns\n",
    "from sklearn.model_selection import train_test_split\n",
    "from sklearn.neighbors import NearestNeighbors\n",
    "#from sklearn.externals import joblib\n",
    "import tensorflow as tf\n",
    "from tensorflow.keras.layers import Cropping1D,Embedding, Flatten, Dense, concatenate, Dropout,GlobalAveragePooling1D,GlobalMaxPooling1D,LSTM\n",
    "from tensorflow.keras.models import Sequential\n",
    "from sklearn.model_selection import train_test_split\n",
    "from sklearn.preprocessing import MinMaxScaler"
   ]
  },
  {
   "cell_type": "markdown",
   "metadata": {},
   "source": [
    "# Importing the Dataset"
   ]
  },
  {
   "cell_type": "markdown",
   "metadata": {},
   "source": [
    "## Read and Explore the Data"
   ]
  },
  {
   "cell_type": "code",
   "execution_count": 48,
   "metadata": {
    "_cell_guid": "79c7e3d0-c299-4dcb-8224-4455121ee9b0",
    "_uuid": "d629ff2d2480ee46fbb7e2d37f6b5fab8052498a"
   },
   "outputs": [],
   "source": [
    "#Import the data set\n",
    "df = pd.read_csv('Reviews3.csv')"
   ]
  },
  {
   "cell_type": "code",
   "execution_count": 49,
   "metadata": {},
   "outputs": [
    {
     "data": {
      "text/html": [
       "<div>\n",
       "<style scoped>\n",
       "    .dataframe tbody tr th:only-of-type {\n",
       "        vertical-align: middle;\n",
       "    }\n",
       "\n",
       "    .dataframe tbody tr th {\n",
       "        vertical-align: top;\n",
       "    }\n",
       "\n",
       "    .dataframe thead th {\n",
       "        text-align: right;\n",
       "    }\n",
       "</style>\n",
       "<table border=\"1\" class=\"dataframe\">\n",
       "  <thead>\n",
       "    <tr style=\"text-align: right;\">\n",
       "      <th></th>\n",
       "      <th>Id</th>\n",
       "      <th>ProductId</th>\n",
       "      <th>UserId</th>\n",
       "      <th>HelpfulnessNumerator</th>\n",
       "      <th>HelpfulnessDenominator</th>\n",
       "      <th>Score</th>\n",
       "    </tr>\n",
       "  </thead>\n",
       "  <tbody>\n",
       "    <tr>\n",
       "      <th>0</th>\n",
       "      <td>1</td>\n",
       "      <td>B001E4KFG0</td>\n",
       "      <td>A3SGXH7AUHU8GW</td>\n",
       "      <td>1</td>\n",
       "      <td>1</td>\n",
       "      <td>5</td>\n",
       "    </tr>\n",
       "    <tr>\n",
       "      <th>1</th>\n",
       "      <td>2</td>\n",
       "      <td>B00813GRG4</td>\n",
       "      <td>A1D87F6ZCVE5NK</td>\n",
       "      <td>0</td>\n",
       "      <td>0</td>\n",
       "      <td>1</td>\n",
       "    </tr>\n",
       "    <tr>\n",
       "      <th>2</th>\n",
       "      <td>3</td>\n",
       "      <td>B000LQOCH0</td>\n",
       "      <td>ABXLMWJIXXAIN</td>\n",
       "      <td>1</td>\n",
       "      <td>1</td>\n",
       "      <td>4</td>\n",
       "    </tr>\n",
       "    <tr>\n",
       "      <th>3</th>\n",
       "      <td>4</td>\n",
       "      <td>B000UA0QIQ</td>\n",
       "      <td>A395BORC6FGVXV</td>\n",
       "      <td>3</td>\n",
       "      <td>3</td>\n",
       "      <td>2</td>\n",
       "    </tr>\n",
       "    <tr>\n",
       "      <th>4</th>\n",
       "      <td>5</td>\n",
       "      <td>B006K2ZZ7K</td>\n",
       "      <td>A1UQRSCLF8GW1T</td>\n",
       "      <td>0</td>\n",
       "      <td>0</td>\n",
       "      <td>5</td>\n",
       "    </tr>\n",
       "  </tbody>\n",
       "</table>\n",
       "</div>"
      ],
      "text/plain": [
       "   Id   ProductId          UserId  HelpfulnessNumerator   \n",
       "0   1  B001E4KFG0  A3SGXH7AUHU8GW                     1  \\\n",
       "1   2  B00813GRG4  A1D87F6ZCVE5NK                     0   \n",
       "2   3  B000LQOCH0   ABXLMWJIXXAIN                     1   \n",
       "3   4  B000UA0QIQ  A395BORC6FGVXV                     3   \n",
       "4   5  B006K2ZZ7K  A1UQRSCLF8GW1T                     0   \n",
       "\n",
       "   HelpfulnessDenominator  Score  \n",
       "0                       1      5  \n",
       "1                       0      1  \n",
       "2                       1      4  \n",
       "3                       3      2  \n",
       "4                       0      5  "
      ]
     },
     "execution_count": 49,
     "metadata": {},
     "output_type": "execute_result"
    }
   ],
   "source": [
    "df.head()"
   ]
  },
  {
   "cell_type": "code",
   "execution_count": 50,
   "metadata": {},
   "outputs": [],
   "source": [
    "# Dropping the columns\n",
    "df = df.drop(['Id','HelpfulnessNumerator','HelpfulnessDenominator'], axis = 1) \n"
   ]
  },
  {
   "cell_type": "code",
   "execution_count": 51,
   "metadata": {},
   "outputs": [
    {
     "data": {
      "text/html": [
       "<div>\n",
       "<style scoped>\n",
       "    .dataframe tbody tr th:only-of-type {\n",
       "        vertical-align: middle;\n",
       "    }\n",
       "\n",
       "    .dataframe tbody tr th {\n",
       "        vertical-align: top;\n",
       "    }\n",
       "\n",
       "    .dataframe thead th {\n",
       "        text-align: right;\n",
       "    }\n",
       "</style>\n",
       "<table border=\"1\" class=\"dataframe\">\n",
       "  <thead>\n",
       "    <tr style=\"text-align: right;\">\n",
       "      <th></th>\n",
       "      <th>ProductId</th>\n",
       "      <th>UserId</th>\n",
       "      <th>Score</th>\n",
       "    </tr>\n",
       "  </thead>\n",
       "  <tbody>\n",
       "    <tr>\n",
       "      <th>568449</th>\n",
       "      <td>B001EO7N10</td>\n",
       "      <td>A28KG5XORO54AY</td>\n",
       "      <td>5</td>\n",
       "    </tr>\n",
       "    <tr>\n",
       "      <th>568450</th>\n",
       "      <td>B003S1WTCU</td>\n",
       "      <td>A3I8AFVPEE8KI5</td>\n",
       "      <td>2</td>\n",
       "    </tr>\n",
       "    <tr>\n",
       "      <th>568451</th>\n",
       "      <td>B004I613EE</td>\n",
       "      <td>A121AA1GQV751Z</td>\n",
       "      <td>5</td>\n",
       "    </tr>\n",
       "    <tr>\n",
       "      <th>568452</th>\n",
       "      <td>B004I613EE</td>\n",
       "      <td>A3IBEVCTXKNOH</td>\n",
       "      <td>5</td>\n",
       "    </tr>\n",
       "    <tr>\n",
       "      <th>568453</th>\n",
       "      <td>B001LR2CU2</td>\n",
       "      <td>A3LGQPJCZVL9UC</td>\n",
       "      <td>5</td>\n",
       "    </tr>\n",
       "  </tbody>\n",
       "</table>\n",
       "</div>"
      ],
      "text/plain": [
       "         ProductId          UserId  Score\n",
       "568449  B001EO7N10  A28KG5XORO54AY      5\n",
       "568450  B003S1WTCU  A3I8AFVPEE8KI5      2\n",
       "568451  B004I613EE  A121AA1GQV751Z      5\n",
       "568452  B004I613EE   A3IBEVCTXKNOH      5\n",
       "568453  B001LR2CU2  A3LGQPJCZVL9UC      5"
      ]
     },
     "execution_count": 51,
     "metadata": {},
     "output_type": "execute_result"
    }
   ],
   "source": [
    "# see few rows of the imported dataset\n",
    "df.tail()"
   ]
  },
  {
   "cell_type": "code",
   "execution_count": 52,
   "metadata": {},
   "outputs": [
    {
     "name": "stdout",
     "output_type": "stream",
     "text": [
      "No of rows:  568454\n",
      "No of columns:  3\n"
     ]
    }
   ],
   "source": [
    "# Check the number of rows and columns\n",
    "rows, columns = df.shape\n",
    "print(\"No of rows: \", rows) \n",
    "print(\"No of columns: \", columns) "
   ]
  },
  {
   "cell_type": "code",
   "execution_count": 53,
   "metadata": {},
   "outputs": [
    {
     "data": {
      "text/plain": [
       "ProductId    object\n",
       "UserId       object\n",
       "Score         int64\n",
       "dtype: object"
      ]
     },
     "execution_count": 53,
     "metadata": {},
     "output_type": "execute_result"
    }
   ],
   "source": [
    "#Check Data types\n",
    "df.dtypes"
   ]
  },
  {
   "cell_type": "code",
   "execution_count": 54,
   "metadata": {},
   "outputs": [
    {
     "name": "stdout",
     "output_type": "stream",
     "text": [
      "Number of missing values across columns-\n",
      " ProductId    0\n",
      "UserId       0\n",
      "Score        0\n",
      "dtype: int64\n"
     ]
    }
   ],
   "source": [
    "# Check for missing values present\n",
    "print('Number of missing values across columns-\\n', df.isnull().sum())"
   ]
  },
  {
   "cell_type": "markdown",
   "metadata": {},
   "source": [
    "### There are no missing values with total records 568454\n"
   ]
  },
  {
   "cell_type": "code",
   "execution_count": 55,
   "metadata": {},
   "outputs": [
    {
     "data": {
      "text/html": [
       "<div>\n",
       "<style scoped>\n",
       "    .dataframe tbody tr th:only-of-type {\n",
       "        vertical-align: middle;\n",
       "    }\n",
       "\n",
       "    .dataframe tbody tr th {\n",
       "        vertical-align: top;\n",
       "    }\n",
       "\n",
       "    .dataframe thead th {\n",
       "        text-align: right;\n",
       "    }\n",
       "</style>\n",
       "<table border=\"1\" class=\"dataframe\">\n",
       "  <thead>\n",
       "    <tr style=\"text-align: right;\">\n",
       "      <th></th>\n",
       "      <th>count</th>\n",
       "      <th>mean</th>\n",
       "      <th>std</th>\n",
       "      <th>min</th>\n",
       "      <th>25%</th>\n",
       "      <th>50%</th>\n",
       "      <th>75%</th>\n",
       "      <th>max</th>\n",
       "    </tr>\n",
       "  </thead>\n",
       "  <tbody>\n",
       "    <tr>\n",
       "      <th>Score</th>\n",
       "      <td>568454.0</td>\n",
       "      <td>4.183199</td>\n",
       "      <td>1.310436</td>\n",
       "      <td>1.0</td>\n",
       "      <td>4.0</td>\n",
       "      <td>5.0</td>\n",
       "      <td>5.0</td>\n",
       "      <td>5.0</td>\n",
       "    </tr>\n",
       "  </tbody>\n",
       "</table>\n",
       "</div>"
      ],
      "text/plain": [
       "          count      mean       std  min  25%  50%  75%  max\n",
       "Score  568454.0  4.183199  1.310436  1.0  4.0  5.0  5.0  5.0"
      ]
     },
     "execution_count": 55,
     "metadata": {},
     "output_type": "execute_result"
    }
   ],
   "source": [
    "# Summary statistics of 'rating' variable\n",
    "df[['Score']].describe().transpose()"
   ]
  },
  {
   "cell_type": "code",
   "execution_count": 56,
   "metadata": {},
   "outputs": [
    {
     "name": "stdout",
     "output_type": "stream",
     "text": [
      "The minimum rating is: 1\n",
      "The maximum rating is: 5\n"
     ]
    }
   ],
   "source": [
    "# find minimum and maximum ratings \n",
    "\n",
    "def find_min_max_rating():\n",
    "    print('The minimum rating is: %d' %(df['Score'].min()))\n",
    "    print('The maximum rating is: %d' %(df['Score'].max()))\n",
    "    \n",
    "find_min_max_rating() "
   ]
  },
  {
   "cell_type": "markdown",
   "metadata": {},
   "source": [
    "### Ratings are on scale of 1 - 5\n"
   ]
  },
  {
   "cell_type": "code",
   "execution_count": 57,
   "metadata": {},
   "outputs": [
    {
     "data": {
      "image/png": "[encoded data removed]",
      "text/plain": [
       "<Figure size 640x480 with 1 Axes>"
      ]
     },
     "metadata": {},
     "output_type": "display_data"
    }
   ],
   "source": [
    "# Check the distribution of ratings\n",
    "with sns.axes_style('white'):\n",
    "    g = sns.countplot(data=df, x=\"Score\")\n",
    "    g.set_ylabel(\"Total number of ratings\")\n"
   ]
  },
  {
   "cell_type": "code",
   "execution_count": 58,
   "metadata": {},
   "outputs": [
    {
     "name": "stdout",
     "output_type": "stream",
     "text": [
      "Number of unique USERS in Raw data =  256059\n",
      "Number of unique ITEMS in Raw data =  74258\n"
     ]
    }
   ],
   "source": [
    "# Number of unique user id and product id in the data\n",
    "print('Number of unique USERS in Raw data = ', df['UserId'].nunique())\n",
    "print('Number of unique ITEMS in Raw data = ', df['ProductId'].nunique())"
   ]
  },
  {
   "cell_type": "markdown",
   "metadata": {},
   "source": [
    "### Take subset of dataset to make it less sparse/more dense. ( For example, keep the users only who has given 50 or more number of ratings )"
   ]
  },
  {
   "cell_type": "code",
   "execution_count": 59,
   "metadata": {},
   "outputs": [
    {
     "data": {
      "text/plain": [
       "UserId\n",
       "A3OXHLG6DIBRW8    448\n",
       "A1YUL9PCJR3JTY    421\n",
       "AY12DBB0U420B     389\n",
       "A281NPSIMI1C2R    365\n",
       "A1Z54EM24Y40LL    256\n",
       "dtype: int64"
      ]
     },
     "execution_count": 59,
     "metadata": {},
     "output_type": "execute_result"
    }
   ],
   "source": [
    "# Top 10 users based on rating\n",
    "most_rated = df.groupby('UserId').size().sort_values(ascending=False)[:5]\n",
    "most_rated"
   ]
  },
  {
   "cell_type": "markdown",
   "metadata": {},
   "source": [
    "### Data model preparation as per requirement on number of minimum ratings\n"
   ]
  },
  {
   "cell_type": "code",
   "execution_count": 60,
   "metadata": {},
   "outputs": [],
   "source": [
    "counts = df['UserId'].value_counts()\n",
    "df_final = df[df['UserId'].isin(counts[counts >= 40].index)]"
   ]
  },
  {
   "cell_type": "code",
   "execution_count": 61,
   "metadata": {},
   "outputs": [
    {
     "data": {
      "text/plain": [
       "UserId\n",
       "A3OXHLG6DIBRW8    448\n",
       "A1YUL9PCJR3JTY    421\n",
       "AY12DBB0U420B     389\n",
       "A281NPSIMI1C2R    365\n",
       "A1Z54EM24Y40LL    256\n",
       "                 ... \n",
       "A2O8OFVSTO9PF3      1\n",
       "A1C6KXG47GAQ7B      1\n",
       "A1TU5DS89D9OVD      1\n",
       "A3N005JS5FG5FI      1\n",
       "A3LGQPJCZVL9UC      1\n",
       "Name: count, Length: 256059, dtype: int64"
      ]
     },
     "execution_count": 61,
     "metadata": {},
     "output_type": "execute_result"
    }
   ],
   "source": [
    "counts"
   ]
  },
  {
   "cell_type": "code",
   "execution_count": 62,
   "metadata": {},
   "outputs": [
    {
     "data": {
      "text/html": [
       "<div>\n",
       "<style scoped>\n",
       "    .dataframe tbody tr th:only-of-type {\n",
       "        vertical-align: middle;\n",
       "    }\n",
       "\n",
       "    .dataframe tbody tr th {\n",
       "        vertical-align: top;\n",
       "    }\n",
       "\n",
       "    .dataframe thead th {\n",
       "        text-align: right;\n",
       "    }\n",
       "</style>\n",
       "<table border=\"1\" class=\"dataframe\">\n",
       "  <thead>\n",
       "    <tr style=\"text-align: right;\">\n",
       "      <th></th>\n",
       "      <th>ProductId</th>\n",
       "      <th>UserId</th>\n",
       "      <th>Score</th>\n",
       "    </tr>\n",
       "  </thead>\n",
       "  <tbody>\n",
       "    <tr>\n",
       "      <th>14</th>\n",
       "      <td>B001GVISJM</td>\n",
       "      <td>A2MUGFV2TDQ47K</td>\n",
       "      <td>5</td>\n",
       "    </tr>\n",
       "    <tr>\n",
       "      <th>18</th>\n",
       "      <td>B001GVISJM</td>\n",
       "      <td>A2A9X58G2GTBLP</td>\n",
       "      <td>5</td>\n",
       "    </tr>\n",
       "    <tr>\n",
       "      <th>44</th>\n",
       "      <td>B001EO5QW8</td>\n",
       "      <td>A2G7B7FKP2O2PU</td>\n",
       "      <td>5</td>\n",
       "    </tr>\n",
       "    <tr>\n",
       "      <th>46</th>\n",
       "      <td>B001EO5QW8</td>\n",
       "      <td>AQLL2R1PPR46X</td>\n",
       "      <td>5</td>\n",
       "    </tr>\n",
       "    <tr>\n",
       "      <th>109</th>\n",
       "      <td>B001REEG6C</td>\n",
       "      <td>AY12DBB0U420B</td>\n",
       "      <td>5</td>\n",
       "    </tr>\n",
       "  </tbody>\n",
       "</table>\n",
       "</div>"
      ],
      "text/plain": [
       "      ProductId          UserId  Score\n",
       "14   B001GVISJM  A2MUGFV2TDQ47K      5\n",
       "18   B001GVISJM  A2A9X58G2GTBLP      5\n",
       "44   B001EO5QW8  A2G7B7FKP2O2PU      5\n",
       "46   B001EO5QW8   AQLL2R1PPR46X      5\n",
       "109  B001REEG6C   AY12DBB0U420B      5"
      ]
     },
     "execution_count": 62,
     "metadata": {},
     "output_type": "execute_result"
    }
   ],
   "source": [
    "df_final.head()"
   ]
  },
  {
   "cell_type": "code",
   "execution_count": 63,
   "metadata": {},
   "outputs": [
    {
     "name": "stdout",
     "output_type": "stream",
     "text": [
      "Number of users who have rated 50 or more items = 30130\n",
      "Number of unique USERS in final data =  430\n",
      "Number of unique ITEMS in final data =  13227\n"
     ]
    }
   ],
   "source": [
    "print('Number of users who have rated 50 or more items =', len(df_final))\n",
    "print('Number of unique USERS in final data = ', df_final['UserId'].nunique())\n",
    "print('Number of unique ITEMS in final data = ', df_final['ProductId'].nunique())"
   ]
  },
  {
   "cell_type": "markdown",
   "metadata": {},
   "source": [
    "-------------------"
   ]
  },
  {
   "cell_type": "markdown",
   "metadata": {},
   "source": [
    "### Split the data randomly into train and test dataset."
   ]
  },
  {
   "cell_type": "code",
   "execution_count": 64,
   "metadata": {},
   "outputs": [],
   "source": [
    "# Split the data into training and test sets\n",
    "train_data, test_data = train_test_split(df_final, test_size=0.1, random_state=0)"
   ]
  },
  {
   "cell_type": "code",
   "execution_count": 65,
   "metadata": {},
   "outputs": [],
   "source": [
    "# Create a dictionary mapping user IDs to unique indices\n",
    "user_ids = df_final['UserId'].unique()\n",
    "user_id_to_index = {user_id: index for index, user_id in enumerate(user_ids)}\n",
    "index_to_user_id = {index: user_id for index, user_id in enumerate(user_ids)}\n",
    "\n",
    "# Create a dictionary mapping product IDs to unique indices\n",
    "product_ids = df_final['ProductId'].unique()\n",
    "product_id_to_index = {product_id: index for index, product_id in enumerate(product_ids)}\n",
    "index_to_product_id = {index: product_id for index, product_id in enumerate(product_ids)}\n",
    "\n",
    "# Convert user and product IDs to indices and food names in the dataframe\n",
    "train_data['user_index'] = train_data['UserId'].map(user_id_to_index)\n",
    "train_data['product_index'] = train_data['ProductId'].map(product_id_to_index)\n",
    "\n",
    "test_data['user_index'] = test_data['UserId'].map(user_id_to_index)\n",
    "test_data['product_index'] = test_data['ProductId'].map(product_id_to_index)"
   ]
  },
  {
   "cell_type": "code",
   "execution_count": 66,
   "metadata": {},
   "outputs": [
    {
     "data": {
      "text/plain": [
       "430"
      ]
     },
     "execution_count": 66,
     "metadata": {},
     "output_type": "execute_result"
    }
   ],
   "source": [
    "len(df_final['UserId'].unique())"
   ]
  },
  {
   "cell_type": "markdown",
   "metadata": {},
   "source": [
    "## DATA"
   ]
  },
  {
   "cell_type": "code",
   "execution_count": 67,
   "metadata": {},
   "outputs": [],
   "source": [
    "# Prepare the training data\n",
    "x_train_user = train_data['user_index'].values\n",
    "x_train_product = train_data['product_index'].values\n",
    "x_train = np.concatenate((x_train_user.reshape(-1, 1), x_train_product.reshape(-1, 1)), axis=1)\n",
    "y_train = train_data['Score'].values\n",
    "\n",
    "scaler = MinMaxScaler()\n",
    "y_train = scaler.fit_transform(y_train.reshape(-1, 1))\n",
    "\n",
    "# Prepare the test data\n",
    "x_test_user = test_data['user_index'].values\n",
    "x_test_product = test_data['product_index'].values\n",
    "x_test = np.concatenate((x_test_user.reshape(-1, 1), x_test_product.reshape(-1, 1)), axis=1)\n",
    "y_test = test_data['Score'].values"
   ]
  },
  {
   "cell_type": "code",
   "execution_count": 23,
   "metadata": {
    "scrolled": true
   },
   "outputs": [],
   "source": [
    "# Set the input shape\n",
    "num_users = len(user_ids)\n",
    "num_products = len(product_ids)\n",
    "embedding_dim = 512\n",
    "\n",
    "# Create the embedding layer\n",
    "embedding_layer = Embedding(num_users + num_products +1, embedding_dim, input_length=2)\n",
    "\n",
    "# Create the model\n",
    "model = Sequential()\n",
    "model.add(embedding_layer)\n",
    "model.add(LSTM(64, return_sequences=True))\n",
    "model.add(LSTM(128))\n",
    "#model.add(GlobalAveragePooling1D())\n",
    "model.add(Flatten())\n",
    "model.add(Dense(32, activation='linear'))\n",
    "model.add(Dropout(0.3))\n",
    "model.add(Dense(64, activation='linear'))\n",
    "model.add(Dropout(0.3))\n",
    "model.add(Dense(128, activation='linear'))\n",
    "model.add(Dropout(0.3))\n",
    "model.add(Dense(256, activation='linear'))\n",
    "model.add(Dropout(0.3))\n",
    "model.add(Dense(512, activation='linear'))\n",
    "model.add(Dropout(0.3))\n",
    "model.add(Dense(1, activation='sigmoid'))"
   ]
  },
  {
   "cell_type": "code",
   "execution_count": 24,
   "metadata": {},
   "outputs": [],
   "source": [
    "# Load tensorboard \n",
    "%load_ext tensorboard"
   ]
  },
  {
   "cell_type": "code",
   "execution_count": 25,
   "metadata": {},
   "outputs": [
    {
     "data": {
      "text/plain": [
       "Reusing TensorBoard on port 6006 (pid 13832), started 3 days, 3:24:41 ago. (Use '!kill 13832' to kill it.)"
      ]
     },
     "metadata": {},
     "output_type": "display_data"
    },
    {
     "data": {
      "text/html": [
       "\n",
       "      <iframe id=\"tensorboard-frame-20e41d440f01fe1a\" width=\"100%\" height=\"800\" frameborder=\"0\">\n",
       "      </iframe>\n",
       "      <script>\n",
       "        (function() {\n",
       "          const frame = document.getElementById(\"tensorboard-frame-20e41d440f01fe1a\");\n",
       "          const url = new URL(\"/\", window.location);\n",
       "          const port = 6006;\n",
       "          if (port) {\n",
       "            url.port = port;\n",
       "          }\n",
       "          frame.src = url;\n",
       "        })();\n",
       "      </script>\n",
       "    "
      ],
      "text/plain": [
       "<IPython.core.display.HTML object>"
      ]
     },
     "metadata": {},
     "output_type": "display_data"
    }
   ],
   "source": [
    "import tensorflow as tf\n",
    "import datetime, os\n",
    "\n",
    "logs_base_dir = \"./logs\"\n",
    "os.makedirs(logs_base_dir, exist_ok=True)\n",
    "%tensorboard --logdir {logs_base_dir}"
   ]
  },
  {
   "cell_type": "code",
   "execution_count": 26,
   "metadata": {},
   "outputs": [],
   "source": [
    "# Setup for tensorboard\n",
    "from datetime import datetime\n",
    "import os\n",
    "logdir = os.path.join(\"logs\", datetime.now().strftime(\"%Y%m%d-%H%M%S\"))\n",
    "tensorboard_callback = tf.keras.callbacks.TensorBoard(logdir, histogram_freq=1)"
   ]
  },
  {
   "cell_type": "code",
   "execution_count": 27,
   "metadata": {},
   "outputs": [
    {
     "name": "stdout",
     "output_type": "stream",
     "text": [
      "Epoch 1/5\n",
      "763/763 [==============================] - 47s 52ms/step - loss: 0.0650 - accuracy: 0.5967 - val_loss: 0.0631 - val_accuracy: 0.5892\n",
      "Epoch 2/5\n",
      "763/763 [==============================] - 38s 50ms/step - loss: 0.0464 - accuracy: 0.6091 - val_loss: 0.0641 - val_accuracy: 0.5881\n",
      "Epoch 3/5\n",
      "763/763 [==============================] - 39s 50ms/step - loss: 0.0327 - accuracy: 0.6216 - val_loss: 0.0640 - val_accuracy: 0.5841\n",
      "Epoch 4/5\n",
      "763/763 [==============================] - 39s 51ms/step - loss: 0.0264 - accuracy: 0.6271 - val_loss: 0.0655 - val_accuracy: 0.5852\n",
      "Epoch 5/5\n",
      "763/763 [==============================] - 38s 50ms/step - loss: 0.0225 - accuracy: 0.6303 - val_loss: 0.0684 - val_accuracy: 0.5796\n"
     ]
    }
   ],
   "source": [
    "optimizer = tf.keras.optimizers.Adam(learning_rate=0.001)\n",
    "\n",
    "# Compile the model\n",
    "model.compile(optimizer=optimizer, loss='mse', metrics=['accuracy'])\n",
    "\n",
    "# Train the model\n",
    "history = model.fit(x_train, y_train, epochs=5, batch_size=32, validation_split=0.1,callbacks=[tensorboard_callback])"
   ]
  },
  {
   "cell_type": "markdown",
   "metadata": {
    "scrolled": true
   },
   "source": [
    "optimizer = tf.keras.optimizers.Adam(learning_rate=0.001)\n",
    "\n",
    "# Compile the model\n",
    "model.compile(optimizer=optimizer, loss='mse', metrics=['accuracy'])\n",
    "\n",
    "# Train the model\n",
    "history = model.fit(x_train, y_train, epochs=20, batch_size=32, validation_split=0.3)"
   ]
  },
  {
   "cell_type": "code",
   "execution_count": 68,
   "metadata": {},
   "outputs": [
    {
     "name": "stderr",
     "output_type": "stream",
     "text": [
      "C:\\Users\\widih\\AppData\\Local\\Temp\\ipykernel_25908\\3467069078.py:12: SettingWithCopyWarning: \n",
      "A value is trying to be set on a copy of a slice from a DataFrame.\n",
      "Try using .loc[row_indexer,col_indexer] = value instead\n",
      "\n",
      "See the caveats in the documentation: https://pandas.pydata.org/pandas-docs/stable/user_guide/indexing.html#returning-a-view-versus-a-copy\n",
      "  df_final['user_index'] = df_final['UserId'].map(user_id_to_index)\n",
      "C:\\Users\\widih\\AppData\\Local\\Temp\\ipykernel_25908\\3467069078.py:13: SettingWithCopyWarning: \n",
      "A value is trying to be set on a copy of a slice from a DataFrame.\n",
      "Try using .loc[row_indexer,col_indexer] = value instead\n",
      "\n",
      "See the caveats in the documentation: https://pandas.pydata.org/pandas-docs/stable/user_guide/indexing.html#returning-a-view-versus-a-copy\n",
      "  df_final['product_index'] = df_final['ProductId'].map(product_id_to_index)\n"
     ]
    }
   ],
   "source": [
    "# Create a dictionary mapping user IDs to unique indices\n",
    "user_ids = df_final['UserId'].unique()\n",
    "user_id_to_index = {user_id: index for index, user_id in enumerate(user_ids)}\n",
    "index_to_user_id = {index: user_id for index, user_id in enumerate(user_ids)}\n",
    "\n",
    "# Create a dictionary mapping product IDs to unique indices\n",
    "product_ids = df_final['ProductId'].unique()\n",
    "product_id_to_index = {product_id: index for index, product_id in enumerate(product_ids)}\n",
    "index_to_product_id = {index: product_id for index, product_id in enumerate(product_ids)}\n",
    "\n",
    "# Convert user and product IDs to indices and food names in the dataframe\n",
    "df_final['user_index'] = df_final['UserId'].map(user_id_to_index)\n",
    "df_final['product_index'] = df_final['ProductId'].map(product_id_to_index)"
   ]
  },
  {
   "cell_type": "code",
   "execution_count": 69,
   "metadata": {},
   "outputs": [
    {
     "data": {
      "text/plain": [
       "array(['A2MUGFV2TDQ47K', 'A2A9X58G2GTBLP', 'A2G7B7FKP2O2PU',\n",
       "       'AQLL2R1PPR46X', 'AY12DBB0U420B', 'A2YIO225BTKVPU',\n",
       "       'A1Z54EM24Y40LL', 'A3NID9D9WMIV01', 'A1IU7S4HCK1XK0',\n",
       "       'A3POAWC2JPQQQP', 'A19SDJ2TSSL8HI', 'A3OXRFCJI67IMN',\n",
       "       'AF72GTWZGAC61', 'A2582KMXLK2P06', 'A1YLOZQKBX3J1S',\n",
       "       'AVQIRN6E7J7UA', 'A3OXHLG6DIBRW8', 'A2TJG4N8LNJW23',\n",
       "       'A25C2M3QF9G7OQ', 'ALSAOZ1V546VT', 'A1T61QP7QHYBRQ',\n",
       "       'AMRMK86X3PKXD', 'A2NO1TXXS9T0EE', 'A1IRN1M05TPOVT',\n",
       "       'A2OEUROGZDTXUJ', 'A22PUBSSNP54L', 'A2BLJGGWN8GTXQ',\n",
       "       'AYB4ELCS5AM8P', 'A3PZ4AXTY9J1DZ', 'A2ZEFDVX4X5TPX',\n",
       "       'A3RMGIKUWGPZOK', 'A3PJZ8TU8FDQ1K', 'A31N6KB160O508',\n",
       "       'A1B05INWIDZ74O', 'A30H2335OM7RD6', 'A38KP1POQ191WT',\n",
       "       'A3MFU0GVZUVH3K', 'ACYR6O588USK', 'AY1EF0GOH80EK', 'AWLK6NSSV0YNA',\n",
       "       'A2A1XYSB692L6J', 'A2TN9C5E4A0I3F', 'AR7TAEEUDHMUB',\n",
       "       'ADS5APY1NKTL4', 'AG7EF0SVBQOUX', 'A1Q7A78VSQ5GQ4',\n",
       "       'A2A8KWCE8RKB9T', 'A2II09GQGWOMTQ', 'AQQLWCMRNDFGI',\n",
       "       'A24ZV048V7J0MT', 'A2YKWYC3WQJX5J', 'AKMEY1BSHSDG7',\n",
       "       'A3M174IC0VXOS2', 'A2OL5WLCNZVD9K', 'A6GMEO3VRY51S',\n",
       "       'A1WX42M589VAMQ', 'A1ZH9LWMX5UCFJ', 'ANUUF3N6B9NTA',\n",
       "       'A2C9XE9I8RSKNX', 'A36MP37DITBU6F', 'A3BH49ZKESHDID',\n",
       "       'AHYRTWABDAG1H', 'A2E3WMF9RWW2X2', 'A2W9I628I6SE1U',\n",
       "       'A3NHUQ33CFH3VM', 'ATIHDHZYNQ0EI', 'A3MDETK0D5UAIN',\n",
       "       'A1V1EP514B5H7Y', 'A3HPCRD9RX351S', 'A2R6RA8FRBS608',\n",
       "       'A2GEZJHBV92EVR', 'A3TD1O4EC26NT2', 'A291HTT117RVS9',\n",
       "       'ADLVFFE4VBT8', 'A2OWR5G2OAQF7C', 'A2WVF9ZQ068DN0',\n",
       "       'A1YUL9PCJR3JTY', 'A1HOXKR7OKJ1X1', 'AYGJ96W5KQMUJ',\n",
       "       'A281NPSIMI1C2R', 'A22Z9R91N8L7IQ', 'A2RL1RS6PWUHWI',\n",
       "       'AAUICTIUBVU7R', 'A3UCN2RGY7O6S1', 'AZV26LP92E6WU',\n",
       "       'A2PNOU7NXB1JE4', 'A1WOMXOEX90ARI', 'A3PD8JD9L4WEII',\n",
       "       'AD2QRU9ZXBQZ1', 'A2YMCPP3KW9IXU', 'A1I85Y08VRZ32Q',\n",
       "       'A132ETQPMHQ585', 'A1F7YU6O5RU432', 'A3A1OA237FOZFK',\n",
       "       'A2QDOJFFLFGF18', 'A19123D9G66E0O', 'A36WGHR8TO5DKT',\n",
       "       'A35W3JQYP0M655', 'A3IUW081KXD3PE', 'A2C8O554YMY2ZL',\n",
       "       'AXJ1QYBUL86ON', 'A2D1LPEUCTNT8X', 'A1K82R24ROO2I7',\n",
       "       'A383XURHVF8ON6', 'A29JUMRL1US6YP', 'A2XNJJ9TF70P4J',\n",
       "       'A3AZI828WJN1CD', 'A26NFIQ7KWI8Y7', 'A35X2JJI49OBZP',\n",
       "       'ANEDXRFDZDL18', 'AXO4PQU0XG3TG', 'A3HPZ6BIMNXSZR',\n",
       "       'A3J171NBGIBYAW', 'A1ONZ8JRPLBNUI', 'AVFA1JB08RG8G',\n",
       "       'AKZKG2Z7CNV27', 'A2YHXAZLCLDT8D', 'A3M8R4JD1SIS76',\n",
       "       'A2YB7DLC3FOR7W', 'A3DOPYDOS49I3T', 'A26HFSVLAGULIM',\n",
       "       'A2VUD4SPJO4V33', 'A3TVZM3ZIXG8YW', 'A3RR2P5IS3DGPR',\n",
       "       'AJD41FBJD9010', 'A1GYEGLX3P2Y7P', 'A348IT6M7H8A67',\n",
       "       'A2MSQNPTNAAGL1', 'A130VGG4P4PW5J', 'A18GKCC69KPR51',\n",
       "       'AB094YABX21WQ', 'AKJHHD5VEH7VG', 'A15T9G38F589KM',\n",
       "       'A35R32TA60XD57', 'ABDCYK04CL6O4', 'A1I34N9LFOSCX7',\n",
       "       'A3F3B1JPACN215', 'A6KL17KKN0A5L', 'A13WOT3RSXKRD5',\n",
       "       'A1ZPY91VE3IDN1', 'A26A64X86VL1R4', 'A3R4794K2RVU1S',\n",
       "       'A3NEAETOSXDBOM', 'A250AXLRBVYKB4', 'A29313797NGT9L',\n",
       "       'A33AQPJYH7UUXR', 'A1YJMG0QJXZLD4', 'A1GQAKL9CGQLP1',\n",
       "       'A35A5S6H1WROO6', 'A1UQBFCERIP7VJ', 'A1AEPMPA12GUJ7',\n",
       "       'A2H2I5FY1PUHP1', 'A1H7Y5XKPGT0OS', 'A1BTG38XSGYLW3',\n",
       "       'ATLO3YXU2BC16', 'A1X2LENOF84LCQ', 'AK8LOFYRZJJW0',\n",
       "       'A3CG6YLYZJXQG4', 'A3W4D8XOGLWUN5', 'A235UFZGCFN3J5',\n",
       "       'A2FRFAQCWZJT3Q', 'AF3BYMPWKWO8F', 'A10AFVU66A79Y1',\n",
       "       'A27O5ZUFAEWT9L', 'A3MZNRSDQ32UUH', 'A1TMAVN4CEM8U8',\n",
       "       'A2NI95Y8UNE85D', 'A1Z4LX3Q1YMF84', 'A2L01339XV496V',\n",
       "       'A3D6OI36USYOU1', 'A2YSFKX18XTHED', 'A7EK88GF8N40F',\n",
       "       'A2XNOB1T796Y6B', 'AJB5P7GVR0MT8', 'A3LWC833HQIG7J',\n",
       "       'A2KIVODZRTGY4U', 'A2MF0C4E7GYCI', 'A3CG93783LP0FO',\n",
       "       'A1HRYC60VTMYC0', 'A19XBW5WUDH1Z', 'AQ6AGWKWMTY8H',\n",
       "       'AJQDIT55SZ3ZX', 'A1ZSF5CJ0A4CIO', 'A1LFSTBR7L7PUT',\n",
       "       'AJCK6OKNWGIYG', 'A1IOGEZUZPII8C', 'A1W415JP5WEAJK',\n",
       "       'A1XQMQMF07QZQS', 'A33REC3J2JU2EL', 'A2RNYW2HIQBGSM',\n",
       "       'A17HMM1M7T9PJ1', 'AIQDUKFB4X38M', 'A22CW0ZHY3NJH8',\n",
       "       'AMQ1MEG334SAP', 'A2158Y2U61AU9G', 'A39SCU7KSK7330',\n",
       "       'APWCOAVILK94B', 'AO0HPTFIKQE9B', 'A1BA72K4VK1UN1',\n",
       "       'AN0N05A9LIJEQ', 'A9NXTC0HTPSDO', 'A3FY3H6F4249E0',\n",
       "       'A3BTL4FV6ODKAT', 'A1B6O7SAIYG2N0', 'A2TO2BN3P4C00L',\n",
       "       'A2PSC7LUNIDEAH', 'A16AXQ11SZA8SQ', 'A16WPA6JV83YXT',\n",
       "       'A35JP8KSV9281K', 'A353U0L2HAMSHV', 'A1P2XYD265YE21',\n",
       "       'A2BCDZO1XQLDH', 'A11ED8O95W2103', 'A2Y8IDC1FKGNJC',\n",
       "       'AQ8DU6XVA3USJ', 'A2SH7OWE8QJYNC', 'A1SCANWWQTEG9I',\n",
       "       'A1VABWDOUQLULZ', 'A3JHC8O59WDHFZ', 'AAA0TUKS5VBSA',\n",
       "       'A37CENQP0ZNKVE', 'A2U77Z3Z7DC9T9', 'A1N655X9X7C6QY',\n",
       "       'A3TBTAX85OYRKP', 'A175N19FS2B4J', 'A3KZLIEGCSSM5L',\n",
       "       'A1FDVT0DLJWV78', 'APP8XWYYV4PAA', 'A1X1CEGHTHMBL1',\n",
       "       'A20EEWWSFMZ1PN', 'A2K89R0B20LYHB', 'A1KEK09ZA6J9P8',\n",
       "       'A37GFKV81AL1VF', 'A3JLECMNWC4LDY', 'A393F381MA82AY',\n",
       "       'A2UCZAWAN5QMJQ', 'ABQN42N7ICNZQ', 'A2SZLNSI5KOQJT',\n",
       "       'AYOMAHLWRQHUG', 'A2KUUWP4ZZMOBP', 'A3IR834T7AROBT',\n",
       "       'A26LD9FQHTM8ZH', 'A1SO1PGDNVMLXC', 'A2XKJ1KX6XUHYP',\n",
       "       'A27NTHPTRXB766', 'A2DPYMNI2HCIOI', 'A3VKBFC5K2INR4',\n",
       "       'A3QJQQZTKFV7BJ', 'A1FP5ZLSKR07SU', 'A18OUQEK7IZ2F2',\n",
       "       'A4VMQ6ZTSXSSL', 'ARYSDAZNRXN6G', 'AJV2QY96IVPVM',\n",
       "       'A1080SE9X3ECK0', 'A2M9D9BDHONV3Y', 'A1W0F3F6EXIAKP',\n",
       "       'A3EBHHCZO6V2A4', 'A2OBDNQ5ZYU1L8', 'A2MNB77YGJ3CN0',\n",
       "       'A20OQMLRFNZADL', 'A3094EPI56GKZ6', 'A361PLXEWB9UC1',\n",
       "       'A2R1HUYHXV7H18', 'A38RWVWOQPYJSA', 'A29P51TN9KKMU9',\n",
       "       'AYQ8RLE0K6RU8', 'A2W9B725TZBXOX', 'A13MKSASQ6YWL7',\n",
       "       'A3HON67T38XCB5', 'A2AOD7254MCKSH', 'A2Q2GDB5XDYQV5',\n",
       "       'A1IH42TUIZ2XJL', 'A1XGFW5016CGQI', 'A1RRMZKOMZ2M7J',\n",
       "       'A1LJR5IS0B6ADX', 'A11OTLEDSW8ZXD', 'A3HJHV83O2U8BL',\n",
       "       'A1SB8CXAUIKT8X', 'A13K3ZLWAWN1EI', 'A2OWR2PL3DLWS4',\n",
       "       'A2IYLMDQGBB4VG', 'A1T1YSCDW0PD25', 'A3D9NUCR4RXDPY',\n",
       "       'AVJJ2D4G5I0Z4', 'A3T0OTH5072YRE', 'A1LZJZIHUPLDV4',\n",
       "       'AYWUHB7N8XGZQ', 'A3LAYCTGSO1IQR', 'AAH6764FP1GOZ',\n",
       "       'A3OGYXV9S7MJHM', 'ACAIEIV03NBHY', 'A1N5FSCYN4796F',\n",
       "       'A1QK0XCAPHIW1L', 'A1ODKP5Y7DPMM1', 'ACAXV4V8PBCE3',\n",
       "       'A1KOCGNDLF2VUR', 'A3QNQQKJTL76H0', 'A370Z6I5GBWU44',\n",
       "       'A100WO06OQR8BQ', 'ASFW4ZMNZJKDA', 'AWKZAUC0D8DYL',\n",
       "       'A29M09QBG9TZLP', 'A2O421DTA8J0RW', 'AT9U5ZE5OO84C',\n",
       "       'AG6TX1ZJHLMO7', 'A1JMR1N9NBYJ1X', 'A89ZZKNDFQH23',\n",
       "       'A2GY5WCU9PKTMI', 'A1Z7Y2GMAP9SRY', 'A28WXDXJA1P0MC',\n",
       "       'A3D0HMC6RQT0N0', 'A36PG3D7ILZEU2', 'A2YNIKQDLZR2WW',\n",
       "       'AK7CAW3N1XZV6', 'A1HLJJ6MKZLR3Z', 'AEL6CQNQXONBX',\n",
       "       'A58N07M0ZCYMB', 'A1BD342U8BF3UC', 'A1AEQZM99LO9VA',\n",
       "       'A2KP45DO3RY4RG', 'A1R1BFJCMWX0Y3', 'A2YQ2ZI65F37N8',\n",
       "       'A1LHAXBM5GBJS2', 'A1XVQ3KHS22E3F', 'AEC90GPFKLAAW',\n",
       "       'A10PEXB6XAQ5XF', 'A1PI8VBCXXSGC7', 'A1G60ANYI0HMEU',\n",
       "       'A2NOW4U7W3F7RI', 'ATJN4KEHJBOC8', 'A3V1A3C9DTLPME',\n",
       "       'A11YOTONCPRQ9S', 'A2SZWFJX0783BF', 'A3D6TFYRMIV3ZL',\n",
       "       'A8FJHPCMKR28F', 'A23GFTVIETX7DS', 'A106ZCP7RSXMRU',\n",
       "       'A1RLP0R1N8H8C4', 'A2PL0US7RN67G', 'AS44QEHT3KSPK',\n",
       "       'A13HRSMJ5TOWEZ', 'A4DTM6B4IBYQX', 'A20P8VC55KPPCT',\n",
       "       'A23E9ZPS2RQZS0', 'A3FKGKUCI3DG9U', 'A2XAKGRUHIE2ZA',\n",
       "       'A5Z6TIROUVA5O', 'A1WE8KTC20NY65', 'A3EPHBMU07LZ50',\n",
       "       'A1DH3QDZX8Z7GO', 'AIEEK7AHXKZCC', 'AP8D74QD9LUUL',\n",
       "       'A1A1BM6N28X9J0', 'A277GP2U2TXH51', 'ALDYWG0CPSYUF',\n",
       "       'A2X3L31KCXBHCL', 'AMPGRXQMO89X9', 'A2B8GXSCB1R05T',\n",
       "       'A2OCDK0BOW6UCY', 'A2LJJ4482V9LAW', 'A17V9XL4CWTQ6G',\n",
       "       'A1LTNRGWZFY4C9', 'A2TCY4Q5S0NO5Z', 'ALL9XFM0Q1N4E',\n",
       "       'A3BBC8E7QT7N9I', 'AGEKVD8JPZQMT', 'A3GGXJD0BMJ2W3',\n",
       "       'A2Y4S4CNGKF21S', 'A3QA0BBQW08DLZ', 'A11UPNFYDICF3C',\n",
       "       'A1M5D0DG09UGVM', 'A35TIC6B8MVKWG', 'A3EFSLEMHNPP6A',\n",
       "       'A3H6NNGCINPLEC', 'A3T1LD0C65QCWK', 'A35LT14WG5BX0T',\n",
       "       'A1MKPMJPD22YY', 'A3OJX18B60PJR9', 'A3R9H6OKZHHRJD',\n",
       "       'A4JSQFCKVKX2A', 'ACEA95FQS1AVP', 'AHKPZ11JT110F',\n",
       "       'A13GZCHAMKWYBT', 'A1QBOC76MIOJYP', 'A2OTUWUSH49XIN',\n",
       "       'A1YP5WLIHGG136', 'A1Y09QLADQYQJG', 'A3UUTDX2WNVUS3',\n",
       "       'A1VQBEW0G4IH1J', 'APP35M28G2U51', 'A3MUSWDCTZINQZ',\n",
       "       'A1ODOGXEYECQQ8', 'A5CR6GP49HVEE', 'A10G136JEISLVR',\n",
       "       'ALDAF4VVLFRHP', 'A3BFDEBT5IV4UN', 'A18L1CVUIQRE9L',\n",
       "       'A1R377IPZOKLMM', 'A17GK9E70O7Y9R', 'A38OCDJQOAQ2XG',\n",
       "       'A42CJC66XO0H7', 'A37MH7ICH80QOX', 'AUW5XC67E9MIL',\n",
       "       'A3QDITMY3OOYRP', 'A1P27BGF8NAI29', 'AUITG1DJ3QUGK',\n",
       "       'A25C5MVVCIYT5D', 'ANCOMAI0I7LVG', 'A27L5L6I7OSV5B',\n",
       "       'AQ52JX9ES6XYY', 'A1UMSB7LAW0RIR', 'A11I1I9QLMAM1A',\n",
       "       'A12ENBT314RFXR', 'A1X3ESYZ79H59E', 'A16KK3YHCWE29C',\n",
       "       'AI0NMYA3LKXW1', 'A2UTZ7HH4UKDZW', 'A204QN2VRUQA9B',\n",
       "       'A325RWA8LHK2QJ', 'A3IE3TQ79W0YOR', 'A36JDIN9RAAIEC',\n",
       "       'A2QJF1B00I7BT7', 'A1EP7ITUDTNXC6', 'A2IUBJJBH9PF9R',\n",
       "       'A1TJT6GXDGNN8Q', 'A1BL2TCE749NB8', 'A24TI0FXW07810',\n",
       "       'ADHB7JK4M6J7K', 'A2RN5EQC3F75PJ', 'A2T5VEAFT6PUH3'], dtype=object)"
      ]
     },
     "execution_count": 69,
     "metadata": {},
     "output_type": "execute_result"
    }
   ],
   "source": [
    "user_ids"
   ]
  },
  {
   "cell_type": "code",
   "execution_count": 31,
   "metadata": {},
   "outputs": [],
   "source": [
    "uidx= df_final['user_index'].values.astype(np.int64)\n",
    "pidx = df_final['product_index'].values.astype(np.int64)"
   ]
  },
  {
   "cell_type": "code",
   "execution_count": 32,
   "metadata": {},
   "outputs": [
    {
     "data": {
      "text/plain": [
       "array([  0,   1,   2, ...,  39,  72, 196], dtype=int64)"
      ]
     },
     "execution_count": 32,
     "metadata": {},
     "output_type": "execute_result"
    }
   ],
   "source": [
    "uidx"
   ]
  },
  {
   "cell_type": "code",
   "execution_count": 33,
   "metadata": {},
   "outputs": [],
   "source": [
    "# Create a new DataFrame with converted data arrays\n",
    "df_converted = pd.DataFrame({'UsecrId': uidx, 'ProductId': pidx, 'Score': 0})\n",
    "\n",
    "# Create pivot table with the converted DataFrame\n",
    "final_ratings_matrix = pd.pivot_table(df_converted, index='UserId', columns='ProductId', values='Score')\n",
    "final_ratings_matrix.fillna(0, inplace=True)\n",
    "\n",
    "array3 = final_ratings_matrix.reset_index().melt(id_vars=['UserId'], value_vars=final_ratings_matrix.columns)\n",
    "#array3.columns = ['UserId', 'ProductId', 'Score']\n",
    "array3 = array3[['UserId', 'ProductId']].values.astype(np.int64)"
   ]
  },
  {
   "cell_type": "code",
   "execution_count": null,
   "metadata": {
    "scrolled": true
   },
   "outputs": [],
   "source": [
    "# Predict the ratings for the test set\n",
    "ratings = model.predict(array3)\n",
    "\n",
    "# Inverse transform the scaled ratings to get the actual ratings\n",
    "predicted_ratings = scaler.inverse_transform(ratings)\n",
    "\n",
    "predicted_ratings"
   ]
  },
  {
   "cell_type": "code",
   "execution_count": null,
   "metadata": {},
   "outputs": [],
   "source": [
    "array3.shape"
   ]
  },
  {
   "cell_type": "code",
   "execution_count": null,
   "metadata": {},
   "outputs": [],
   "source": [
    "df_predicted = pd.DataFrame(array3, columns=['UserId', 'ProductId'])\n",
    "df_predicted['PredictedRatings']=predicted_ratings\n",
    "df_predicted"
   ]
  },
  {
   "cell_type": "code",
   "execution_count": null,
   "metadata": {},
   "outputs": [],
   "source": [
    "# Rename the columns back to 'UserId' and 'ProductId'\n",
    "df_predicted = df_predicted.rename(columns={'UserId': 'user_index', 'ProductId': 'product_index'})\n",
    "\n",
    "# Convert the user index back to 'UserId'\n",
    "df_predicted['user_index'] = df_predicted['user_index'].map(index_to_user_id)\n",
    "# Convert the user index back to 'UserId'\n",
    "df_predicted['product_index'] = df_predicted['product_index'].map(index_to_product_id)\n",
    "\n",
    "df_predicted = df_predicted.rename(columns={'user_index': 'UserId',\n",
    "                                           'product_index':'ProductId'})"
   ]
  },
  {
   "cell_type": "code",
   "execution_count": null,
   "metadata": {},
   "outputs": [],
   "source": [
    "df_predicted"
   ]
  },
  {
   "cell_type": "code",
   "execution_count": null,
   "metadata": {},
   "outputs": [],
   "source": [
    "# Specify the user ID for which you want to find related product IDs\n",
    "user_id = 'A2A9X58G2GTBLP'\n",
    "\n",
    "# Filter the DataFrame for the specified user ID\n",
    "user_data = df_predicted[df_predicted['UserId'] == user_id]\n",
    "\n",
    "# Get the unique product IDs for the user\n",
    "product_ids = user_data['ProductId']\n",
    "scorepredict = user_data['PredictedRatings']\n",
    "\n",
    "print(\"Product IDs related to User ID\", user_id)\n",
    "sorting_data = user_data.sort_values(by='PredictedRatings',ascending=False)\n",
    "sorting_data"
   ]
  },
  {
   "cell_type": "markdown",
   "metadata": {},
   "source": [
    "### Sort the DataFrame by the 'score' column in descending order\n",
    "sorted_df = df_final.sort_values(by='score', ascending=False)\n",
    "\n",
    "print(sorted_df)\n"
   ]
  },
  {
   "cell_type": "code",
   "execution_count": null,
   "metadata": {},
   "outputs": [],
   "source": [
    "df_predicted.to_csv('ratingpredict_resulted.csv', index=False)"
   ]
  },
  {
   "cell_type": "code",
   "execution_count": 35,
   "metadata": {},
   "outputs": [
    {
     "data": {
      "image/png": "[encoded data removed]",
      "text/plain": [
       "<Figure size 1200x400 with 2 Axes>"
      ]
     },
     "metadata": {},
     "output_type": "display_data"
    }
   ],
   "source": [
    "# Plot the model accuracy and loss\n",
    "plt.figure(figsize=(12, 4))\n",
    "plt.subplot(1, 2, 1)\n",
    "plt.plot(history.history['accuracy'], label='Training Accuracy')\n",
    "plt.plot(history.history['val_accuracy'], label='Validation Accuracy')\n",
    "plt.xlabel('Epochs')\n",
    "plt.ylabel('Accuracy')\n",
    "plt.legend()\n",
    "\n",
    "plt.subplot(1, 2, 2)\n",
    "plt.plot(history.history['loss'], label='Training Loss')\n",
    "plt.plot(history.history['val_loss'], label='Validation Loss')\n",
    "plt.xlabel('Epochs')\n",
    "plt.ylabel('Loss')\n",
    "plt.legend()\n",
    "\n",
    "plt.tight_layout()\n",
    "plt.show()"
   ]
  },
  {
   "cell_type": "markdown",
   "metadata": {},
   "source": [
    "# Convert model to TF LITE or H5"
   ]
  },
  {
   "cell_type": "code",
   "execution_count": null,
   "metadata": {},
   "outputs": [],
   "source": [
    "export_dir = 'saved_model/1'\n",
    "tf.saved_model.save(model, export_dir)"
   ]
  },
  {
   "cell_type": "code",
   "execution_count": null,
   "metadata": {},
   "outputs": [],
   "source": [
    "#POST TRAIN QUANTIZATION\n",
    "converter.optimizations = [tf.lite.Optimize.DEFAULT]"
   ]
  },
  {
   "cell_type": "code",
   "execution_count": null,
   "metadata": {},
   "outputs": [],
   "source": [
    "# Convert the model.\n",
    "converter = tf.lite.TFLiteConverter.from_saved_model(export_dir)\n",
    "converter._experimental_lower_tensor_list_ops = False\n",
    "converter.target_spec.supported_ops = [tf.lite.OpsSet.TFLITE_BUILTINS, tf.lite.OpsSet.SELECT_TF_OPS]\n",
    "\n",
    "tflite_model = converter.convert()"
   ]
  },
  {
   "cell_type": "code",
   "execution_count": null,
   "metadata": {},
   "outputs": [],
   "source": [
    "import pathlib\n",
    "tflite_model_file = pathlib.Path(export_dir+'/recommender_model_64up.tflite')\n",
    "tflite_model_file.write_bytes(tflite_model)"
   ]
  },
  {
   "cell_type": "code",
   "execution_count": null,
   "metadata": {},
   "outputs": [],
   "source": [
    "model.save(export_dir+'/recommender_model.h5')"
   ]
  },
  {
   "cell_type": "code",
   "execution_count": null,
   "metadata": {},
   "outputs": [],
   "source": [
    "import tensorflow as tf\n",
    "\n",
    "interpreter = tf.lite.Interpreter(model_path=export_dir+'/recommender_model_64up.tflite')\n",
    "interpreter.allocate_tensors()\n",
    "\n",
    "# Print input shape and type\n",
    "inputs = interpreter.get_input_details()\n",
    "print('{} input(s):'.format(len(inputs)))\n",
    "for i in range(0, len(inputs)):\n",
    "    print('{} {}'.format(inputs[i]['shape'], inputs[i]['dtype']))\n",
    "\n",
    "# Print output shape and type\n",
    "outputs = interpreter.get_output_details()\n",
    "print('\\n{} output(s):'.format(len(outputs)))\n",
    "for i in range(0, len(outputs)):\n",
    "    print('{} {}'.format(outputs[i]['shape'], outputs[i]['dtype']))"
   ]
  },
  {
   "cell_type": "markdown",
   "metadata": {},
   "source": [
    "# try to load model then run"
   ]
  },
  {
   "cell_type": "code",
   "execution_count": 79,
   "metadata": {},
   "outputs": [
    {
     "name": "stdout",
     "output_type": "stream",
     "text": [
      "Collecting pipreqs\n",
      "  Downloading pipreqs-0.4.13-py2.py3-none-any.whl (33 kB)\n",
      "Collecting docopt (from pipreqs)\n",
      "  Downloading docopt-0.6.2.tar.gz (25 kB)\n",
      "  Preparing metadata (setup.py): started\n",
      "  Preparing metadata (setup.py): finished with status 'done'\n",
      "Collecting yarg (from pipreqs)\n",
      "  Downloading yarg-0.1.9-py2.py3-none-any.whl (19 kB)\n",
      "Requirement already satisfied: requests in e:\\tfrs\\tfrs\\lib\\site-packages (from yarg->pipreqs) (2.31.0)\n",
      "Requirement already satisfied: charset-normalizer<4,>=2 in e:\\tfrs\\tfrs\\lib\\site-packages (from requests->yarg->pipreqs) (3.1.0)\n",
      "Requirement already satisfied: idna<4,>=2.5 in e:\\tfrs\\tfrs\\lib\\site-packages (from requests->yarg->pipreqs) (3.4)\n",
      "Requirement already satisfied: urllib3<3,>=1.21.1 in e:\\tfrs\\tfrs\\lib\\site-packages (from requests->yarg->pipreqs) (1.26.16)\n",
      "Requirement already satisfied: certifi>=2017.4.17 in e:\\tfrs\\tfrs\\lib\\site-packages (from requests->yarg->pipreqs) (2023.5.7)\n",
      "Building wheels for collected packages: docopt\n",
      "  Building wheel for docopt (setup.py): started\n",
      "  Building wheel for docopt (setup.py): finished with status 'done'\n",
      "  Created wheel for docopt: filename=docopt-0.6.2-py2.py3-none-any.whl size=13793 sha256=b1de3b5f1adde27f3c67ad82b07bcd9502d70d051cfb907fb29ec97853a9d815\n",
      "  Stored in directory: c:\\users\\widih\\appdata\\local\\pip\\cache\\wheels\\fc\\ab\\d4\\5da2067ac95b36618c629a5f93f809425700506f72c9732fac\n",
      "Successfully built docopt\n",
      "Installing collected packages: docopt, yarg, pipreqs\n",
      "Successfully installed docopt-0.6.2 pipreqs-0.4.13 yarg-0.1.9\n"
     ]
    }
   ],
   "source": [
    "!pip install pipreqs"
   ]
  },
  {
   "cell_type": "code",
   "execution_count": 81,
   "metadata": {},
   "outputs": [],
   "source": [
    "import subprocess\n",
    "\n",
    "# Run pip freeze command to get installed packages\n",
    "pip_freeze = subprocess.check_output(['pip', 'freeze']).decode('utf-8')\n",
    "\n",
    "# Write the requirements to a requirements.txt file\n",
    "with open('requirements.txt', 'w') as file:\n",
    "    file.write(pip_freeze)"
   ]
  },
  {
   "cell_type": "code",
   "execution_count": null,
   "metadata": {},
   "outputs": [],
   "source": []
  }
 ],
 "metadata": {
  "kernelspec": {
   "display_name": "tfrs",
   "language": "python",
   "name": "tfrs"
  },
  "language_info": {
   "codemirror_mode": {
    "name": "ipython",
    "version": 3
   },
   "file_extension": ".py",
   "mimetype": "text/x-python",
   "name": "python",
   "nbconvert_exporter": "python",
   "pygments_lexer": "ipython3",
   "version": "3.10.4"
  }
 },
 "nbformat": 4,
 "nbformat_minor": 4
}
