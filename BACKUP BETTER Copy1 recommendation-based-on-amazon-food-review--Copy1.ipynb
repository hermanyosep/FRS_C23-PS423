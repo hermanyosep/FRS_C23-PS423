{
 "cells": [
  {
   "cell_type": "markdown",
   "metadata": {},
   "source": [
    "# Import Necessary Libraries "
   ]
  },
  {
   "cell_type": "code",
   "execution_count": 1,
   "metadata": {
    "_cell_guid": "b1076dfc-b9ad-4769-8c92-a6c4dae69d19",
    "_uuid": "8f2839f25d086af736a60e9eeb907d3b93b6e0e5"
   },
   "outputs": [
    {
     "data": {
      "text/plain": [
       "\"\\nimport os\\nfor dirname, _, filenames in os.walk('E:\\\\TFRS\\\\'):\\n    for filename in filenames:\\n        print(os.path.join(dirname, filename))\\n\""
      ]
     },
     "execution_count": 1,
     "metadata": {},
     "output_type": "execute_result"
    }
   ],
   "source": [
    "# This Python 3 environment comes with many helpful analytics libraries installed\n",
    "# It is defined by the kaggle/python docker image: https://github.com/kaggle/docker-python\n",
    "# For example, here's several helpful packages to load in \n",
    "\n",
    "import numpy as np\n",
    "import pandas as pd\n",
    "import math\n",
    "import json\n",
    "import time\n",
    "import matplotlib.pyplot as plt\n",
    "import seaborn as sns\n",
    "from sklearn.metrics.pairwise import cosine_similarity\n",
    "from sklearn.model_selection import train_test_split\n",
    "from sklearn.neighbors import NearestNeighbors\n",
    "#from sklearn.externals import joblib\n",
    "import scipy.sparse\n",
    "from scipy.sparse import csr_matrix\n",
    "import warnings; warnings.simplefilter('ignore')\n",
    "%matplotlib inline\n",
    "\n",
    "import tensorflow as tf\n",
    "from tensorflow.keras.preprocessing.text import Tokenizer\n",
    "from tensorflow.keras.preprocessing.sequence import pad_sequences\n",
    "from tensorflow.keras.models import Sequential\n",
    "from tensorflow.keras.layers import Dense, Embedding, Flatten, LSTM\n",
    "\n",
    "# Input data files are available in the \"../input/\" directory.\n",
    "# For example, running this (by clicking run or pressing Shift+Enter) will list all files under the input directory\n",
    "'''\n",
    "import os\n",
    "for dirname, _, filenames in os.walk('E:\\\\TFRS\\\\'):\n",
    "    for filename in filenames:\n",
    "        print(os.path.join(dirname, filename))\n",
    "'''\n",
    "# Any results you write to the current directory are saved as output."
   ]
  },
  {
   "cell_type": "markdown",
   "metadata": {},
   "source": [
    "# Importing the Dataset"
   ]
  },
  {
   "cell_type": "markdown",
   "metadata": {},
   "source": [
    "## Read and Explore the Data"
   ]
  },
  {
   "cell_type": "code",
   "execution_count": 2,
   "metadata": {
    "_cell_guid": "79c7e3d0-c299-4dcb-8224-4455121ee9b0",
    "_uuid": "d629ff2d2480ee46fbb7e2d37f6b5fab8052498a"
   },
   "outputs": [],
   "source": [
    "#Import the data set\n",
    "df = pd.read_csv('Reviews.csv')\n"
   ]
  },
  {
   "cell_type": "code",
   "execution_count": 3,
   "metadata": {},
   "outputs": [
    {
     "data": {
      "text/html": [
       "<div>\n",
       "<style scoped>\n",
       "    .dataframe tbody tr th:only-of-type {\n",
       "        vertical-align: middle;\n",
       "    }\n",
       "\n",
       "    .dataframe tbody tr th {\n",
       "        vertical-align: top;\n",
       "    }\n",
       "\n",
       "    .dataframe thead th {\n",
       "        text-align: right;\n",
       "    }\n",
       "</style>\n",
       "<table border=\"1\" class=\"dataframe\">\n",
       "  <thead>\n",
       "    <tr style=\"text-align: right;\">\n",
       "      <th></th>\n",
       "      <th>Id</th>\n",
       "      <th>ProductId</th>\n",
       "      <th>UserId</th>\n",
       "      <th>ProfileName</th>\n",
       "      <th>HelpfulnessNumerator</th>\n",
       "      <th>HelpfulnessDenominator</th>\n",
       "      <th>Score</th>\n",
       "      <th>Time</th>\n",
       "      <th>Summary</th>\n",
       "      <th>Text</th>\n",
       "    </tr>\n",
       "  </thead>\n",
       "  <tbody>\n",
       "    <tr>\n",
       "      <th>0</th>\n",
       "      <td>1</td>\n",
       "      <td>B001E4KFG0</td>\n",
       "      <td>A3SGXH7AUHU8GW</td>\n",
       "      <td>delmartian</td>\n",
       "      <td>1</td>\n",
       "      <td>1</td>\n",
       "      <td>5</td>\n",
       "      <td>1303862400</td>\n",
       "      <td>Good Quality Dog Food</td>\n",
       "      <td>I have bought several of the Vitality canned d...</td>\n",
       "    </tr>\n",
       "    <tr>\n",
       "      <th>1</th>\n",
       "      <td>2</td>\n",
       "      <td>B00813GRG4</td>\n",
       "      <td>A1D87F6ZCVE5NK</td>\n",
       "      <td>dll pa</td>\n",
       "      <td>0</td>\n",
       "      <td>0</td>\n",
       "      <td>1</td>\n",
       "      <td>1346976000</td>\n",
       "      <td>Not as Advertised</td>\n",
       "      <td>Product arrived labeled as Jumbo Salted Peanut...</td>\n",
       "    </tr>\n",
       "    <tr>\n",
       "      <th>2</th>\n",
       "      <td>3</td>\n",
       "      <td>B000LQOCH0</td>\n",
       "      <td>ABXLMWJIXXAIN</td>\n",
       "      <td>Natalia Corres \"Natalia Corres\"</td>\n",
       "      <td>1</td>\n",
       "      <td>1</td>\n",
       "      <td>4</td>\n",
       "      <td>1219017600</td>\n",
       "      <td>\"Delight\" says it all</td>\n",
       "      <td>This is a confection that has been around a fe...</td>\n",
       "    </tr>\n",
       "    <tr>\n",
       "      <th>3</th>\n",
       "      <td>4</td>\n",
       "      <td>B000UA0QIQ</td>\n",
       "      <td>A395BORC6FGVXV</td>\n",
       "      <td>Karl</td>\n",
       "      <td>3</td>\n",
       "      <td>3</td>\n",
       "      <td>2</td>\n",
       "      <td>1307923200</td>\n",
       "      <td>Cough Medicine</td>\n",
       "      <td>If you are looking for the secret ingredient i...</td>\n",
       "    </tr>\n",
       "    <tr>\n",
       "      <th>4</th>\n",
       "      <td>5</td>\n",
       "      <td>B006K2ZZ7K</td>\n",
       "      <td>A1UQRSCLF8GW1T</td>\n",
       "      <td>Michael D. Bigham \"M. Wassir\"</td>\n",
       "      <td>0</td>\n",
       "      <td>0</td>\n",
       "      <td>5</td>\n",
       "      <td>1350777600</td>\n",
       "      <td>Great taffy</td>\n",
       "      <td>Great taffy at a great price.  There was a wid...</td>\n",
       "    </tr>\n",
       "  </tbody>\n",
       "</table>\n",
       "</div>"
      ],
      "text/plain": [
       "   Id   ProductId          UserId                      ProfileName   \n",
       "0   1  B001E4KFG0  A3SGXH7AUHU8GW                       delmartian  \\\n",
       "1   2  B00813GRG4  A1D87F6ZCVE5NK                           dll pa   \n",
       "2   3  B000LQOCH0   ABXLMWJIXXAIN  Natalia Corres \"Natalia Corres\"   \n",
       "3   4  B000UA0QIQ  A395BORC6FGVXV                             Karl   \n",
       "4   5  B006K2ZZ7K  A1UQRSCLF8GW1T    Michael D. Bigham \"M. Wassir\"   \n",
       "\n",
       "   HelpfulnessNumerator  HelpfulnessDenominator  Score        Time   \n",
       "0                     1                       1      5  1303862400  \\\n",
       "1                     0                       0      1  1346976000   \n",
       "2                     1                       1      4  1219017600   \n",
       "3                     3                       3      2  1307923200   \n",
       "4                     0                       0      5  1350777600   \n",
       "\n",
       "                 Summary                                               Text  \n",
       "0  Good Quality Dog Food  I have bought several of the Vitality canned d...  \n",
       "1      Not as Advertised  Product arrived labeled as Jumbo Salted Peanut...  \n",
       "2  \"Delight\" says it all  This is a confection that has been around a fe...  \n",
       "3         Cough Medicine  If you are looking for the secret ingredient i...  \n",
       "4            Great taffy  Great taffy at a great price.  There was a wid...  "
      ]
     },
     "execution_count": 3,
     "metadata": {},
     "output_type": "execute_result"
    }
   ],
   "source": [
    "df.head()"
   ]
  },
  {
   "cell_type": "code",
   "execution_count": 4,
   "metadata": {},
   "outputs": [],
   "source": [
    "# Dropping the columns\n",
    "df = df.drop(['Id', 'ProfileName','Time','HelpfulnessNumerator','HelpfulnessDenominator','Text','Summary'], axis = 1) \n"
   ]
  },
  {
   "cell_type": "code",
   "execution_count": 5,
   "metadata": {},
   "outputs": [
    {
     "data": {
      "text/html": [
       "<div>\n",
       "<style scoped>\n",
       "    .dataframe tbody tr th:only-of-type {\n",
       "        vertical-align: middle;\n",
       "    }\n",
       "\n",
       "    .dataframe tbody tr th {\n",
       "        vertical-align: top;\n",
       "    }\n",
       "\n",
       "    .dataframe thead th {\n",
       "        text-align: right;\n",
       "    }\n",
       "</style>\n",
       "<table border=\"1\" class=\"dataframe\">\n",
       "  <thead>\n",
       "    <tr style=\"text-align: right;\">\n",
       "      <th></th>\n",
       "      <th>ProductId</th>\n",
       "      <th>UserId</th>\n",
       "      <th>Score</th>\n",
       "    </tr>\n",
       "  </thead>\n",
       "  <tbody>\n",
       "    <tr>\n",
       "      <th>568449</th>\n",
       "      <td>B001EO7N10</td>\n",
       "      <td>A28KG5XORO54AY</td>\n",
       "      <td>5</td>\n",
       "    </tr>\n",
       "    <tr>\n",
       "      <th>568450</th>\n",
       "      <td>B003S1WTCU</td>\n",
       "      <td>A3I8AFVPEE8KI5</td>\n",
       "      <td>2</td>\n",
       "    </tr>\n",
       "    <tr>\n",
       "      <th>568451</th>\n",
       "      <td>B004I613EE</td>\n",
       "      <td>A121AA1GQV751Z</td>\n",
       "      <td>5</td>\n",
       "    </tr>\n",
       "    <tr>\n",
       "      <th>568452</th>\n",
       "      <td>B004I613EE</td>\n",
       "      <td>A3IBEVCTXKNOH</td>\n",
       "      <td>5</td>\n",
       "    </tr>\n",
       "    <tr>\n",
       "      <th>568453</th>\n",
       "      <td>B001LR2CU2</td>\n",
       "      <td>A3LGQPJCZVL9UC</td>\n",
       "      <td>5</td>\n",
       "    </tr>\n",
       "  </tbody>\n",
       "</table>\n",
       "</div>"
      ],
      "text/plain": [
       "         ProductId          UserId  Score\n",
       "568449  B001EO7N10  A28KG5XORO54AY      5\n",
       "568450  B003S1WTCU  A3I8AFVPEE8KI5      2\n",
       "568451  B004I613EE  A121AA1GQV751Z      5\n",
       "568452  B004I613EE   A3IBEVCTXKNOH      5\n",
       "568453  B001LR2CU2  A3LGQPJCZVL9UC      5"
      ]
     },
     "execution_count": 5,
     "metadata": {},
     "output_type": "execute_result"
    }
   ],
   "source": [
    "# see few rows of the imported dataset\n",
    "df.tail()"
   ]
  },
  {
   "cell_type": "code",
   "execution_count": 6,
   "metadata": {},
   "outputs": [
    {
     "name": "stdout",
     "output_type": "stream",
     "text": [
      "No of rows:  568454\n",
      "No of columns:  3\n"
     ]
    }
   ],
   "source": [
    "# Check the number of rows and columns\n",
    "rows, columns = df.shape\n",
    "print(\"No of rows: \", rows) \n",
    "print(\"No of columns: \", columns) "
   ]
  },
  {
   "cell_type": "code",
   "execution_count": 7,
   "metadata": {},
   "outputs": [
    {
     "data": {
      "text/plain": [
       "ProductId    object\n",
       "UserId       object\n",
       "Score         int64\n",
       "dtype: object"
      ]
     },
     "execution_count": 7,
     "metadata": {},
     "output_type": "execute_result"
    }
   ],
   "source": [
    "#Check Data types\n",
    "df.dtypes"
   ]
  },
  {
   "cell_type": "code",
   "execution_count": 8,
   "metadata": {},
   "outputs": [
    {
     "name": "stdout",
     "output_type": "stream",
     "text": [
      "Number of missing values across columns-\n",
      " ProductId    0\n",
      "UserId       0\n",
      "Score        0\n",
      "dtype: int64\n"
     ]
    }
   ],
   "source": [
    "# Check for missing values present\n",
    "print('Number of missing values across columns-\\n', df.isnull().sum())"
   ]
  },
  {
   "cell_type": "markdown",
   "metadata": {},
   "source": [
    "### There are no missing values with total records 568454\n"
   ]
  },
  {
   "cell_type": "code",
   "execution_count": 9,
   "metadata": {},
   "outputs": [
    {
     "data": {
      "text/html": [
       "<div>\n",
       "<style scoped>\n",
       "    .dataframe tbody tr th:only-of-type {\n",
       "        vertical-align: middle;\n",
       "    }\n",
       "\n",
       "    .dataframe tbody tr th {\n",
       "        vertical-align: top;\n",
       "    }\n",
       "\n",
       "    .dataframe thead th {\n",
       "        text-align: right;\n",
       "    }\n",
       "</style>\n",
       "<table border=\"1\" class=\"dataframe\">\n",
       "  <thead>\n",
       "    <tr style=\"text-align: right;\">\n",
       "      <th></th>\n",
       "      <th>count</th>\n",
       "      <th>mean</th>\n",
       "      <th>std</th>\n",
       "      <th>min</th>\n",
       "      <th>25%</th>\n",
       "      <th>50%</th>\n",
       "      <th>75%</th>\n",
       "      <th>max</th>\n",
       "    </tr>\n",
       "  </thead>\n",
       "  <tbody>\n",
       "    <tr>\n",
       "      <th>Score</th>\n",
       "      <td>568454.0</td>\n",
       "      <td>4.183199</td>\n",
       "      <td>1.310436</td>\n",
       "      <td>1.0</td>\n",
       "      <td>4.0</td>\n",
       "      <td>5.0</td>\n",
       "      <td>5.0</td>\n",
       "      <td>5.0</td>\n",
       "    </tr>\n",
       "  </tbody>\n",
       "</table>\n",
       "</div>"
      ],
      "text/plain": [
       "          count      mean       std  min  25%  50%  75%  max\n",
       "Score  568454.0  4.183199  1.310436  1.0  4.0  5.0  5.0  5.0"
      ]
     },
     "execution_count": 9,
     "metadata": {},
     "output_type": "execute_result"
    }
   ],
   "source": [
    "# Summary statistics of 'rating' variable\n",
    "df[['Score']].describe().transpose()"
   ]
  },
  {
   "cell_type": "code",
   "execution_count": 10,
   "metadata": {},
   "outputs": [
    {
     "name": "stdout",
     "output_type": "stream",
     "text": [
      "The minimum rating is: 1\n",
      "The maximum rating is: 5\n"
     ]
    }
   ],
   "source": [
    "# find minimum and maximum ratings \n",
    "\n",
    "def find_min_max_rating():\n",
    "    print('The minimum rating is: %d' %(df['Score'].min()))\n",
    "    print('The maximum rating is: %d' %(df['Score'].max()))\n",
    "    \n",
    "find_min_max_rating() "
   ]
  },
  {
   "cell_type": "markdown",
   "metadata": {},
   "source": [
    "### Ratings are on scale of 1 - 5\n"
   ]
  },
  {
   "cell_type": "code",
   "execution_count": 11,
   "metadata": {},
   "outputs": [
    {
     "data": {
      "image/png": "[encoded data removed]",
      "text/plain": [
       "<Figure size 640x480 with 1 Axes>"
      ]
     },
     "metadata": {},
     "output_type": "display_data"
    }
   ],
   "source": [
    "# Check the distribution of ratings\n",
    "with sns.axes_style('white'):\n",
    "    g = sns.countplot(data=df, x=\"Score\")\n",
    "    g.set_ylabel(\"Total number of ratings\")\n"
   ]
  },
  {
   "cell_type": "code",
   "execution_count": 12,
   "metadata": {},
   "outputs": [
    {
     "name": "stdout",
     "output_type": "stream",
     "text": [
      "Number of unique USERS in Raw data =  256059\n",
      "Number of unique ITEMS in Raw data =  74258\n"
     ]
    }
   ],
   "source": [
    "# Number of unique user id and product id in the data\n",
    "print('Number of unique USERS in Raw data = ', df['UserId'].nunique())\n",
    "print('Number of unique ITEMS in Raw data = ', df['ProductId'].nunique())"
   ]
  },
  {
   "cell_type": "markdown",
   "metadata": {},
   "source": [
    "### Take subset of dataset to make it less sparse/more dense. ( For example, keep the users only who has given 50 or more number of ratings )"
   ]
  },
  {
   "cell_type": "code",
   "execution_count": 13,
   "metadata": {},
   "outputs": [
    {
     "data": {
      "text/plain": [
       "UserId\n",
       "A3OXHLG6DIBRW8    448\n",
       "A1YUL9PCJR3JTY    421\n",
       "AY12DBB0U420B     389\n",
       "A281NPSIMI1C2R    365\n",
       "A1Z54EM24Y40LL    256\n",
       "dtype: int64"
      ]
     },
     "execution_count": 13,
     "metadata": {},
     "output_type": "execute_result"
    }
   ],
   "source": [
    "# Top 10 users based on rating\n",
    "most_rated = df.groupby('UserId').size().sort_values(ascending=False)[:5]\n",
    "most_rated"
   ]
  },
  {
   "cell_type": "markdown",
   "metadata": {},
   "source": [
    "### Data model preparation as per requirement on number of minimum ratings\n"
   ]
  },
  {
   "cell_type": "code",
   "execution_count": 14,
   "metadata": {},
   "outputs": [],
   "source": [
    "counts = df['UserId'].value_counts()\n",
    "df_final = df[df['UserId'].isin(counts[counts >= 50].index)]"
   ]
  },
  {
   "cell_type": "code",
   "execution_count": 15,
   "metadata": {},
   "outputs": [
    {
     "data": {
      "text/plain": [
       "UserId\n",
       "A3OXHLG6DIBRW8    448\n",
       "A1YUL9PCJR3JTY    421\n",
       "AY12DBB0U420B     389\n",
       "A281NPSIMI1C2R    365\n",
       "A1Z54EM24Y40LL    256\n",
       "                 ... \n",
       "A2O8OFVSTO9PF3      1\n",
       "A1C6KXG47GAQ7B      1\n",
       "A1TU5DS89D9OVD      1\n",
       "A3N005JS5FG5FI      1\n",
       "A3LGQPJCZVL9UC      1\n",
       "Name: count, Length: 256059, dtype: int64"
      ]
     },
     "execution_count": 15,
     "metadata": {},
     "output_type": "execute_result"
    }
   ],
   "source": [
    "counts"
   ]
  },
  {
   "cell_type": "code",
   "execution_count": 16,
   "metadata": {},
   "outputs": [
    {
     "data": {
      "text/html": [
       "<div>\n",
       "<style scoped>\n",
       "    .dataframe tbody tr th:only-of-type {\n",
       "        vertical-align: middle;\n",
       "    }\n",
       "\n",
       "    .dataframe tbody tr th {\n",
       "        vertical-align: top;\n",
       "    }\n",
       "\n",
       "    .dataframe thead th {\n",
       "        text-align: right;\n",
       "    }\n",
       "</style>\n",
       "<table border=\"1\" class=\"dataframe\">\n",
       "  <thead>\n",
       "    <tr style=\"text-align: right;\">\n",
       "      <th></th>\n",
       "      <th>ProductId</th>\n",
       "      <th>UserId</th>\n",
       "      <th>Score</th>\n",
       "    </tr>\n",
       "  </thead>\n",
       "  <tbody>\n",
       "    <tr>\n",
       "      <th>14</th>\n",
       "      <td>B001GVISJM</td>\n",
       "      <td>A2MUGFV2TDQ47K</td>\n",
       "      <td>5</td>\n",
       "    </tr>\n",
       "    <tr>\n",
       "      <th>44</th>\n",
       "      <td>B001EO5QW8</td>\n",
       "      <td>A2G7B7FKP2O2PU</td>\n",
       "      <td>5</td>\n",
       "    </tr>\n",
       "    <tr>\n",
       "      <th>46</th>\n",
       "      <td>B001EO5QW8</td>\n",
       "      <td>AQLL2R1PPR46X</td>\n",
       "      <td>5</td>\n",
       "    </tr>\n",
       "    <tr>\n",
       "      <th>109</th>\n",
       "      <td>B001REEG6C</td>\n",
       "      <td>AY12DBB0U420B</td>\n",
       "      <td>5</td>\n",
       "    </tr>\n",
       "    <tr>\n",
       "      <th>141</th>\n",
       "      <td>B001GVISJW</td>\n",
       "      <td>A2YIO225BTKVPU</td>\n",
       "      <td>4</td>\n",
       "    </tr>\n",
       "  </tbody>\n",
       "</table>\n",
       "</div>"
      ],
      "text/plain": [
       "      ProductId          UserId  Score\n",
       "14   B001GVISJM  A2MUGFV2TDQ47K      5\n",
       "44   B001EO5QW8  A2G7B7FKP2O2PU      5\n",
       "46   B001EO5QW8   AQLL2R1PPR46X      5\n",
       "109  B001REEG6C   AY12DBB0U420B      5\n",
       "141  B001GVISJW  A2YIO225BTKVPU      4"
      ]
     },
     "execution_count": 16,
     "metadata": {},
     "output_type": "execute_result"
    }
   ],
   "source": [
    "df_final.head()"
   ]
  },
  {
   "cell_type": "code",
   "execution_count": 17,
   "metadata": {},
   "outputs": [
    {
     "name": "stdout",
     "output_type": "stream",
     "text": [
      "Number of users who have rated 50 or more items = 22941\n",
      "Number of unique USERS in final data =  267\n",
      "Number of unique ITEMS in final data =  11313\n"
     ]
    }
   ],
   "source": [
    "print('Number of users who have rated 50 or more items =', len(df_final))\n",
    "print('Number of unique USERS in final data = ', df_final['UserId'].nunique())\n",
    "print('Number of unique ITEMS in final data = ', df_final['ProductId'].nunique())"
   ]
  },
  {
   "cell_type": "markdown",
   "metadata": {},
   "source": [
    "#### df_final has users  who have rated 50 or more items"
   ]
  },
  {
   "cell_type": "markdown",
   "metadata": {},
   "source": [
    "#### Calculate the density of the rating matrix"
   ]
  },
  {
   "cell_type": "code",
   "execution_count": 18,
   "metadata": {},
   "outputs": [
    {
     "name": "stdout",
     "output_type": "stream",
     "text": [
      "Shape of final_ratings_matrix:  (267, 11313)\n",
      "given_num_of_ratings =  20829\n",
      "possible_num_of_ratings =  3020571\n",
      "density: 0.69%\n"
     ]
    }
   ],
   "source": [
    "\n",
    "final_ratings_matrix = pd.pivot_table(df_final,index=['UserId'], columns = 'ProductId', values = \"Score\")\n",
    "final_ratings_matrix.fillna(0,inplace=True)\n",
    "print('Shape of final_ratings_matrix: ', final_ratings_matrix.shape)\n",
    "given_num_of_ratings = np.count_nonzero(final_ratings_matrix)\n",
    "print('given_num_of_ratings = ', given_num_of_ratings)\n",
    "possible_num_of_ratings = final_ratings_matrix.shape[0] * final_ratings_matrix.shape[1]\n",
    "print('possible_num_of_ratings = ', possible_num_of_ratings)\n",
    "density = (given_num_of_ratings/possible_num_of_ratings)\n",
    "density *= 100\n",
    "print ('density: {:4.2f}%'.format(density))"
   ]
  },
  {
   "cell_type": "code",
   "execution_count": 19,
   "metadata": {
    "scrolled": true
   },
   "outputs": [
    {
     "data": {
      "text/html": [
       "<div>\n",
       "<style scoped>\n",
       "    .dataframe tbody tr th:only-of-type {\n",
       "        vertical-align: middle;\n",
       "    }\n",
       "\n",
       "    .dataframe tbody tr th {\n",
       "        vertical-align: top;\n",
       "    }\n",
       "\n",
       "    .dataframe thead th {\n",
       "        text-align: right;\n",
       "    }\n",
       "</style>\n",
       "<table border=\"1\" class=\"dataframe\">\n",
       "  <thead>\n",
       "    <tr style=\"text-align: right;\">\n",
       "      <th>ProductId</th>\n",
       "      <th>7310172001</th>\n",
       "      <th>7310172101</th>\n",
       "      <th>7800648702</th>\n",
       "      <th>B00004CI84</th>\n",
       "      <th>B00004CXX9</th>\n",
       "      <th>B00004RBDU</th>\n",
       "      <th>B00004RBDZ</th>\n",
       "      <th>B00004RYGX</th>\n",
       "      <th>B00004S1C6</th>\n",
       "      <th>B000052Y74</th>\n",
       "      <th>...</th>\n",
       "      <th>B009KAQZ9G</th>\n",
       "      <th>B009KAQZIM</th>\n",
       "      <th>B009KOHGEK</th>\n",
       "      <th>B009KP6HBM</th>\n",
       "      <th>B009LRLB6U</th>\n",
       "      <th>B009LT26BC</th>\n",
       "      <th>B009M2LUEW</th>\n",
       "      <th>B009PCDDO4</th>\n",
       "      <th>B009QEBGIQ</th>\n",
       "      <th>B009RB4GO4</th>\n",
       "    </tr>\n",
       "    <tr>\n",
       "      <th>UserId</th>\n",
       "      <th></th>\n",
       "      <th></th>\n",
       "      <th></th>\n",
       "      <th></th>\n",
       "      <th></th>\n",
       "      <th></th>\n",
       "      <th></th>\n",
       "      <th></th>\n",
       "      <th></th>\n",
       "      <th></th>\n",
       "      <th></th>\n",
       "      <th></th>\n",
       "      <th></th>\n",
       "      <th></th>\n",
       "      <th></th>\n",
       "      <th></th>\n",
       "      <th></th>\n",
       "      <th></th>\n",
       "      <th></th>\n",
       "      <th></th>\n",
       "      <th></th>\n",
       "    </tr>\n",
       "  </thead>\n",
       "  <tbody>\n",
       "    <tr>\n",
       "      <th>AY1EF0GOH80EK</th>\n",
       "      <td>0.0</td>\n",
       "      <td>0.0</td>\n",
       "      <td>0.0</td>\n",
       "      <td>0.0</td>\n",
       "      <td>0.0</td>\n",
       "      <td>0.0</td>\n",
       "      <td>0.0</td>\n",
       "      <td>0.0</td>\n",
       "      <td>0.0</td>\n",
       "      <td>0.0</td>\n",
       "      <td>...</td>\n",
       "      <td>0.0</td>\n",
       "      <td>0.0</td>\n",
       "      <td>0.0</td>\n",
       "      <td>0.0</td>\n",
       "      <td>0.0</td>\n",
       "      <td>0.0</td>\n",
       "      <td>0.0</td>\n",
       "      <td>0.0</td>\n",
       "      <td>0.0</td>\n",
       "      <td>0.0</td>\n",
       "    </tr>\n",
       "    <tr>\n",
       "      <th>AYB4ELCS5AM8P</th>\n",
       "      <td>0.0</td>\n",
       "      <td>0.0</td>\n",
       "      <td>0.0</td>\n",
       "      <td>0.0</td>\n",
       "      <td>0.0</td>\n",
       "      <td>0.0</td>\n",
       "      <td>0.0</td>\n",
       "      <td>0.0</td>\n",
       "      <td>0.0</td>\n",
       "      <td>0.0</td>\n",
       "      <td>...</td>\n",
       "      <td>0.0</td>\n",
       "      <td>0.0</td>\n",
       "      <td>0.0</td>\n",
       "      <td>0.0</td>\n",
       "      <td>0.0</td>\n",
       "      <td>0.0</td>\n",
       "      <td>0.0</td>\n",
       "      <td>0.0</td>\n",
       "      <td>0.0</td>\n",
       "      <td>0.0</td>\n",
       "    </tr>\n",
       "    <tr>\n",
       "      <th>AYGJ96W5KQMUJ</th>\n",
       "      <td>0.0</td>\n",
       "      <td>0.0</td>\n",
       "      <td>0.0</td>\n",
       "      <td>0.0</td>\n",
       "      <td>0.0</td>\n",
       "      <td>0.0</td>\n",
       "      <td>0.0</td>\n",
       "      <td>0.0</td>\n",
       "      <td>0.0</td>\n",
       "      <td>0.0</td>\n",
       "      <td>...</td>\n",
       "      <td>0.0</td>\n",
       "      <td>0.0</td>\n",
       "      <td>0.0</td>\n",
       "      <td>0.0</td>\n",
       "      <td>0.0</td>\n",
       "      <td>0.0</td>\n",
       "      <td>0.0</td>\n",
       "      <td>0.0</td>\n",
       "      <td>0.0</td>\n",
       "      <td>0.0</td>\n",
       "    </tr>\n",
       "    <tr>\n",
       "      <th>AYOMAHLWRQHUG</th>\n",
       "      <td>0.0</td>\n",
       "      <td>0.0</td>\n",
       "      <td>0.0</td>\n",
       "      <td>0.0</td>\n",
       "      <td>0.0</td>\n",
       "      <td>0.0</td>\n",
       "      <td>0.0</td>\n",
       "      <td>0.0</td>\n",
       "      <td>0.0</td>\n",
       "      <td>0.0</td>\n",
       "      <td>...</td>\n",
       "      <td>0.0</td>\n",
       "      <td>0.0</td>\n",
       "      <td>0.0</td>\n",
       "      <td>0.0</td>\n",
       "      <td>0.0</td>\n",
       "      <td>0.0</td>\n",
       "      <td>0.0</td>\n",
       "      <td>0.0</td>\n",
       "      <td>0.0</td>\n",
       "      <td>0.0</td>\n",
       "    </tr>\n",
       "    <tr>\n",
       "      <th>AZV26LP92E6WU</th>\n",
       "      <td>0.0</td>\n",
       "      <td>0.0</td>\n",
       "      <td>0.0</td>\n",
       "      <td>0.0</td>\n",
       "      <td>0.0</td>\n",
       "      <td>0.0</td>\n",
       "      <td>0.0</td>\n",
       "      <td>0.0</td>\n",
       "      <td>0.0</td>\n",
       "      <td>0.0</td>\n",
       "      <td>...</td>\n",
       "      <td>0.0</td>\n",
       "      <td>0.0</td>\n",
       "      <td>0.0</td>\n",
       "      <td>0.0</td>\n",
       "      <td>0.0</td>\n",
       "      <td>0.0</td>\n",
       "      <td>0.0</td>\n",
       "      <td>0.0</td>\n",
       "      <td>0.0</td>\n",
       "      <td>0.0</td>\n",
       "    </tr>\n",
       "  </tbody>\n",
       "</table>\n",
       "<p>5 rows × 11313 columns</p>\n",
       "</div>"
      ],
      "text/plain": [
       "ProductId      7310172001  7310172101  7800648702  B00004CI84  B00004CXX9   \n",
       "UserId                                                                      \n",
       "AY1EF0GOH80EK         0.0         0.0         0.0         0.0         0.0  \\\n",
       "AYB4ELCS5AM8P         0.0         0.0         0.0         0.0         0.0   \n",
       "AYGJ96W5KQMUJ         0.0         0.0         0.0         0.0         0.0   \n",
       "AYOMAHLWRQHUG         0.0         0.0         0.0         0.0         0.0   \n",
       "AZV26LP92E6WU         0.0         0.0         0.0         0.0         0.0   \n",
       "\n",
       "ProductId      B00004RBDU  B00004RBDZ  B00004RYGX  B00004S1C6  B000052Y74   \n",
       "UserId                                                                      \n",
       "AY1EF0GOH80EK         0.0         0.0         0.0         0.0         0.0  \\\n",
       "AYB4ELCS5AM8P         0.0         0.0         0.0         0.0         0.0   \n",
       "AYGJ96W5KQMUJ         0.0         0.0         0.0         0.0         0.0   \n",
       "AYOMAHLWRQHUG         0.0         0.0         0.0         0.0         0.0   \n",
       "AZV26LP92E6WU         0.0         0.0         0.0         0.0         0.0   \n",
       "\n",
       "ProductId      ...  B009KAQZ9G  B009KAQZIM  B009KOHGEK  B009KP6HBM   \n",
       "UserId         ...                                                   \n",
       "AY1EF0GOH80EK  ...         0.0         0.0         0.0         0.0  \\\n",
       "AYB4ELCS5AM8P  ...         0.0         0.0         0.0         0.0   \n",
       "AYGJ96W5KQMUJ  ...         0.0         0.0         0.0         0.0   \n",
       "AYOMAHLWRQHUG  ...         0.0         0.0         0.0         0.0   \n",
       "AZV26LP92E6WU  ...         0.0         0.0         0.0         0.0   \n",
       "\n",
       "ProductId      B009LRLB6U  B009LT26BC  B009M2LUEW  B009PCDDO4  B009QEBGIQ   \n",
       "UserId                                                                      \n",
       "AY1EF0GOH80EK         0.0         0.0         0.0         0.0         0.0  \\\n",
       "AYB4ELCS5AM8P         0.0         0.0         0.0         0.0         0.0   \n",
       "AYGJ96W5KQMUJ         0.0         0.0         0.0         0.0         0.0   \n",
       "AYOMAHLWRQHUG         0.0         0.0         0.0         0.0         0.0   \n",
       "AZV26LP92E6WU         0.0         0.0         0.0         0.0         0.0   \n",
       "\n",
       "ProductId      B009RB4GO4  \n",
       "UserId                     \n",
       "AY1EF0GOH80EK         0.0  \n",
       "AYB4ELCS5AM8P         0.0  \n",
       "AYGJ96W5KQMUJ         0.0  \n",
       "AYOMAHLWRQHUG         0.0  \n",
       "AZV26LP92E6WU         0.0  \n",
       "\n",
       "[5 rows x 11313 columns]"
      ]
     },
     "execution_count": 19,
     "metadata": {},
     "output_type": "execute_result"
    }
   ],
   "source": [
    "final_ratings_matrix.tail()"
   ]
  },
  {
   "cell_type": "code",
   "execution_count": 20,
   "metadata": {},
   "outputs": [
    {
     "data": {
      "text/html": [
       "<div>\n",
       "<style scoped>\n",
       "    .dataframe tbody tr th:only-of-type {\n",
       "        vertical-align: middle;\n",
       "    }\n",
       "\n",
       "    .dataframe tbody tr th {\n",
       "        vertical-align: top;\n",
       "    }\n",
       "\n",
       "    .dataframe thead th {\n",
       "        text-align: right;\n",
       "    }\n",
       "</style>\n",
       "<table border=\"1\" class=\"dataframe\">\n",
       "  <thead>\n",
       "    <tr style=\"text-align: right;\">\n",
       "      <th>UserId</th>\n",
       "      <th>A100WO06OQR8BQ</th>\n",
       "      <th>A106ZCP7RSXMRU</th>\n",
       "      <th>A1080SE9X3ECK0</th>\n",
       "      <th>A10G136JEISLVR</th>\n",
       "      <th>A11ED8O95W2103</th>\n",
       "      <th>A11OTLEDSW8ZXD</th>\n",
       "      <th>A12ENBT314RFXR</th>\n",
       "      <th>A132ETQPMHQ585</th>\n",
       "      <th>A13GZCHAMKWYBT</th>\n",
       "      <th>A13HRSMJ5TOWEZ</th>\n",
       "      <th>...</th>\n",
       "      <th>ATJN4KEHJBOC8</th>\n",
       "      <th>AVFA1JB08RG8G</th>\n",
       "      <th>AWKZAUC0D8DYL</th>\n",
       "      <th>AXO4PQU0XG3TG</th>\n",
       "      <th>AY12DBB0U420B</th>\n",
       "      <th>AY1EF0GOH80EK</th>\n",
       "      <th>AYB4ELCS5AM8P</th>\n",
       "      <th>AYGJ96W5KQMUJ</th>\n",
       "      <th>AYOMAHLWRQHUG</th>\n",
       "      <th>AZV26LP92E6WU</th>\n",
       "    </tr>\n",
       "    <tr>\n",
       "      <th>ProductId</th>\n",
       "      <th></th>\n",
       "      <th></th>\n",
       "      <th></th>\n",
       "      <th></th>\n",
       "      <th></th>\n",
       "      <th></th>\n",
       "      <th></th>\n",
       "      <th></th>\n",
       "      <th></th>\n",
       "      <th></th>\n",
       "      <th></th>\n",
       "      <th></th>\n",
       "      <th></th>\n",
       "      <th></th>\n",
       "      <th></th>\n",
       "      <th></th>\n",
       "      <th></th>\n",
       "      <th></th>\n",
       "      <th></th>\n",
       "      <th></th>\n",
       "      <th></th>\n",
       "    </tr>\n",
       "  </thead>\n",
       "  <tbody>\n",
       "    <tr>\n",
       "      <th>7310172001</th>\n",
       "      <td>0.0</td>\n",
       "      <td>0.0</td>\n",
       "      <td>0.0</td>\n",
       "      <td>0.0</td>\n",
       "      <td>0.0</td>\n",
       "      <td>0.0</td>\n",
       "      <td>0.0</td>\n",
       "      <td>0.0</td>\n",
       "      <td>0.0</td>\n",
       "      <td>0.0</td>\n",
       "      <td>...</td>\n",
       "      <td>0.0</td>\n",
       "      <td>0.0</td>\n",
       "      <td>0.0</td>\n",
       "      <td>0.0</td>\n",
       "      <td>0.0</td>\n",
       "      <td>0.0</td>\n",
       "      <td>0.0</td>\n",
       "      <td>0.0</td>\n",
       "      <td>0.0</td>\n",
       "      <td>0.0</td>\n",
       "    </tr>\n",
       "    <tr>\n",
       "      <th>7310172101</th>\n",
       "      <td>0.0</td>\n",
       "      <td>0.0</td>\n",
       "      <td>0.0</td>\n",
       "      <td>0.0</td>\n",
       "      <td>0.0</td>\n",
       "      <td>0.0</td>\n",
       "      <td>0.0</td>\n",
       "      <td>0.0</td>\n",
       "      <td>0.0</td>\n",
       "      <td>0.0</td>\n",
       "      <td>...</td>\n",
       "      <td>0.0</td>\n",
       "      <td>0.0</td>\n",
       "      <td>0.0</td>\n",
       "      <td>0.0</td>\n",
       "      <td>0.0</td>\n",
       "      <td>0.0</td>\n",
       "      <td>0.0</td>\n",
       "      <td>0.0</td>\n",
       "      <td>0.0</td>\n",
       "      <td>0.0</td>\n",
       "    </tr>\n",
       "    <tr>\n",
       "      <th>7800648702</th>\n",
       "      <td>0.0</td>\n",
       "      <td>0.0</td>\n",
       "      <td>0.0</td>\n",
       "      <td>0.0</td>\n",
       "      <td>0.0</td>\n",
       "      <td>0.0</td>\n",
       "      <td>0.0</td>\n",
       "      <td>0.0</td>\n",
       "      <td>0.0</td>\n",
       "      <td>0.0</td>\n",
       "      <td>...</td>\n",
       "      <td>0.0</td>\n",
       "      <td>0.0</td>\n",
       "      <td>0.0</td>\n",
       "      <td>0.0</td>\n",
       "      <td>0.0</td>\n",
       "      <td>0.0</td>\n",
       "      <td>0.0</td>\n",
       "      <td>0.0</td>\n",
       "      <td>0.0</td>\n",
       "      <td>0.0</td>\n",
       "    </tr>\n",
       "    <tr>\n",
       "      <th>B00004CI84</th>\n",
       "      <td>0.0</td>\n",
       "      <td>0.0</td>\n",
       "      <td>0.0</td>\n",
       "      <td>0.0</td>\n",
       "      <td>0.0</td>\n",
       "      <td>0.0</td>\n",
       "      <td>0.0</td>\n",
       "      <td>0.0</td>\n",
       "      <td>0.0</td>\n",
       "      <td>0.0</td>\n",
       "      <td>...</td>\n",
       "      <td>0.0</td>\n",
       "      <td>0.0</td>\n",
       "      <td>0.0</td>\n",
       "      <td>0.0</td>\n",
       "      <td>3.0</td>\n",
       "      <td>0.0</td>\n",
       "      <td>0.0</td>\n",
       "      <td>0.0</td>\n",
       "      <td>0.0</td>\n",
       "      <td>0.0</td>\n",
       "    </tr>\n",
       "    <tr>\n",
       "      <th>B00004CXX9</th>\n",
       "      <td>0.0</td>\n",
       "      <td>0.0</td>\n",
       "      <td>0.0</td>\n",
       "      <td>0.0</td>\n",
       "      <td>0.0</td>\n",
       "      <td>0.0</td>\n",
       "      <td>0.0</td>\n",
       "      <td>0.0</td>\n",
       "      <td>0.0</td>\n",
       "      <td>0.0</td>\n",
       "      <td>...</td>\n",
       "      <td>0.0</td>\n",
       "      <td>0.0</td>\n",
       "      <td>0.0</td>\n",
       "      <td>0.0</td>\n",
       "      <td>3.0</td>\n",
       "      <td>0.0</td>\n",
       "      <td>0.0</td>\n",
       "      <td>0.0</td>\n",
       "      <td>0.0</td>\n",
       "      <td>0.0</td>\n",
       "    </tr>\n",
       "  </tbody>\n",
       "</table>\n",
       "<p>5 rows × 267 columns</p>\n",
       "</div>"
      ],
      "text/plain": [
       "UserId      A100WO06OQR8BQ  A106ZCP7RSXMRU  A1080SE9X3ECK0  A10G136JEISLVR   \n",
       "ProductId                                                                    \n",
       "7310172001             0.0             0.0             0.0             0.0  \\\n",
       "7310172101             0.0             0.0             0.0             0.0   \n",
       "7800648702             0.0             0.0             0.0             0.0   \n",
       "B00004CI84             0.0             0.0             0.0             0.0   \n",
       "B00004CXX9             0.0             0.0             0.0             0.0   \n",
       "\n",
       "UserId      A11ED8O95W2103  A11OTLEDSW8ZXD  A12ENBT314RFXR  A132ETQPMHQ585   \n",
       "ProductId                                                                    \n",
       "7310172001             0.0             0.0             0.0             0.0  \\\n",
       "7310172101             0.0             0.0             0.0             0.0   \n",
       "7800648702             0.0             0.0             0.0             0.0   \n",
       "B00004CI84             0.0             0.0             0.0             0.0   \n",
       "B00004CXX9             0.0             0.0             0.0             0.0   \n",
       "\n",
       "UserId      A13GZCHAMKWYBT  A13HRSMJ5TOWEZ  ...  ATJN4KEHJBOC8  AVFA1JB08RG8G   \n",
       "ProductId                                   ...                                 \n",
       "7310172001             0.0             0.0  ...            0.0            0.0  \\\n",
       "7310172101             0.0             0.0  ...            0.0            0.0   \n",
       "7800648702             0.0             0.0  ...            0.0            0.0   \n",
       "B00004CI84             0.0             0.0  ...            0.0            0.0   \n",
       "B00004CXX9             0.0             0.0  ...            0.0            0.0   \n",
       "\n",
       "UserId      AWKZAUC0D8DYL  AXO4PQU0XG3TG  AY12DBB0U420B  AY1EF0GOH80EK   \n",
       "ProductId                                                                \n",
       "7310172001            0.0            0.0            0.0            0.0  \\\n",
       "7310172101            0.0            0.0            0.0            0.0   \n",
       "7800648702            0.0            0.0            0.0            0.0   \n",
       "B00004CI84            0.0            0.0            3.0            0.0   \n",
       "B00004CXX9            0.0            0.0            3.0            0.0   \n",
       "\n",
       "UserId      AYB4ELCS5AM8P  AYGJ96W5KQMUJ  AYOMAHLWRQHUG  AZV26LP92E6WU  \n",
       "ProductId                                                               \n",
       "7310172001            0.0            0.0            0.0            0.0  \n",
       "7310172101            0.0            0.0            0.0            0.0  \n",
       "7800648702            0.0            0.0            0.0            0.0  \n",
       "B00004CI84            0.0            0.0            0.0            0.0  \n",
       "B00004CXX9            0.0            0.0            0.0            0.0  \n",
       "\n",
       "[5 rows x 267 columns]"
      ]
     },
     "execution_count": 20,
     "metadata": {},
     "output_type": "execute_result"
    }
   ],
   "source": [
    "# Matrix with one row per 'Product' and one column per 'user' for Item-based CF\n",
    "final_ratings_matrix_T = final_ratings_matrix.transpose()\n",
    "final_ratings_matrix_T.head()"
   ]
  },
  {
   "cell_type": "markdown",
   "metadata": {},
   "source": [
    "### Split the data randomly into train and test dataset. ( For example split it in 70/30 ratio)"
   ]
  },
  {
   "cell_type": "markdown",
   "metadata": {},
   "source": [
    "#Split the training and test data in the ratio 70:30\n",
    "train_data, test_data = train_test_split(df_final, test_size = 0.3, random_state=0)\n",
    "\n",
    "print(train_data.head(5))"
   ]
  },
  {
   "cell_type": "markdown",
   "metadata": {},
   "source": [
    "def shape():\n",
    "    print(\"Test data shape: \", test_data.shape)\n",
    "    print(\"Train data shape: \", train_data.shape)\n",
    "shape() "
   ]
  },
  {
   "cell_type": "code",
   "execution_count": null,
   "metadata": {},
   "outputs": [],
   "source": [
    "# Split the data into training and testing sets\n",
    "#X_train, X_test, y_train, y_test = train_test_split(df['Text'], df['Score'], test_size=0.2, random_state=42)\n",
    "#X_train, X_test, y_train, y_test = train_test_split(df['User ID'], df['Score'], test_size=0.1, random_state=42)\n",
    "\n",
    "#TOKENIZE DATA\n",
    "tokenizer = Tokenizer(num_words=5000)  # Limit the vocabulary size\n",
    "tokenizer.fit_on_texts(train_data)\n",
    "\n",
    "true_train = tokenizer.texts_to_sequences(train_data)\n",
    "true_test = tokenizer.texts_to_sequences(test_data)\n",
    "\n",
    "vocab_size = len(tokenizer.word_index) + 1\n",
    "max_length = 100  # Define the maximum sequence length\n",
    "\n",
    "true_train = pad_sequences(true_train, maxlen=max_length, padding='post')\n",
    "true_test = pad_sequences(true_test, maxlen=max_length, padding='post')\n",
    "'''\n",
    "# Encode the target variable\n",
    "encoder = LabelEncoder()\n",
    "y_train = encoder.fit_transform(y_train)\n",
    "y_test = encoder.fit_transform(y_test)\n",
    "'''"
   ]
  },
  {
   "cell_type": "code",
   "execution_count": 22,
   "metadata": {
    "scrolled": true
   },
   "outputs": [
    {
     "ename": "TypeError",
     "evalue": "The added layer must be an instance of class Layer. Received: layer=[[0.4979117 ]\n [0.477599  ]\n [0.510062  ]\n ...\n [0.5037362 ]\n [0.49215853]\n [0.51175785]] of type <class 'tensorflow.python.framework.ops.EagerTensor'>.",
     "output_type": "error",
     "traceback": [
      "\u001b[1;31m---------------------------------------------------------------------------\u001b[0m",
      "\u001b[1;31mTypeError\u001b[0m                                 Traceback (most recent call last)",
      "Cell \u001b[1;32mIn[22], line 64\u001b[0m\n\u001b[0;32m     62\u001b[0m \u001b[38;5;66;03m# Create the model\u001b[39;00m\n\u001b[0;32m     63\u001b[0m model \u001b[38;5;241m=\u001b[39m Sequential()\n\u001b[1;32m---> 64\u001b[0m \u001b[43mmodel\u001b[49m\u001b[38;5;241;43m.\u001b[39;49m\u001b[43madd\u001b[49m\u001b[43m(\u001b[49m\u001b[43moutput\u001b[49m\u001b[43m)\u001b[49m\n\u001b[0;32m     66\u001b[0m \u001b[38;5;66;03m# Compile and train the model\u001b[39;00m\n\u001b[0;32m     67\u001b[0m model\u001b[38;5;241m.\u001b[39mcompile(optimizer\u001b[38;5;241m=\u001b[39m\u001b[38;5;124m'\u001b[39m\u001b[38;5;124madam\u001b[39m\u001b[38;5;124m'\u001b[39m, loss\u001b[38;5;241m=\u001b[39m\u001b[38;5;124m'\u001b[39m\u001b[38;5;124mmse\u001b[39m\u001b[38;5;124m'\u001b[39m, metrics\u001b[38;5;241m=\u001b[39m[\u001b[38;5;124m'\u001b[39m\u001b[38;5;124maccuracy\u001b[39m\u001b[38;5;124m'\u001b[39m])\n",
      "File \u001b[1;32mE:\\TFRS\\tfrs\\lib\\site-packages\\tensorflow\\python\\trackable\\base.py:205\u001b[0m, in \u001b[0;36mno_automatic_dependency_tracking.<locals>._method_wrapper\u001b[1;34m(self, *args, **kwargs)\u001b[0m\n\u001b[0;32m    203\u001b[0m \u001b[38;5;28mself\u001b[39m\u001b[38;5;241m.\u001b[39m_self_setattr_tracking \u001b[38;5;241m=\u001b[39m \u001b[38;5;28;01mFalse\u001b[39;00m  \u001b[38;5;66;03m# pylint: disable=protected-access\u001b[39;00m\n\u001b[0;32m    204\u001b[0m \u001b[38;5;28;01mtry\u001b[39;00m:\n\u001b[1;32m--> 205\u001b[0m   result \u001b[38;5;241m=\u001b[39m method(\u001b[38;5;28mself\u001b[39m, \u001b[38;5;241m*\u001b[39margs, \u001b[38;5;241m*\u001b[39m\u001b[38;5;241m*\u001b[39mkwargs)\n\u001b[0;32m    206\u001b[0m \u001b[38;5;28;01mfinally\u001b[39;00m:\n\u001b[0;32m    207\u001b[0m   \u001b[38;5;28mself\u001b[39m\u001b[38;5;241m.\u001b[39m_self_setattr_tracking \u001b[38;5;241m=\u001b[39m previous_value  \u001b[38;5;66;03m# pylint: disable=protected-access\u001b[39;00m\n",
      "File \u001b[1;32mE:\\TFRS\\tfrs\\lib\\site-packages\\keras\\utils\\traceback_utils.py:70\u001b[0m, in \u001b[0;36mfilter_traceback.<locals>.error_handler\u001b[1;34m(*args, **kwargs)\u001b[0m\n\u001b[0;32m     67\u001b[0m     filtered_tb \u001b[38;5;241m=\u001b[39m _process_traceback_frames(e\u001b[38;5;241m.\u001b[39m__traceback__)\n\u001b[0;32m     68\u001b[0m     \u001b[38;5;66;03m# To get the full stack trace, call:\u001b[39;00m\n\u001b[0;32m     69\u001b[0m     \u001b[38;5;66;03m# `tf.debugging.disable_traceback_filtering()`\u001b[39;00m\n\u001b[1;32m---> 70\u001b[0m     \u001b[38;5;28;01mraise\u001b[39;00m e\u001b[38;5;241m.\u001b[39mwith_traceback(filtered_tb) \u001b[38;5;28;01mfrom\u001b[39;00m \u001b[38;5;28;01mNone\u001b[39;00m\n\u001b[0;32m     71\u001b[0m \u001b[38;5;28;01mfinally\u001b[39;00m:\n\u001b[0;32m     72\u001b[0m     \u001b[38;5;28;01mdel\u001b[39;00m filtered_tb\n",
      "File \u001b[1;32mE:\\TFRS\\tfrs\\lib\\site-packages\\keras\\engine\\sequential.py:185\u001b[0m, in \u001b[0;36mSequential.add\u001b[1;34m(self, layer)\u001b[0m\n\u001b[0;32m    183\u001b[0m         layer \u001b[38;5;241m=\u001b[39m functional\u001b[38;5;241m.\u001b[39mModuleWrapper(layer)\n\u001b[0;32m    184\u001b[0m \u001b[38;5;28;01melse\u001b[39;00m:\n\u001b[1;32m--> 185\u001b[0m     \u001b[38;5;28;01mraise\u001b[39;00m \u001b[38;5;167;01mTypeError\u001b[39;00m(\n\u001b[0;32m    186\u001b[0m         \u001b[38;5;124m\"\u001b[39m\u001b[38;5;124mThe added layer must be an instance of class Layer. \u001b[39m\u001b[38;5;124m\"\u001b[39m\n\u001b[0;32m    187\u001b[0m         \u001b[38;5;124mf\u001b[39m\u001b[38;5;124m\"\u001b[39m\u001b[38;5;124mReceived: layer=\u001b[39m\u001b[38;5;132;01m{\u001b[39;00mlayer\u001b[38;5;132;01m}\u001b[39;00m\u001b[38;5;124m of type \u001b[39m\u001b[38;5;132;01m{\u001b[39;00m\u001b[38;5;28mtype\u001b[39m(layer)\u001b[38;5;132;01m}\u001b[39;00m\u001b[38;5;124m.\u001b[39m\u001b[38;5;124m\"\u001b[39m\n\u001b[0;32m    188\u001b[0m     )\n\u001b[0;32m    190\u001b[0m tf_utils\u001b[38;5;241m.\u001b[39massert_no_legacy_layers([layer])\n\u001b[0;32m    191\u001b[0m \u001b[38;5;28;01mif\u001b[39;00m \u001b[38;5;129;01mnot\u001b[39;00m \u001b[38;5;28mself\u001b[39m\u001b[38;5;241m.\u001b[39m_is_layer_name_unique(layer):\n",
      "\u001b[1;31mTypeError\u001b[0m: The added layer must be an instance of class Layer. Received: layer=[[0.4979117 ]\n [0.477599  ]\n [0.510062  ]\n ...\n [0.5037362 ]\n [0.49215853]\n [0.51175785]] of type <class 'tensorflow.python.framework.ops.EagerTensor'>."
     ]
    }
   ],
   "source": [
    "#PREDICTED SCORE\n",
    "import pandas as pd\n",
    "import numpy as np\n",
    "import tensorflow as tf\n",
    "from tensorflow.keras.layers import Embedding, Flatten, Dense, concatenate\n",
    "from tensorflow.keras.models import Sequential\n",
    "from sklearn.model_selection import train_test_split\n",
    "\n",
    "# Split the data into training and test sets\n",
    "train_data, test_data = train_test_split(df_final, test_size=0.3, random_state=0)\n",
    "\n",
    "# Create a dictionary mapping user IDs to unique indices\n",
    "user_ids = df_final['UserId'].unique()\n",
    "user_id_to_index = {user_id: index for index, user_id in enumerate(user_ids)}\n",
    "index_to_user_id = {index: user_id for index, user_id in enumerate(user_ids)}\n",
    "\n",
    "# Create a dictionary mapping product IDs to unique indices\n",
    "product_ids = df_final['ProductId'].unique()\n",
    "product_id_to_index = {product_id: index for index, product_id in enumerate(product_ids)}\n",
    "index_to_product_id = {index: product_id for index, product_id in enumerate(product_ids)}\n",
    "\n",
    "# Convert user and product IDs to indices in the dataframe\n",
    "train_data['user_index'] = train_data['UserId'].map(user_id_to_index)\n",
    "train_data['product_index'] = train_data['ProductId'].map(product_id_to_index)\n",
    "\n",
    "test_data['user_index'] = test_data['UserId'].map(user_id_to_index)\n",
    "test_data['product_index'] = test_data['ProductId'].map(product_id_to_index)\n",
    "\n",
    "# Prepare the training data\n",
    "x_train = train_data[['user_index', 'product_index']].values\n",
    "x1_train = train_data[['user_index']].values\n",
    "x2_train = train_data[['product_index']].values\n",
    "y_train = train_data['Score'].values\n",
    "y_train = np.reshape(y_train, (-1, 1))\n",
    "\n",
    "# Set the input shape\n",
    "num_users = len(user_ids)+1\n",
    "num_products = len(product_ids)+1\n",
    "input_shape = 2  # User index and product index\n",
    "\n",
    "# Create separate embedding layers for each input\n",
    "embedding1 = tf.keras.layers.Embedding(num_users, output_dim=64)(x1_train)\n",
    "embedding2 = tf.keras.layers.Embedding(num_products, output_dim=64)(x2_train)\n",
    "\n",
    "# Flatten the embeddings\n",
    "flatten1 = tf.keras.layers.Flatten()(embedding1)\n",
    "flatten2 = tf.keras.layers.Flatten()(embedding2)\n",
    "\n",
    "# Flatten the embeddings\n",
    "flatten1 = tf.keras.layers.Flatten()(embedding1)\n",
    "flatten2 = tf.keras.layers.Flatten()(embedding2)\n",
    "\n",
    "# Merge the flattened embeddings\n",
    "merged = tf.keras.layers.concatenate([flatten1, flatten2])\n",
    "\n",
    "# Define the output layer\n",
    "output = tf.keras.layers.Dense(1, activation='sigmoid')(merged)\n",
    "\n",
    "# Define the output layer\n",
    "output = tf.keras.layers.Dense(1, activation='sigmoid')(merged)\n",
    "\n",
    "# Create the model\n",
    "model = Sequential()\n",
    "model.add(output)\n",
    "\n",
    "# Compile and train the model\n",
    "model.compile(optimizer='adam', loss='mse', metrics=['accuracy'])\n",
    "model.fit(x_train, y_train, epochs=10, batch_size=32)\n",
    "\n",
    "'''\n",
    "# Define the model\n",
    "model = Sequential([\n",
    "    Embedding(num_users, 32, input_length=input_shape)(train_data[['user_index']]),\n",
    "    Flatten(),\n",
    "    Embedding(num_products, 32, input_length=input_shape)(train_data[['product_index']]),\n",
    "    Flatten(),\n",
    "    concatenate(),\n",
    "    Dense(32, activation='relu'),\n",
    "    Dense(64, activation='relu'),\n",
    "    Dense(128, activation='relu'),\n",
    "    Dense(1, activation='sigmoid')\n",
    "])\n",
    "\n",
    "model.compile(loss='mean_squared_error', optimizer='adam')\n",
    "\n",
    "    \n",
    "# Train the model\n",
    "model.fit(x_train, y_train, epochs=10, batch_size=32)\n",
    "'''\n",
    "# Prepare the test data\n",
    "x_test = test_data[['user_index', 'product_index']].values\n",
    "\n",
    "# Predict the ratings for all user-product combinations\n",
    "ratings = model.predict(x_test)\n",
    "\n",
    "# Convert the predicted ratings to a DataFrame\n",
    "predicted_ratings_df = pd.DataFrame({\n",
    "    'UserId': test_data['UserId'],\n",
    "    'ProductId': test_data['ProductId'],\n",
    "    'PredictedRating': ratings.flatten()\n",
    "})\n",
    "\n",
    "# Example: Get predicted ratings for a specific user ID\n",
    "user_id = 2\n",
    "user_id_index = user_id_to_index[user_id]\n",
    "predicted_ratings_for_user = predicted_ratings_df[predicted_ratings_df['UserId'] == user_id]\n",
    "\n",
    "print(predicted_ratings_for_user)\n"
   ]
  },
  {
   "cell_type": "code",
   "execution_count": null,
   "metadata": {},
   "outputs": [],
   "source": [
    "#PREDICTED SCORE\n",
    "import pandas as pd\n",
    "import numpy as np\n",
    "import tensorflow as tf\n",
    "from tensorflow.keras.layers import Embedding, Flatten, Dense, concatenate\n",
    "from tensorflow.keras.models import Sequential\n",
    "from sklearn.model_selection import train_test_split\n",
    "\n",
    "# Split the data into training and test sets\n",
    "train_data, test_data = train_test_split(df_final, test_size=0.3, random_state=0)\n",
    "\n",
    "# Create a dictionary mapping user IDs to unique indices\n",
    "user_ids = df_final['UserId'].unique()\n",
    "user_id_to_index = {user_id: index for index, user_id in enumerate(user_ids)}\n",
    "index_to_user_id = {index: user_id for index, user_id in enumerate(user_ids)}\n",
    "\n",
    "# Create a dictionary mapping product IDs to unique indices\n",
    "product_ids = df_final['ProductId'].unique()\n",
    "product_id_to_index = {product_id: index for index, product_id in enumerate(product_ids)}\n",
    "index_to_product_id = {index: product_id for index, product_id in enumerate(product_ids)}\n",
    "\n",
    "# Convert user and product IDs to indices in the dataframe\n",
    "train_data['user_index'] = train_data['UserId'].map(user_id_to_index)\n",
    "train_data['product_index'] = train_data['ProductId'].map(product_id_to_index)\n",
    "\n",
    "test_data['user_index'] = test_data['UserId'].map(user_id_to_index)\n",
    "test_data['product_index'] = test_data['ProductId'].map(product_id_to_index)\n",
    "\n",
    "# Prepare the training data\n",
    "x_train = train_data[['user_index', 'product_index']].values\n",
    "x1_train = train_data[['user_index']].values\n",
    "x2_train = train_data[['product_index']].values\n",
    "y_train = train_data['Score'].values\n",
    "y_train = np.reshape(y_train, (-1, 1))\n",
    "\n",
    "# Set the input shape\n",
    "num_users = len(user_ids)+1\n",
    "num_products = len(product_ids)+1\n",
    "input_shape = 2  # User index and product index\n",
    "\n",
    "# Create separate embedding layers for each input\n",
    "embedding1 = tf.keras.layers.Embedding(num_users, output_dim=64)(x1_train)\n",
    "embedding2 = tf.keras.layers.Embedding(num_products, output_dim=64)(x2_train)\n",
    "\n",
    "# Flatten the embeddings\n",
    "flatten1 = tf.keras.layers.Flatten()(embedding1)\n",
    "flatten2 = tf.keras.layers.Flatten()(embedding2)\n",
    "\n",
    "# Flatten the embeddings\n",
    "flatten1 = tf.keras.layers.Flatten()(embedding1)\n",
    "flatten2 = tf.keras.layers.Flatten()(embedding2)\n",
    "\n",
    "# Merge the flattened embeddings\n",
    "merged = tf.keras.layers.concatenate([flatten1, flatten2])\n",
    "\n",
    "# Define the output layer\n",
    "output = tf.keras.layers.Dense(1, activation='sigmoid')(merged)\n",
    "\n",
    "# Define the output layer\n",
    "output = tf.keras.layers.Dense(1, activation='sigmoid')(merged)\n",
    "\n",
    "# Compile and train the model\n",
    "model.compile(optimizer='adam', loss='mse', metrics=['accuracy'])\n",
    "model.fit(x_train, y_train, epochs=10, batch_size=32)\n",
    "\n",
    "# Prepare the test data\n",
    "x_test = test_data[['user_index', 'product_index']].values\n",
    "\n",
    "# Predict the ratings for all user-product combinations\n",
    "ratings = model.predict(x_test)\n",
    "\n",
    "# Convert the predicted ratings to a DataFrame\n",
    "predicted_ratings_df = pd.DataFrame({\n",
    "    'UserId': test_data['UserId'],\n",
    "    'ProductId': test_data['ProductId'],\n",
    "    'PredictedRating': ratings.flatten()\n",
    "})\n",
    "\n",
    "# Example: Get predicted ratings for a specific user ID\n",
    "user_id = 2\n",
    "user_id_index = user_id_to_index[user_id]\n",
    "predicted_ratings_for_user = predicted_ratings_df[predicted_ratings_df['UserId'] == user_id]\n",
    "\n",
    "print(predicted_ratings_for_user)\n"
   ]
  },
  {
   "cell_type": "code",
   "execution_count": null,
   "metadata": {},
   "outputs": [],
   "source": [
    "train_data['user_index']"
   ]
  },
  {
   "cell_type": "code",
   "execution_count": null,
   "metadata": {},
   "outputs": [],
   "source": [
    "import tensorflow as tf\n",
    "import numpy as np\n",
    "from tensorflow.keras.models import Sequential\n",
    "from tensorflow.keras.layers import Embedding, Flatten, Dense,GlobalAveragePooling1D\n",
    "\n",
    "# Convert UserId and ProductId to numerical values\n",
    "user_ids = df_final['UserId'].unique()\n",
    "user_id_to_index = {id_: index for index, id_ in enumerate(user_ids)}\n",
    "df_final['UserId'] = df_final['UserId'].map(user_id_to_index)\n",
    "\n",
    "product_ids = df_final['ProductId'].unique()\n",
    "product_id_to_index = {id_: index for index, id_ in enumerate(product_ids)}\n",
    "df_final['ProductId'] = df_final['ProductId'].map(product_id_to_index)\n",
    "\n",
    "# Split the data\n",
    "train_data, test_data = train_test_split(df_final, test_size=0.3, random_state=0)\n",
    "\n",
    "# Define the vocabulary size and embedding dimension\n",
    "vocab_size = len(product_ids)  +1 # Add 1 for the unknown product ID\n",
    "embedding_dim = 100\n",
    "\n",
    "\n",
    "# Create the model\n",
    "model = Sequential()\n",
    "model.add(Embedding(vocab_size, embedding_dim, input_length=1))\n",
    "model.add(GlobalAveragePooling1D())\n",
    "model.add(Flatten())\n",
    "model.add(Embedding(vocab_size,output_dim=200))\n",
    "model.add(Dense(128, activation='relu'))\n",
    "model.add(Dense(64, activation='relu'))\n",
    "model.add(Dense(1, activation='sigmoid'))\n",
    "\n",
    "# Compile the model\n",
    "model.compile(loss='mean_squared_error', optimizer='adam')\n",
    "\n",
    "# Prepare the training data\n",
    "X_train = np.array(train_data['UserId'])\n",
    "y_train = np.array(train_data['ProductId'])\n",
    "\n",
    "# Train the model\n",
    "history = model.fit(X_train, y_train, epochs=10, batch_size=32)\n",
    "\n",
    "# Prepare the test data\n",
    "X_test = np.array(test_data['UserId'])\n",
    "\n",
    "# Make predictions\n",
    "predictions = model.predict(X_test)\n",
    "\n",
    "# Get recommended product ID for a specific user ID\n",
    "user_id = 1\n",
    "user_id_index = user_id_to_index[user_id]\n",
    "recommended_product_index = np.argmax(predictions[X_test == user_id_index])\n",
    "recommended_product_id = product_ids[recommended_product_index]\n",
    "\n",
    "print(\"Recommended Product ID for User ID\", user_id, \":\", recommended_product_id)"
   ]
  },
  {
   "cell_type": "code",
   "execution_count": null,
   "metadata": {},
   "outputs": [],
   "source": [
    "import numpy as np\n",
    "unique_users = np.unique(x_train[:, 0])\n",
    "unique_products = np.unique(x_train[:, 1])\n",
    "print(len(unique_users), len(unique_products))\n"
   ]
  },
  {
   "cell_type": "code",
   "execution_count": null,
   "metadata": {},
   "outputs": [],
   "source": [
    "y_train.shape"
   ]
  },
  {
   "cell_type": "code",
   "execution_count": null,
   "metadata": {},
   "outputs": [],
   "source": [
    "plt.plot(history.history['loss'])\n",
    "plt.title('Model Training')\n",
    "plt.xlabel('Epochs')\n",
    "plt.ylabel('Loss')\n",
    "plt.show()"
   ]
  },
  {
   "cell_type": "code",
   "execution_count": null,
   "metadata": {},
   "outputs": [],
   "source": [
    "user_id_to_index[1]"
   ]
  },
  {
   "cell_type": "markdown",
   "metadata": {},
   "source": [
    "# Select the basic features.\n",
    "score = score.map(lambda x: {\n",
    "    \"ProductId\": x[\"ProductId\"],\n",
    "    \"UserId\": x[\"UserId\"]\n",
    "})\n",
    "product = movies.map(lambda x: x[\"movie_title\"])\n",
    "\n",
    "'''\n",
    "user_ids_vocabulary = tf.keras.layers.StringLookup(mask_token=None)\n",
    "user_ids_vocabulary.adapt(ratings.map(lambda x: x[\"user_id\"]))\n",
    "\n",
    "movie_titles_vocabulary = tf.keras.layers.StringLookup(mask_token=None)\n",
    "movie_titles_vocabulary.adapt(movies)\n",
    "'''"
   ]
  },
  {
   "cell_type": "markdown",
   "metadata": {},
   "source": [
    "# Build Popularity Recommender model. (Non-personalised)"
   ]
  },
  {
   "cell_type": "code",
   "execution_count": null,
   "metadata": {},
   "outputs": [],
   "source": [
    "#Count of user_id for each unique product as recommendation score \n",
    "train_data_grouped = train_data.groupby('ProductId').agg({'UserId': 'count'}).reset_index()\n",
    "train_data_grouped.rename(columns = {'UserId': 'score'},inplace=True)\n",
    "train_data_grouped.head()"
   ]
  },
  {
   "cell_type": "code",
   "execution_count": null,
   "metadata": {},
   "outputs": [],
   "source": [
    "#Sort the products on recommendation score \n",
    "train_data_sort = train_data_grouped.sort_values(['score', 'ProductId'], ascending = [0,1]) \n",
    "      \n",
    "#Generate a recommendation rank based upon score \n",
    "train_data_sort['Rank'] = train_data_sort['score'].rank(ascending=0, method='first') \n",
    "          \n",
    "#Get the top 5 recommendations \n",
    "popularity_recommendations = train_data_sort.head(5) \n",
    "popularity_recommendations "
   ]
  },
  {
   "cell_type": "code",
   "execution_count": null,
   "metadata": {},
   "outputs": [],
   "source": [
    "# Use popularity based recommender model to make predictions\n",
    "def recommend(user_id):     \n",
    "    user_recommendations = popularity_recommendations \n",
    "          \n",
    "    #Add user_id column for which the recommendations are being generated \n",
    "    user_recommendations['UserId'] = user_id \n",
    "      \n",
    "    #Bring user_id column to the front \n",
    "    cols = user_recommendations.columns.tolist() \n",
    "    cols = cols[-1:] + cols[:-1] \n",
    "    user_recommendations = user_recommendations[cols] \n",
    "          \n",
    "    return user_recommendations"
   ]
  },
  {
   "cell_type": "code",
   "execution_count": null,
   "metadata": {},
   "outputs": [],
   "source": [
    "find_recom = [1,121,200]   # This list is user choice.\n",
    "for i in find_recom:\n",
    "    print(\"Here is the recommendation for the userId: %d\\n\" %(i))\n",
    "    print(recommend(i))    \n",
    "    print(\"\\n\") "
   ]
  },
  {
   "cell_type": "code",
   "execution_count": null,
   "metadata": {},
   "outputs": [],
   "source": [
    "print('Since this is a popularity-based recommender model, recommendations remain the same for all users')\n",
    "print('\\nWe predict the products based on the popularity. It is not personalized to particular user')"
   ]
  },
  {
   "cell_type": "markdown",
   "metadata": {},
   "source": [
    "# Build Collaborative Filtering model."
   ]
  },
  {
   "cell_type": "markdown",
   "metadata": {},
   "source": [
    "#### Model-based Collaborative Filtering: Singular Value Decomposition"
   ]
  },
  {
   "cell_type": "code",
   "execution_count": null,
   "metadata": {},
   "outputs": [],
   "source": [
    "df_CF = pd.concat([train_data, test_data]).reset_index()\n",
    "df_CF.tail()"
   ]
  },
  {
   "cell_type": "code",
   "execution_count": null,
   "metadata": {},
   "outputs": [],
   "source": [
    "#User-based Collaborative Filtering\n",
    "# Matrix with row per 'user' and column per 'item' \n",
    "pivot_df = pd.pivot_table(df_CF,index=['UserId'], columns = 'ProductId', values = \"Score\")\n",
    "pivot_df.fillna(0,inplace=True)\n",
    "print(pivot_df.shape)\n",
    "pivot_df.head()"
   ]
  },
  {
   "cell_type": "code",
   "execution_count": null,
   "metadata": {},
   "outputs": [],
   "source": [
    "pivot_df['user_index'] = np.arange(0, pivot_df.shape[0], 1)\n",
    "pivot_df.head()"
   ]
  },
  {
   "cell_type": "code",
   "execution_count": null,
   "metadata": {},
   "outputs": [],
   "source": [
    "pivot_df.set_index(['user_index'], inplace=True)\n",
    "\n",
    "# Actual ratings given by users\n",
    "pivot_df.head()"
   ]
  },
  {
   "cell_type": "markdown",
   "metadata": {},
   "source": [
    "### SVD method\n",
    "#### SVD is best to apply on a large sparse matrix"
   ]
  },
  {
   "cell_type": "code",
   "execution_count": null,
   "metadata": {},
   "outputs": [],
   "source": [
    "# NOT WORKING\n",
    "\n",
    "from scipy.sparse.linalg import svds\n",
    "# Singular Value Decomposition\n",
    "U, sigma, Vt = svds(pivot_df, k = 50)\n",
    "# Construct diagonal array in SVD\n",
    "sigma = np.diag(sigma)"
   ]
  },
  {
   "cell_type": "code",
   "execution_count": null,
   "metadata": {},
   "outputs": [],
   "source": [
    "from scipy.sparse.linalg import svds\n",
    "from scipy.sparse import csr_matrix\n",
    "\n",
    "# Convert pivot_df to a sparse matrix\n",
    "pivot_df_sparse = csr_matrix(pivot_df)\n",
    "\n",
    "# Singular Value Decomposition\n",
    "U, sigma, Vt = svds(pivot_df_sparse, k=50)\n",
    "\n",
    "# Construct diagonal array in SVD\n",
    "sigma = np.diag(sigma)\n"
   ]
  },
  {
   "cell_type": "markdown",
   "metadata": {},
   "source": [
    "### Note that for sparse matrices, you can use the sparse.linalg.svds() function to perform the decomposition.\n",
    "SVD is useful in many tasks, such as data compression, noise reduction similar to Principal Component Analysis and Latent Semantic Indexing (LSI), used in document retrieval and word similarity in Text mining"
   ]
  },
  {
   "cell_type": "code",
   "execution_count": null,
   "metadata": {},
   "outputs": [],
   "source": [
    "all_user_predicted_ratings = np.dot(np.dot(U, sigma), Vt) \n",
    "\n",
    "# Predicted ratings\n",
    "preds_df = pd.DataFrame(all_user_predicted_ratings, columns = pivot_df.columns)\n",
    "preds_df.head()"
   ]
  },
  {
   "cell_type": "code",
   "execution_count": null,
   "metadata": {},
   "outputs": [],
   "source": [
    "# Recommend the items with the highest predicted ratings\n",
    "\n",
    "def recommend_items(userID, pivot_df, preds_df, num_recommendations):\n",
    "      \n",
    "    user_idx = userID-1 # index starts at 0\n",
    "    \n",
    "    # Get and sort the user's ratings\n",
    "    sorted_user_ratings = pivot_df.iloc[user_idx].sort_values(ascending=False)\n",
    "    #sorted_user_ratings\n",
    "    sorted_user_predictions = preds_df.iloc[user_idx].sort_values(ascending=False)\n",
    "    #sorted_user_predictions\n",
    "\n",
    "    temp = pd.concat([sorted_user_ratings, sorted_user_predictions], axis=1)\n",
    "    temp.index.name = 'Recommended Items'\n",
    "    temp.columns = ['user_ratings', 'user_predictions']\n",
    "    \n",
    "    temp = temp.loc[temp.user_ratings == 0]   \n",
    "    temp = temp.sort_values('user_predictions', ascending=False)\n",
    "    print('\\nBelow are the recommended items for user(user_id = {}):\\n'.format(userID))\n",
    "    print(temp.head(num_recommendations))"
   ]
  },
  {
   "cell_type": "code",
   "execution_count": null,
   "metadata": {},
   "outputs": [],
   "source": [
    "#Enter 'userID' and 'num_recommendations' for the user #\n",
    "userID = 2\n",
    "num_recommendations = 6\n",
    "recommend_items(userID, pivot_df, preds_df, num_recommendations)"
   ]
  },
  {
   "cell_type": "markdown",
   "metadata": {},
   "source": [
    "# Evaluate both the models. ( Once the model is trained on the training data, it can be used to compute the error (RMSE) on predictions made on the test data.)"
   ]
  },
  {
   "cell_type": "markdown",
   "metadata": {},
   "source": [
    "#### Evaluation of Model-based Collaborative Filtering (SVD)\n"
   ]
  },
  {
   "cell_type": "code",
   "execution_count": null,
   "metadata": {},
   "outputs": [],
   "source": [
    "# Actual ratings given by the users\n",
    "final_ratings_matrix.head()"
   ]
  },
  {
   "cell_type": "code",
   "execution_count": null,
   "metadata": {},
   "outputs": [],
   "source": [
    "# Average ACTUAL rating for each item\n",
    "final_ratings_matrix.mean().head()"
   ]
  },
  {
   "cell_type": "code",
   "execution_count": null,
   "metadata": {},
   "outputs": [],
   "source": [
    "# Predicted ratings \n",
    "preds_df.head()"
   ]
  },
  {
   "cell_type": "code",
   "execution_count": null,
   "metadata": {},
   "outputs": [],
   "source": [
    "# Average PREDICTED rating for each item\n",
    "preds_df.mean().head()"
   ]
  },
  {
   "cell_type": "code",
   "execution_count": null,
   "metadata": {},
   "outputs": [],
   "source": [
    "rmse_df = pd.concat([final_ratings_matrix.mean(), preds_df.mean()], axis=1)\n",
    "rmse_df.columns = ['Avg_actual_ratings', 'Avg_predicted_ratings']\n",
    "print(rmse_df.shape)\n",
    "rmse_df['item_index'] = np.arange(0, rmse_df.shape[0], 1)\n",
    "rmse_df.head()"
   ]
  },
  {
   "cell_type": "code",
   "execution_count": null,
   "metadata": {},
   "outputs": [],
   "source": [
    "RMSE = round((((rmse_df.Avg_actual_ratings - rmse_df.Avg_predicted_ratings) ** 2).mean() ** 0.5), 5)\n",
    "print('\\nRMSE SVD Model = {} \\n'.format(RMSE))"
   ]
  },
  {
   "cell_type": "markdown",
   "metadata": {},
   "source": [
    "## Get top - K ( K = 5) recommendations. Since our goal is to recommend new products to each user based on his/her habits, we will recommend 5 new products."
   ]
  },
  {
   "cell_type": "code",
   "execution_count": null,
   "metadata": {},
   "outputs": [],
   "source": [
    "# Enter 'userID' and 'num_recommendations' for the user #\n",
    "userID = 212\n",
    "num_recommendations = 5\n",
    "recommend_items(userID, pivot_df, preds_df, num_recommendations)"
   ]
  },
  {
   "cell_type": "markdown",
   "metadata": {},
   "source": [
    "# Conclusion \n",
    "\n",
    "Model-based Collaborative Filtering is a personalised recommender system, the recommendations are based on the past behavior of the user and it is not dependent on any additional information.\n",
    "\n",
    "The Popularity-based recommender system is non-personalised and the recommendations are based on frequecy counts, which may be not suitable to the user.You can see the differance above for the user id 121 & 200, The Popularity based model has recommended the same set of 5 products to both but Collaborative Filtering based model has recommended entire different list based on the user past purchase history"
   ]
  }
 ],
 "metadata": {
  "kernelspec": {
   "display_name": "tfrs",
   "language": "python",
   "name": "tfrs"
  },
  "language_info": {
   "codemirror_mode": {
    "name": "ipython",
    "version": 3
   },
   "file_extension": ".py",
   "mimetype": "text/x-python",
   "name": "python",
   "nbconvert_exporter": "python",
   "pygments_lexer": "ipython3",
   "version": "3.10.4"
  }
 },
 "nbformat": 4,
 "nbformat_minor": 4
}
