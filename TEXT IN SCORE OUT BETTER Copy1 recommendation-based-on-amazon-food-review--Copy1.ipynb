{
 "cells": [
  {
   "cell_type": "markdown",
   "metadata": {},
   "source": [
    "# Import Necessary Libraries "
   ]
  },
  {
   "cell_type": "code",
   "execution_count": 1,
   "metadata": {
    "_cell_guid": "b1076dfc-b9ad-4769-8c92-a6c4dae69d19",
    "_uuid": "8f2839f25d086af736a60e9eeb907d3b93b6e0e5"
   },
   "outputs": [
    {
     "data": {
      "text/plain": [
       "\"\\nimport os\\nfor dirname, _, filenames in os.walk('E:\\\\TFRS\\\\'):\\n    for filename in filenames:\\n        print(os.path.join(dirname, filename))\\n\""
      ]
     },
     "execution_count": 1,
     "metadata": {},
     "output_type": "execute_result"
    }
   ],
   "source": [
    "# This Python 3 environment comes with many helpful analytics libraries installed\n",
    "# It is defined by the kaggle/python docker image: https://github.com/kaggle/docker-python\n",
    "# For example, here's several helpful packages to load in \n",
    "\n",
    "import numpy as np\n",
    "import pandas as pd\n",
    "import math\n",
    "import json\n",
    "import time\n",
    "import matplotlib.pyplot as plt\n",
    "import seaborn as sns\n",
    "from sklearn.metrics.pairwise import cosine_similarity\n",
    "from sklearn.model_selection import train_test_split\n",
    "from sklearn.neighbors import NearestNeighbors\n",
    "#from sklearn.externals import joblib\n",
    "import scipy.sparse\n",
    "from scipy.sparse import csr_matrix\n",
    "import warnings; warnings.simplefilter('ignore')\n",
    "%matplotlib inline\n",
    "\n",
    "import tensorflow as tf\n",
    "from tensorflow.keras.preprocessing.text import Tokenizer\n",
    "from tensorflow.keras.preprocessing.sequence import pad_sequences\n",
    "from tensorflow.keras.models import Sequential\n",
    "from tensorflow.keras.layers import Dense, Embedding, Flatten, LSTM\n",
    "\n",
    "# Input data files are available in the \"../input/\" directory.\n",
    "# For example, running this (by clicking run or pressing Shift+Enter) will list all files under the input directory\n",
    "'''\n",
    "import os\n",
    "for dirname, _, filenames in os.walk('E:\\\\TFRS\\\\'):\n",
    "    for filename in filenames:\n",
    "        print(os.path.join(dirname, filename))\n",
    "'''\n",
    "# Any results you write to the current directory are saved as output."
   ]
  },
  {
   "cell_type": "markdown",
   "metadata": {},
   "source": [
    "# Importing the Dataset"
   ]
  },
  {
   "cell_type": "markdown",
   "metadata": {},
   "source": [
    "## Read and Explore the Data"
   ]
  },
  {
   "cell_type": "code",
   "execution_count": 23,
   "metadata": {
    "_cell_guid": "79c7e3d0-c299-4dcb-8224-4455121ee9b0",
    "_uuid": "d629ff2d2480ee46fbb7e2d37f6b5fab8052498a"
   },
   "outputs": [],
   "source": [
    "#Import the data set\n",
    "df = pd.read_csv('Reviews.csv')\n"
   ]
  },
  {
   "cell_type": "code",
   "execution_count": 24,
   "metadata": {},
   "outputs": [
    {
     "data": {
      "text/html": [
       "<div>\n",
       "<style scoped>\n",
       "    .dataframe tbody tr th:only-of-type {\n",
       "        vertical-align: middle;\n",
       "    }\n",
       "\n",
       "    .dataframe tbody tr th {\n",
       "        vertical-align: top;\n",
       "    }\n",
       "\n",
       "    .dataframe thead th {\n",
       "        text-align: right;\n",
       "    }\n",
       "</style>\n",
       "<table border=\"1\" class=\"dataframe\">\n",
       "  <thead>\n",
       "    <tr style=\"text-align: right;\">\n",
       "      <th></th>\n",
       "      <th>Id</th>\n",
       "      <th>ProductId</th>\n",
       "      <th>UserId</th>\n",
       "      <th>ProfileName</th>\n",
       "      <th>HelpfulnessNumerator</th>\n",
       "      <th>HelpfulnessDenominator</th>\n",
       "      <th>Score</th>\n",
       "      <th>Time</th>\n",
       "      <th>Summary</th>\n",
       "      <th>Text</th>\n",
       "    </tr>\n",
       "  </thead>\n",
       "  <tbody>\n",
       "    <tr>\n",
       "      <th>0</th>\n",
       "      <td>1</td>\n",
       "      <td>B001E4KFG0</td>\n",
       "      <td>A3SGXH7AUHU8GW</td>\n",
       "      <td>delmartian</td>\n",
       "      <td>1</td>\n",
       "      <td>1</td>\n",
       "      <td>5</td>\n",
       "      <td>1303862400</td>\n",
       "      <td>Good Quality Dog Food</td>\n",
       "      <td>I have bought several of the Vitality canned d...</td>\n",
       "    </tr>\n",
       "    <tr>\n",
       "      <th>1</th>\n",
       "      <td>2</td>\n",
       "      <td>B00813GRG4</td>\n",
       "      <td>A1D87F6ZCVE5NK</td>\n",
       "      <td>dll pa</td>\n",
       "      <td>0</td>\n",
       "      <td>0</td>\n",
       "      <td>1</td>\n",
       "      <td>1346976000</td>\n",
       "      <td>Not as Advertised</td>\n",
       "      <td>Product arrived labeled as Jumbo Salted Peanut...</td>\n",
       "    </tr>\n",
       "    <tr>\n",
       "      <th>2</th>\n",
       "      <td>3</td>\n",
       "      <td>B000LQOCH0</td>\n",
       "      <td>ABXLMWJIXXAIN</td>\n",
       "      <td>Natalia Corres \"Natalia Corres\"</td>\n",
       "      <td>1</td>\n",
       "      <td>1</td>\n",
       "      <td>4</td>\n",
       "      <td>1219017600</td>\n",
       "      <td>\"Delight\" says it all</td>\n",
       "      <td>This is a confection that has been around a fe...</td>\n",
       "    </tr>\n",
       "    <tr>\n",
       "      <th>3</th>\n",
       "      <td>4</td>\n",
       "      <td>B000UA0QIQ</td>\n",
       "      <td>A395BORC6FGVXV</td>\n",
       "      <td>Karl</td>\n",
       "      <td>3</td>\n",
       "      <td>3</td>\n",
       "      <td>2</td>\n",
       "      <td>1307923200</td>\n",
       "      <td>Cough Medicine</td>\n",
       "      <td>If you are looking for the secret ingredient i...</td>\n",
       "    </tr>\n",
       "    <tr>\n",
       "      <th>4</th>\n",
       "      <td>5</td>\n",
       "      <td>B006K2ZZ7K</td>\n",
       "      <td>A1UQRSCLF8GW1T</td>\n",
       "      <td>Michael D. Bigham \"M. Wassir\"</td>\n",
       "      <td>0</td>\n",
       "      <td>0</td>\n",
       "      <td>5</td>\n",
       "      <td>1350777600</td>\n",
       "      <td>Great taffy</td>\n",
       "      <td>Great taffy at a great price.  There was a wid...</td>\n",
       "    </tr>\n",
       "  </tbody>\n",
       "</table>\n",
       "</div>"
      ],
      "text/plain": [
       "   Id   ProductId          UserId                      ProfileName   \n",
       "0   1  B001E4KFG0  A3SGXH7AUHU8GW                       delmartian  \\\n",
       "1   2  B00813GRG4  A1D87F6ZCVE5NK                           dll pa   \n",
       "2   3  B000LQOCH0   ABXLMWJIXXAIN  Natalia Corres \"Natalia Corres\"   \n",
       "3   4  B000UA0QIQ  A395BORC6FGVXV                             Karl   \n",
       "4   5  B006K2ZZ7K  A1UQRSCLF8GW1T    Michael D. Bigham \"M. Wassir\"   \n",
       "\n",
       "   HelpfulnessNumerator  HelpfulnessDenominator  Score        Time   \n",
       "0                     1                       1      5  1303862400  \\\n",
       "1                     0                       0      1  1346976000   \n",
       "2                     1                       1      4  1219017600   \n",
       "3                     3                       3      2  1307923200   \n",
       "4                     0                       0      5  1350777600   \n",
       "\n",
       "                 Summary                                               Text  \n",
       "0  Good Quality Dog Food  I have bought several of the Vitality canned d...  \n",
       "1      Not as Advertised  Product arrived labeled as Jumbo Salted Peanut...  \n",
       "2  \"Delight\" says it all  This is a confection that has been around a fe...  \n",
       "3         Cough Medicine  If you are looking for the secret ingredient i...  \n",
       "4            Great taffy  Great taffy at a great price.  There was a wid...  "
      ]
     },
     "execution_count": 24,
     "metadata": {},
     "output_type": "execute_result"
    }
   ],
   "source": [
    "df.head()"
   ]
  },
  {
   "cell_type": "code",
   "execution_count": 25,
   "metadata": {},
   "outputs": [],
   "source": [
    "# Dropping the columns\n",
    "df = df.drop(['Id','Time','HelpfulnessNumerator','HelpfulnessDenominator','Summary'], axis = 1) \n"
   ]
  },
  {
   "cell_type": "code",
   "execution_count": 26,
   "metadata": {},
   "outputs": [
    {
     "data": {
      "text/html": [
       "<div>\n",
       "<style scoped>\n",
       "    .dataframe tbody tr th:only-of-type {\n",
       "        vertical-align: middle;\n",
       "    }\n",
       "\n",
       "    .dataframe tbody tr th {\n",
       "        vertical-align: top;\n",
       "    }\n",
       "\n",
       "    .dataframe thead th {\n",
       "        text-align: right;\n",
       "    }\n",
       "</style>\n",
       "<table border=\"1\" class=\"dataframe\">\n",
       "  <thead>\n",
       "    <tr style=\"text-align: right;\">\n",
       "      <th></th>\n",
       "      <th>ProductId</th>\n",
       "      <th>UserId</th>\n",
       "      <th>ProfileName</th>\n",
       "      <th>Score</th>\n",
       "      <th>Text</th>\n",
       "    </tr>\n",
       "  </thead>\n",
       "  <tbody>\n",
       "    <tr>\n",
       "      <th>568449</th>\n",
       "      <td>B001EO7N10</td>\n",
       "      <td>A28KG5XORO54AY</td>\n",
       "      <td>Lettie D. Carter</td>\n",
       "      <td>5</td>\n",
       "      <td>Great for sesame chicken..this is a good if no...</td>\n",
       "    </tr>\n",
       "    <tr>\n",
       "      <th>568450</th>\n",
       "      <td>B003S1WTCU</td>\n",
       "      <td>A3I8AFVPEE8KI5</td>\n",
       "      <td>R. Sawyer</td>\n",
       "      <td>2</td>\n",
       "      <td>I'm disappointed with the flavor. The chocolat...</td>\n",
       "    </tr>\n",
       "    <tr>\n",
       "      <th>568451</th>\n",
       "      <td>B004I613EE</td>\n",
       "      <td>A121AA1GQV751Z</td>\n",
       "      <td>pksd \"pk_007\"</td>\n",
       "      <td>5</td>\n",
       "      <td>These stars are small, so you can give 10-15 o...</td>\n",
       "    </tr>\n",
       "    <tr>\n",
       "      <th>568452</th>\n",
       "      <td>B004I613EE</td>\n",
       "      <td>A3IBEVCTXKNOH</td>\n",
       "      <td>Kathy A. Welch \"katwel\"</td>\n",
       "      <td>5</td>\n",
       "      <td>These are the BEST treats for training and rew...</td>\n",
       "    </tr>\n",
       "    <tr>\n",
       "      <th>568453</th>\n",
       "      <td>B001LR2CU2</td>\n",
       "      <td>A3LGQPJCZVL9UC</td>\n",
       "      <td>srfell17</td>\n",
       "      <td>5</td>\n",
       "      <td>I am very satisfied ,product is as advertised,...</td>\n",
       "    </tr>\n",
       "  </tbody>\n",
       "</table>\n",
       "</div>"
      ],
      "text/plain": [
       "         ProductId          UserId              ProfileName  Score   \n",
       "568449  B001EO7N10  A28KG5XORO54AY         Lettie D. Carter      5  \\\n",
       "568450  B003S1WTCU  A3I8AFVPEE8KI5                R. Sawyer      2   \n",
       "568451  B004I613EE  A121AA1GQV751Z            pksd \"pk_007\"      5   \n",
       "568452  B004I613EE   A3IBEVCTXKNOH  Kathy A. Welch \"katwel\"      5   \n",
       "568453  B001LR2CU2  A3LGQPJCZVL9UC                 srfell17      5   \n",
       "\n",
       "                                                     Text  \n",
       "568449  Great for sesame chicken..this is a good if no...  \n",
       "568450  I'm disappointed with the flavor. The chocolat...  \n",
       "568451  These stars are small, so you can give 10-15 o...  \n",
       "568452  These are the BEST treats for training and rew...  \n",
       "568453  I am very satisfied ,product is as advertised,...  "
      ]
     },
     "execution_count": 26,
     "metadata": {},
     "output_type": "execute_result"
    }
   ],
   "source": [
    "# see few rows of the imported dataset\n",
    "df.tail()"
   ]
  },
  {
   "cell_type": "code",
   "execution_count": 27,
   "metadata": {},
   "outputs": [
    {
     "name": "stdout",
     "output_type": "stream",
     "text": [
      "No of rows:  568454\n",
      "No of columns:  5\n"
     ]
    }
   ],
   "source": [
    "# Check the number of rows and columns\n",
    "rows, columns = df.shape\n",
    "print(\"No of rows: \", rows) \n",
    "print(\"No of columns: \", columns) "
   ]
  },
  {
   "cell_type": "code",
   "execution_count": 28,
   "metadata": {},
   "outputs": [
    {
     "data": {
      "text/plain": [
       "ProductId      object\n",
       "UserId         object\n",
       "ProfileName    object\n",
       "Score           int64\n",
       "Text           object\n",
       "dtype: object"
      ]
     },
     "execution_count": 28,
     "metadata": {},
     "output_type": "execute_result"
    }
   ],
   "source": [
    "#Check Data types\n",
    "df.dtypes"
   ]
  },
  {
   "cell_type": "code",
   "execution_count": 29,
   "metadata": {},
   "outputs": [
    {
     "name": "stdout",
     "output_type": "stream",
     "text": [
      "Number of missing values across columns-\n",
      " ProductId       0\n",
      "UserId          0\n",
      "ProfileName    26\n",
      "Score           0\n",
      "Text            0\n",
      "dtype: int64\n"
     ]
    }
   ],
   "source": [
    "# Check for missing values present\n",
    "print('Number of missing values across columns-\\n', df.isnull().sum())"
   ]
  },
  {
   "cell_type": "markdown",
   "metadata": {},
   "source": [
    "### There are no missing values with total records 568454\n"
   ]
  },
  {
   "cell_type": "code",
   "execution_count": 30,
   "metadata": {},
   "outputs": [
    {
     "data": {
      "text/html": [
       "<div>\n",
       "<style scoped>\n",
       "    .dataframe tbody tr th:only-of-type {\n",
       "        vertical-align: middle;\n",
       "    }\n",
       "\n",
       "    .dataframe tbody tr th {\n",
       "        vertical-align: top;\n",
       "    }\n",
       "\n",
       "    .dataframe thead th {\n",
       "        text-align: right;\n",
       "    }\n",
       "</style>\n",
       "<table border=\"1\" class=\"dataframe\">\n",
       "  <thead>\n",
       "    <tr style=\"text-align: right;\">\n",
       "      <th></th>\n",
       "      <th>count</th>\n",
       "      <th>mean</th>\n",
       "      <th>std</th>\n",
       "      <th>min</th>\n",
       "      <th>25%</th>\n",
       "      <th>50%</th>\n",
       "      <th>75%</th>\n",
       "      <th>max</th>\n",
       "    </tr>\n",
       "  </thead>\n",
       "  <tbody>\n",
       "    <tr>\n",
       "      <th>Score</th>\n",
       "      <td>568454.0</td>\n",
       "      <td>4.183199</td>\n",
       "      <td>1.310436</td>\n",
       "      <td>1.0</td>\n",
       "      <td>4.0</td>\n",
       "      <td>5.0</td>\n",
       "      <td>5.0</td>\n",
       "      <td>5.0</td>\n",
       "    </tr>\n",
       "  </tbody>\n",
       "</table>\n",
       "</div>"
      ],
      "text/plain": [
       "          count      mean       std  min  25%  50%  75%  max\n",
       "Score  568454.0  4.183199  1.310436  1.0  4.0  5.0  5.0  5.0"
      ]
     },
     "execution_count": 30,
     "metadata": {},
     "output_type": "execute_result"
    }
   ],
   "source": [
    "# Summary statistics of 'rating' variable\n",
    "df[['Score']].describe().transpose()"
   ]
  },
  {
   "cell_type": "code",
   "execution_count": 31,
   "metadata": {},
   "outputs": [
    {
     "name": "stdout",
     "output_type": "stream",
     "text": [
      "The minimum rating is: 1\n",
      "The maximum rating is: 5\n"
     ]
    }
   ],
   "source": [
    "# find minimum and maximum ratings \n",
    "\n",
    "def find_min_max_rating():\n",
    "    print('The minimum rating is: %d' %(df['Score'].min()))\n",
    "    print('The maximum rating is: %d' %(df['Score'].max()))\n",
    "    \n",
    "find_min_max_rating() "
   ]
  },
  {
   "cell_type": "markdown",
   "metadata": {},
   "source": [
    "### Ratings are on scale of 1 - 5\n"
   ]
  },
  {
   "cell_type": "code",
   "execution_count": 32,
   "metadata": {},
   "outputs": [
    {
     "data": {
      "image/png": "[encoded data removed]",
      "text/plain": [
       "<Figure size 640x480 with 1 Axes>"
      ]
     },
     "metadata": {},
     "output_type": "display_data"
    }
   ],
   "source": [
    "# Check the distribution of ratings\n",
    "with sns.axes_style('white'):\n",
    "    g = sns.countplot(data=df, x=\"Score\")\n",
    "    g.set_ylabel(\"Total number of ratings\")\n"
   ]
  },
  {
   "cell_type": "code",
   "execution_count": 33,
   "metadata": {},
   "outputs": [
    {
     "name": "stdout",
     "output_type": "stream",
     "text": [
      "Number of unique USERS in Raw data =  218415\n",
      "Number of unique USERS in Raw data =  568454\n",
      "Number of unique ITEMS in Raw data =  5\n"
     ]
    }
   ],
   "source": [
    "# Number of unique user id and product id in the data\n",
    "print('Number of unique USERS in Raw data = ', df['ProfileName'].nunique())\n",
    "print('Number of unique USERS in Raw data = ', len(df['ProfileName']))\n",
    "print('Number of unique ITEMS in Raw data = ', df['Score'].nunique())"
   ]
  },
  {
   "cell_type": "markdown",
   "metadata": {},
   "source": [
    "### Take subset of dataset to make it less sparse/more dense. ( For example, keep the users only who has given 50 or more number of ratings )"
   ]
  },
  {
   "cell_type": "code",
   "execution_count": 34,
   "metadata": {},
   "outputs": [
    {
     "data": {
      "text/plain": [
       "Score\n",
       "5    363122\n",
       "4     80655\n",
       "1     52268\n",
       "3     42640\n",
       "2     29769\n",
       "dtype: int64"
      ]
     },
     "execution_count": 34,
     "metadata": {},
     "output_type": "execute_result"
    }
   ],
   "source": [
    "# Top 10 users based on rating\n",
    "most_rated = df.groupby('Score').size().sort_values(ascending=False)[:5]\n",
    "most_rated"
   ]
  },
  {
   "cell_type": "markdown",
   "metadata": {},
   "source": [
    "### Data model preparation as per requirement on number of minimum ratings\n"
   ]
  },
  {
   "cell_type": "code",
   "execution_count": 35,
   "metadata": {},
   "outputs": [],
   "source": [
    "counts = df['ProfileName'].value_counts()\n",
    "df_final = df[df['ProfileName'].isin(counts[counts >= 10].index)]"
   ]
  },
  {
   "cell_type": "code",
   "execution_count": 36,
   "metadata": {},
   "outputs": [
    {
     "data": {
      "text/plain": [
       "ProfileName\n",
       "C. F. Hill \"CFH\"                               451\n",
       "O. Brown \"Ms. O. Khannah-Brown\"                421\n",
       "Gary Peterson                                  389\n",
       "Rebecca of Amazon \"The Rebecca Review\"         365\n",
       "Chris                                          363\n",
       "                                              ... \n",
       "Steven Wolff                                     1\n",
       "joycomeau                                        1\n",
       "Lizz                                             1\n",
       "Phyllis A. De Smet-Howard \"tweedsmerewillo\"      1\n",
       "srfell17                                         1\n",
       "Name: count, Length: 218415, dtype: int64"
      ]
     },
     "execution_count": 36,
     "metadata": {},
     "output_type": "execute_result"
    }
   ],
   "source": [
    "counts"
   ]
  },
  {
   "cell_type": "code",
   "execution_count": 37,
   "metadata": {},
   "outputs": [
    {
     "data": {
      "text/html": [
       "<div>\n",
       "<style scoped>\n",
       "    .dataframe tbody tr th:only-of-type {\n",
       "        vertical-align: middle;\n",
       "    }\n",
       "\n",
       "    .dataframe tbody tr th {\n",
       "        vertical-align: top;\n",
       "    }\n",
       "\n",
       "    .dataframe thead th {\n",
       "        text-align: right;\n",
       "    }\n",
       "</style>\n",
       "<table border=\"1\" class=\"dataframe\">\n",
       "  <thead>\n",
       "    <tr style=\"text-align: right;\">\n",
       "      <th></th>\n",
       "      <th>ProductId</th>\n",
       "      <th>UserId</th>\n",
       "      <th>ProfileName</th>\n",
       "      <th>Score</th>\n",
       "      <th>Text</th>\n",
       "    </tr>\n",
       "  </thead>\n",
       "  <tbody>\n",
       "    <tr>\n",
       "      <th>3</th>\n",
       "      <td>B000UA0QIQ</td>\n",
       "      <td>A395BORC6FGVXV</td>\n",
       "      <td>Karl</td>\n",
       "      <td>2</td>\n",
       "      <td>If you are looking for the secret ingredient i...</td>\n",
       "    </tr>\n",
       "    <tr>\n",
       "      <th>11</th>\n",
       "      <td>B0009XLVG0</td>\n",
       "      <td>A2725IB4YY9JEB</td>\n",
       "      <td>A Poeng \"SparkyGoHome\"</td>\n",
       "      <td>5</td>\n",
       "      <td>One of my boys needed to lose some weight and ...</td>\n",
       "    </tr>\n",
       "    <tr>\n",
       "      <th>12</th>\n",
       "      <td>B0009XLVG0</td>\n",
       "      <td>A327PCT23YH90</td>\n",
       "      <td>LT</td>\n",
       "      <td>1</td>\n",
       "      <td>My cats have been happily eating Felidae Plati...</td>\n",
       "    </tr>\n",
       "    <tr>\n",
       "      <th>13</th>\n",
       "      <td>B001GVISJM</td>\n",
       "      <td>A18ECVX2RJ7HUE</td>\n",
       "      <td>willie \"roadie\"</td>\n",
       "      <td>4</td>\n",
       "      <td>good flavor! these came securely packed... the...</td>\n",
       "    </tr>\n",
       "    <tr>\n",
       "      <th>14</th>\n",
       "      <td>B001GVISJM</td>\n",
       "      <td>A2MUGFV2TDQ47K</td>\n",
       "      <td>Lynrie \"Oh HELL no\"</td>\n",
       "      <td>5</td>\n",
       "      <td>The Strawberry Twizzlers are my guilty pleasur...</td>\n",
       "    </tr>\n",
       "  </tbody>\n",
       "</table>\n",
       "</div>"
      ],
      "text/plain": [
       "     ProductId          UserId             ProfileName  Score   \n",
       "3   B000UA0QIQ  A395BORC6FGVXV                    Karl      2  \\\n",
       "11  B0009XLVG0  A2725IB4YY9JEB  A Poeng \"SparkyGoHome\"      5   \n",
       "12  B0009XLVG0   A327PCT23YH90                      LT      1   \n",
       "13  B001GVISJM  A18ECVX2RJ7HUE         willie \"roadie\"      4   \n",
       "14  B001GVISJM  A2MUGFV2TDQ47K     Lynrie \"Oh HELL no\"      5   \n",
       "\n",
       "                                                 Text  \n",
       "3   If you are looking for the secret ingredient i...  \n",
       "11  One of my boys needed to lose some weight and ...  \n",
       "12  My cats have been happily eating Felidae Plati...  \n",
       "13  good flavor! these came securely packed... the...  \n",
       "14  The Strawberry Twizzlers are my guilty pleasur...  "
      ]
     },
     "execution_count": 37,
     "metadata": {},
     "output_type": "execute_result"
    }
   ],
   "source": [
    "df_final.head()"
   ]
  },
  {
   "cell_type": "code",
   "execution_count": 38,
   "metadata": {},
   "outputs": [
    {
     "name": "stdout",
     "output_type": "stream",
     "text": [
      "Number of users who have rated 50 or more items = 190432\n",
      "Number of unique USERS in final data =  8830\n",
      "Number of unique ITEMS in final data =  5\n"
     ]
    }
   ],
   "source": [
    "print('Number of users who have rated 50 or more items =', len(df_final))\n",
    "print('Number of unique USERS in final data = ', df_final['ProfileName'].nunique())\n",
    "print('Number of unique ITEMS in final data = ', df_final['Score'].nunique())"
   ]
  },
  {
   "cell_type": "markdown",
   "metadata": {},
   "source": [
    "### Split the data randomly into train and test dataset. ( For example split it in 70/30 ratio)"
   ]
  },
  {
   "cell_type": "code",
   "execution_count": 39,
   "metadata": {},
   "outputs": [
    {
     "name": "stdout",
     "output_type": "stream",
     "text": [
      "         ProductId          UserId   \n",
      "473294  B0030VJ79Q  A1SR28GSP1AJ8K  \\\n",
      "31089   B007M83302   AJT8SZ11T4EYP   \n",
      "406440  B005T12ZVW  A19UTUEBWKIZFT   \n",
      "327276  B004NM9YW6   A3SG0KEQBXK9O   \n",
      "112351  B002O7BAB0  A3FJFCAEF7Q1W4   \n",
      "\n",
      "                                             ProfileName  Score   \n",
      "473294                                          Mom2JPC3      5  \\\n",
      "31089                                        Jane Austin      5   \n",
      "406440                                        Bernadette      5   \n",
      "327276                                             Bruce      4   \n",
      "112351  Cmonkey \"Scuba Diving Photographing Dog Spoil...      5   \n",
      "\n",
      "                                                     Text  \n",
      "473294  These pouches are a godsend. I keep a stockpil...  \n",
      "31089   I absolutely love these chips.  All the flavor...  \n",
      "406440  Does it make me smarter? Nope. Does it taste f...  \n",
      "327276  The beauty of the Keurig machine is that you c...  \n",
      "112351  Lamb is great for sensitive stomachs and this ...  \n"
     ]
    }
   ],
   "source": [
    "#Split the training and test data in the ratio 70:30\n",
    "train_data, test_data = train_test_split(df_final, test_size = 0.1, random_state=0)\n",
    "\n",
    "print(train_data.head(5))"
   ]
  },
  {
   "cell_type": "code",
   "execution_count": 40,
   "metadata": {},
   "outputs": [
    {
     "name": "stdout",
     "output_type": "stream",
     "text": [
      "Test data shape:  (19044, 5)\n",
      "Train data shape:  (171388, 5)\n"
     ]
    }
   ],
   "source": [
    "def shape():\n",
    "    print(\"Test data shape: \", test_data.shape)\n",
    "    print(\"Train data shape: \", train_data.shape)\n",
    "shape() "
   ]
  },
  {
   "cell_type": "code",
   "execution_count": null,
   "metadata": {
    "scrolled": true
   },
   "outputs": [],
   "source": [
    "######BISA DARI TEXT PREDICT SCORE TP BELUM PER USER\n",
    "import pandas as pd\n",
    "import numpy as np\n",
    "import tensorflow as tf\n",
    "from tensorflow.keras.preprocessing.text import Tokenizer\n",
    "from tensorflow.keras.preprocessing.sequence import pad_sequences\n",
    "from tensorflow.keras.layers import Embedding, Flatten, Dense,Dropout\n",
    "from tensorflow.keras.models import Sequential\n",
    "from sklearn.model_selection import train_test_split\n",
    "from sklearn.preprocessing import MinMaxScaler\n",
    "\n",
    "# Prepare the training data\n",
    "x_train = train_data['ProfileName']\n",
    "y_train = train_data['Score']\n",
    "\n",
    "# Prepare the test data\n",
    "x_test = test_data['ProfileName']0\n",
    "y_test = test_data['Score']\n",
    "\n",
    "# Tokenize the text data\n",
    "tokenizer = Tokenizer(num_words=5000)\n",
    "tokenizer.fit_on_texts(x_train)\n",
    "\n",
    "true_train = tokenizer.texts_to_sequences(x_train)\n",
    "true_test = tokenizer.texts_to_sequences(x_test)\n",
    "\n",
    "vocab_size = len(tokenizer.word_index) + 1\n",
    "max_length = 200\n",
    "\n",
    "true_train2 = pad_sequences(true_train, maxlen=max_length, padding='post')\n",
    "true_test2 = pad_sequences(true_test, maxlen=max_length, padding='post')\n",
    "\n",
    "# Scale the ratings between 0 and 1\n",
    "scaler = MinMaxScaler()\n",
    "y_train = scaler.fit_transform(y_train.values.reshape(-1, 1))\n",
    "\n",
    "# Create the model\n",
    "model = Sequential()\n",
    "model.add(Embedding(vocab_size, 64, input_length=max_length))\n",
    "model.add(Flatten())\n",
    "model.add(Dense(64, activation='relu'))\n",
    "model.add(Dropout(0.5))\n",
    "model.add(Dense(128, activation='relu'))\n",
    "model.add(Dropout(0.5))\n",
    "model.add(Dense(256, activation='relu'))\n",
    "model.add(Dropout(0.5))\n",
    "model.add(Dense(1, activation='sigmoid'))\n",
    "\n",
    "optimizer = tf.keras.optimizers.Adam(learning_rate=0.001)\n",
    "\n",
    "# Compile the model\n",
    "model.compile(optimizer=optimizer, loss='mse', metrics=['accuracy'])\n",
    "\n",
    "# Train the model\n",
    "history = model.fit(true_train2, y_train, epochs=10, batch_size=32, validation_split=0.2)\n",
    "\n",
    "'''\n",
    "# Predict the ratings for the test set\n",
    "predictions = model.predict(true_test2)\n",
    "\n",
    "# Inverse transform the scaled ratings to get the actual ratings\n",
    "predicted_ratings = scaler.inverse_transform(predictions)\n",
    "\n",
    "# Create a DataFrame with the predicted ratings and original ratings\n",
    "predicted_df = pd.DataFrame({\n",
    "    'PredictedRating': predicted_ratings.flatten(),\n",
    "    'OriginalRating': y_test.values.flatten()\n",
    "})\n",
    "\n",
    "print(predicted_df.head())\n",
    "'''"
   ]
  },
  {
   "cell_type": "code",
   "execution_count": null,
   "metadata": {},
   "outputs": [],
   "source": [
    "import numpy as np\n",
    "\n",
    "# Define custom scaling function\n",
    "def custom_scaling(data, min_value, max_value):\n",
    "    # Compute the minimum and maximum values of the data\n",
    "    data_min = np.min(data)\n",
    "    data_max = np.max(data)\n",
    "    \n",
    "    # Scale the data using linear transformation\n",
    "    #scaled_data = (data - data_min) * (max_value - min_value) / (data_max - data_min) + min_value\n",
    "    scaled_data = (data - data_min) / (data_max - data_min)\n",
    "    return scaled_data\n",
    "\n",
    "def inverse_custom_scaling(scaled_data, min_value, max_value):\n",
    "    # Compute the minimum and maximum values of the scaled data range\n",
    "    scaled_min = np.min(scaled_data)\n",
    "    scaled_max = np.max(scaled_data)\n",
    "    \n",
    "    # Reverse the scaling using the inverse linear transformation\n",
    "    #data = (scaled_data - min_value) * (scaled_max - scaled_min) / (max_value - min_value) + scaled_min\n",
    "    data = scaled_data * (max_value - min_value) + min_value\n",
    "    return data\n",
    "\n",
    "# Example usage\n",
    "data = np.array([2, 5, 8, 12, 15])  # Sample data\n",
    "scaled_data = custom_scaling(data, 0, 1)  # Custom scaling between 0 and 1\n",
    "\n",
    "print(\"Original Data:\", data)\n",
    "print(\"Scaled Data:\", scaled_data)\n"
   ]
  },
  {
   "cell_type": "code",
   "execution_count": 41,
   "metadata": {},
   "outputs": [],
   "source": [
    "######BISA DARI PROFILE NAME PREDICT SCORE TP BELUM PER USER\n",
    "#### APA BISA X nya 2 buah?\n",
    "import pandas as pd\n",
    "import numpy as np\n",
    "import tensorflow as tf\n",
    "from tensorflow.keras.preprocessing.text import Tokenizer\n",
    "from tensorflow.keras.preprocessing.sequence import pad_sequences\n",
    "from tensorflow.keras.layers import Embedding, Flatten, Dense,Dropout\n",
    "from tensorflow.keras.models import Sequential\n",
    "from sklearn.model_selection import train_test_split\n",
    "from sklearn.preprocessing import MinMaxScaler,StandardScaler,MaxAbsScaler,Normalizer,PowerTransformer\n",
    "\n",
    "# Prepare the training data\n",
    "#x1_train = train_data['ProfileName'] #check data size first PLS !\n",
    "x1_train = train_data['UserId'] \n",
    "x2_train = train_data['ProductId']\n",
    "y_train = train_data['Score']\n",
    "\n",
    "# Prepare the test data\n",
    "#x1_test = test_data['ProfileName']\n",
    "x1_test = test_data['UserId']\n",
    "x2_test = test_data['ProductId']\n",
    "y_test = test_data['Score']\n",
    "\n",
    "# Tokenize the text data\n",
    "tokenizer = Tokenizer(num_words=5000)\n",
    "tokenizer.fit_on_texts(x1_train)\n",
    "tokenizer.fit_on_texts(x2_train)\n",
    "\n",
    "true_train1 = tokenizer.texts_to_sequences(x1_train)\n",
    "true_train2 = tokenizer.texts_to_sequences(x2_train)\n",
    "true_test1 = tokenizer.texts_to_sequences(x1_test)\n",
    "true_test2 = tokenizer.texts_to_sequences(x2_test)\n",
    "\n",
    "vocab_size = len(tokenizer.word_index) + 1\n",
    "max_length = 50\n",
    "\n",
    "true_trainX = pad_sequences(true_train1, maxlen=max_length, padding='post')\n",
    "true_trainX2 = pad_sequences(true_train2, maxlen=max_length, padding='post')\n",
    "true_testX = pad_sequences(true_test1, maxlen=max_length, padding='post')\n",
    "true_testX2 = pad_sequences(true_test2, maxlen=max_length, padding='post')\n",
    "\n",
    "x_train = np.concatenate((true_trainX, true_trainX2), axis=1)\n",
    "x_test = np.concatenate((true_testX, true_testX2), axis=1)\n",
    "\n",
    "# Scale the ratings between 0 and 1\n",
    "scaler = MinMaxScaler()\n",
    "y_train2 = scaler.fit_transform(y_train.values.reshape(-1, 1))\n",
    "#y_train2 = custom_scaling(y_train.values.reshape(-1,1),0,1)\n"
   ]
  },
  {
   "cell_type": "code",
   "execution_count": null,
   "metadata": {},
   "outputs": [],
   "source": [
    "true_trainX2.shape"
   ]
  },
  {
   "cell_type": "code",
   "execution_count": null,
   "metadata": {},
   "outputs": [],
   "source": [
    "######BISA DARI TEXT PREDICT SCORE TP BELUM PER USER\n",
    "#### APA BISA X nya 2 buah?\n",
    "import pandas as pd\n",
    "import numpy as np\n",
    "import tensorflow as tf\n",
    "from tensorflow.keras.preprocessing.text import Tokenizer\n",
    "from tensorflow.keras.preprocessing.sequence import pad_sequences\n",
    "from tensorflow.keras.layers import Embedding, Flatten, Dense,Dropout\n",
    "from tensorflow.keras.models import Sequential\n",
    "from sklearn.model_selection import train_test_split\n",
    "from sklearn.preprocessing import MinMaxScaler,StandardScaler,MaxAbsScaler,Normalizer,PowerTransformer\n",
    "\n",
    "# Prepare the training data\n",
    "x1_train = train_data['Text'] #check data size first PLS !\n",
    "x2_train = train_data['ProductId']\n",
    "y_train = train_data['Score']\n",
    "\n",
    "# Prepare the test data\n",
    "x1_test = test_data['Text']\n",
    "x2_test = test_data['ProductId']\n",
    "y_test = test_data['Score']\n",
    "\n",
    "# Tokenize the text data\n",
    "tokenizer = Tokenizer(num_words=5000)\n",
    "tokenizer.fit_on_texts(x1_train)\n",
    "tokenizer.fit_on_texts(x2_train)\n",
    "\n",
    "true_train1 = tokenizer.texts_to_sequences(x1_train)\n",
    "true_train2 = tokenizer.texts_to_sequences(x2_train)\n",
    "true_test1 = tokenizer.texts_to_sequences(x1_test)\n",
    "true_test2 = tokenizer.texts_to_sequences(x2_test)\n",
    "\n",
    "vocab_size = len(tokenizer.word_index) + 1\n",
    "max_length = 50\n",
    "\n",
    "true_trainX = pad_sequences(true_train1, maxlen=max_length, padding='post')\n",
    "true_trainX2 = pad_sequences(true_train2, maxlen=max_length, padding='post')\n",
    "true_testX = pad_sequences(true_test1, maxlen=max_length, padding='post')\n",
    "true_testX2 = pad_sequences(true_test2, maxlen=max_length, padding='post')\n",
    "\n",
    "x_train = np.concatenate((true_trainX, true_trainX2), axis=1)\n",
    "x_test = np.concatenate((true_testX, true_testX2), axis=1)\n",
    "\n",
    "# Scale the ratings between 0 and 1\n",
    "scaler = MinMaxScaler()\n",
    "y_train2 = scaler.fit_transform(y_train.values.reshape(-1, 1))\n",
    "#y_train2 = custom_scaling(y_train.values.reshape(-1,1),0,1)\n"
   ]
  },
  {
   "cell_type": "code",
   "execution_count": null,
   "metadata": {},
   "outputs": [],
   "source": [
    "######BISA DARI TEXT PREDICT SCORE TP BELUM PER USER\n",
    "#### APA BISA X nya 2 buah?\n",
    "import pandas as pd\n",
    "import numpy as np\n",
    "import tensorflow as tf\n",
    "from tensorflow.keras.preprocessing.text import Tokenizer\n",
    "from tensorflow.keras.preprocessing.sequence import pad_sequences\n",
    "from tensorflow.keras.layers import Embedding, Flatten, Dense,Dropout\n",
    "from tensorflow.keras.models import Sequential\n",
    "from sklearn.model_selection import train_test_split\n",
    "from sklearn.preprocessing import MinMaxScaler,StandardScaler,MaxAbsScaler,Normalizer,PowerTransformer\n",
    "\n",
    "# Prepare the training data\n",
    "x1_train = train_data['ProfileName'] #check data size first PLS !\n",
    "x2_train = train_data['ProductId']\n",
    "x3_train = train_data['Text']\n",
    "y_train = train_data['Score']\n",
    "\n",
    "# Prepare the test data\n",
    "x1_test = test_data['ProfileName']\n",
    "x2_test = test_data['ProductId']\n",
    "x3_test = train_data['Text']\n",
    "y_test = test_data['Score']\n",
    "\n",
    "# Tokenize the text data\n",
    "tokenizer = Tokenizer(num_words=5000)\n",
    "tokenizer.fit_on_texts(x1_train)\n",
    "tokenizer.fit_on_texts(x2_train)\n",
    "tokenizer.fit_on_texts(x3_train)\n",
    "tokenizer.fit_on_texts(x1_test)\n",
    "tokenizer.fit_on_texts(x2_test)\n",
    "tokenizer.fit_on_texts(x3_test)\n",
    "\n",
    "true_train1 = tokenizer.texts_to_sequences(x1_train)\n",
    "true_train2 = tokenizer.texts_to_sequences(x2_train)\n",
    "true_train3 = tokenizer.texts_to_sequences(x3_train)\n",
    "true_test1 = tokenizer.texts_to_sequences(x1_test)\n",
    "true_test2 = tokenizer.texts_to_sequences(x2_test)\n",
    "true_test3 = tokenizer.texts_to_sequences(x3_test)\n",
    "\n",
    "vocab_size = len(tokenizer.word_index) + 1\n",
    "max_length = 50\n",
    "\n",
    "true_trainX = pad_sequences(true_train1, maxlen=max_length, padding='post')\n",
    "true_trainX2 = pad_sequences(true_train2, maxlen=max_length, padding='post')\n",
    "true_trainX3 = pad_sequences(true_train3, maxlen=max_length, padding='post')\n",
    "true_testX = pad_sequences(true_test1, maxlen=max_length, padding='post')\n",
    "true_testX2 = pad_sequences(true_test2, maxlen=max_length, padding='post')\n",
    "true_testX3 = pad_sequences(true_test3, maxlen=max_length, padding='post')\n",
    "\n",
    "x_train = np.concatenate((true_trainX, true_trainX2), axis=1)\n",
    "x_train2 = np.concatenate((x_train, true_trainX3), axis=1)\n",
    "#x_test = np.concatenate((true_testX, true_testX2), axis=1)\n",
    "#x_test2 = np.concatenate((x_test, true_testX3), axis=1)\n",
    "\n",
    "# Scale the ratings between 0 and 1\n",
    "scaler = MinMaxScaler()\n",
    "y_train2 = scaler.fit_transform(y_train.values.reshape(-1, 1))\n",
    "#y_train2 = custom_scaling(y_train.values.reshape(-1,1),0,1)\n"
   ]
  },
  {
   "cell_type": "code",
   "execution_count": null,
   "metadata": {},
   "outputs": [],
   "source": [
    "true_trainX.shape"
   ]
  },
  {
   "cell_type": "code",
   "execution_count": 42,
   "metadata": {
    "scrolled": false
   },
   "outputs": [
    {
     "name": "stdout",
     "output_type": "stream",
     "text": [
      "Epoch 1/10\n",
      "4285/4285 [==============================] - 27s 6ms/step - loss: 0.1034 - accuracy: 0.6060 - val_loss: 0.0989 - val_accuracy: 0.6036\n",
      "Epoch 2/10\n",
      "4285/4285 [==============================] - 26s 6ms/step - loss: 0.1007 - accuracy: 0.6073 - val_loss: 0.0995 - val_accuracy: 0.6036\n",
      "Epoch 3/10\n",
      "4285/4285 [==============================] - 26s 6ms/step - loss: 0.0999 - accuracy: 0.6073 - val_loss: 0.0990 - val_accuracy: 0.6036\n",
      "Epoch 4/10\n",
      "4285/4285 [==============================] - 26s 6ms/step - loss: 0.0995 - accuracy: 0.6073 - val_loss: 0.0989 - val_accuracy: 0.6036\n",
      "Epoch 5/10\n",
      "4285/4285 [==============================] - 26s 6ms/step - loss: 0.0992 - accuracy: 0.6073 - val_loss: 0.0991 - val_accuracy: 0.6036\n",
      "Epoch 6/10\n",
      "4285/4285 [==============================] - 26s 6ms/step - loss: 0.0990 - accuracy: 0.6073 - val_loss: 0.0989 - val_accuracy: 0.6036\n",
      "Epoch 7/10\n",
      "4285/4285 [==============================] - 26s 6ms/step - loss: 0.0989 - accuracy: 0.6073 - val_loss: 0.0989 - val_accuracy: 0.6036\n",
      "Epoch 8/10\n",
      "4285/4285 [==============================] - 26s 6ms/step - loss: 0.0989 - accuracy: 0.6073 - val_loss: 0.0989 - val_accuracy: 0.6036\n",
      "Epoch 9/10\n",
      "4285/4285 [==============================] - 26s 6ms/step - loss: 0.0989 - accuracy: 0.6073 - val_loss: 0.0990 - val_accuracy: 0.6036\n",
      "Epoch 10/10\n",
      "4285/4285 [==============================] - 26s 6ms/step - loss: 0.0989 - accuracy: 0.6073 - val_loss: 0.0989 - val_accuracy: 0.6036\n"
     ]
    },
    {
     "data": {
      "text/plain": [
       "\"\\n# Predict the ratings for the test set\\npredictions = model.predict(true_test2)\\n\\n# Inverse transform the scaled ratings to get the actual ratings\\npredicted_ratings = scaler.inverse_transform(predictions)\\n\\n# Create a DataFrame with the predicted ratings and original ratings\\npredicted_df = pd.DataFrame({\\n    'PredictedRating': predicted_ratings.flatten(),\\n    'OriginalRating': y_test.values.flatten()\\n})\\n\\nprint(predicted_df.head())\\n\""
      ]
     },
     "execution_count": 42,
     "metadata": {},
     "output_type": "execute_result"
    }
   ],
   "source": [
    "# Create the model\n",
    "model = Sequential()\n",
    "model.add(Embedding(vocab_size, 64, input_length=max_length))\n",
    "model.add(Flatten())\n",
    "model.add(Dense(64, activation='relu'))\n",
    "model.add(Dropout(0.5))\n",
    "model.add(Dense(128, activation='relu'))\n",
    "model.add(Dropout(0.5))\n",
    "model.add(Dense(256, activation='relu'))\n",
    "model.add(Dropout(0.5))\n",
    "model.add(Dense(512, activation='relu'))\n",
    "model.add(Dropout(0.5))\n",
    "model.add(Dense(1, activation='linear'))\n",
    "\n",
    "optimizer = tf.keras.optimizers.Adam(learning_rate=0.001)\n",
    "\n",
    "# Compile the model\n",
    "model.compile(optimizer=optimizer, loss='mse', metrics=['accuracy'])\n",
    "\n",
    "# Train the model\n",
    "history = model.fit(x_train[:,:50], y_train2, epochs=10, batch_size=32, validation_split=0.2)\n",
    "\n",
    "'''\n",
    "# Predict the ratings for the test set\n",
    "predictions = model.predict(true_test2)\n",
    "\n",
    "# Inverse transform the scaled ratings to get the actual ratings\n",
    "predicted_ratings = scaler.inverse_transform(predictions)\n",
    "\n",
    "# Create a DataFrame with the predicted ratings and original ratings\n",
    "predicted_df = pd.DataFrame({\n",
    "    'PredictedRating': predicted_ratings.flatten(),\n",
    "    'OriginalRating': y_test.values.flatten()\n",
    "})\n",
    "\n",
    "print(predicted_df.head())\n",
    "'''"
   ]
  },
  {
   "cell_type": "code",
   "execution_count": null,
   "metadata": {
    "scrolled": true
   },
   "outputs": [],
   "source": [
    "# Predict the ratings for the test set\n",
    "predictions = model.predict(x_test[:,:50])\n",
    "\n",
    "# Inverse transform the scaled ratings to get the actual ratings\n",
    "predicted_ratings = scaler.inverse_transform(predictions)\n",
    "#predicted_ratings = inverse_custom_scaling(predictions,0,1)"
   ]
  },
  {
   "cell_type": "code",
   "execution_count": null,
   "metadata": {},
   "outputs": [],
   "source": [
    "predicted_ratings"
   ]
  },
  {
   "cell_type": "code",
   "execution_count": null,
   "metadata": {},
   "outputs": [],
   "source": [
    "# Convert 'UserId' and 'ProductId' to data arrays\n",
    "name_idx = train_data['ProfileName'].values\n",
    "product_idx = train_data['ProductId'].values\n",
    "\n",
    "# Create a new DataFrame with converted data arrays\n",
    "df_converted = pd.DataFrame({'ProfileName': name_idx, 'ProductId': product_idx, 'Score': 0})\n",
    "\n",
    "# Create pivot table with the converted DataFrame\n",
    "final_ratings_matrix = pd.pivot_table(df_converted, index='ProfileName', columns='ProductId', values='Score')\n",
    "final_ratings_matrix.fillna(0, inplace=True)\n",
    "\n",
    "# Print the final_ratings_matrix\n",
    "final_ratings_matrix\n"
   ]
  },
  {
   "cell_type": "code",
   "execution_count": null,
   "metadata": {
    "scrolled": true
   },
   "outputs": [],
   "source": [
    "import numpy as np\n",
    "import pandas as pd\n",
    "\n",
    "# Assuming 'final_ratings_matrix' is a pandas DataFrame containing the pivot table\n",
    "# obtained from pd.pivot_table()\n",
    "\n",
    "# Fill NaN values with 0\n",
    "final_ratings_matrix.fillna(0, inplace=True)\n",
    "\n",
    "# Convert the DataFrame to a NumPy array\n",
    "array3 = final_ratings_matrix.reset_index().melt(id_vars=['ProfileName'], value_vars=final_ratings_matrix.columns)\n",
    "array3.columns = ['ProfileName', 'ProductId', 'Score']\n",
    "array3 = array3[['ProfileName', 'ProductId']].values\n",
    "\n",
    "# Print the resulting array\n",
    "print(type(array3))\n",
    "print(array3)"
   ]
  },
  {
   "cell_type": "code",
   "execution_count": null,
   "metadata": {},
   "outputs": [],
   "source": [
    "# ARRAY TEST UNTUK TEXT\n",
    "import numpy as np\n",
    "import pandas as pd\n",
    "\n",
    "# Assuming 'final_ratings_matrix' is a pandas DataFrame containing the pivot table\n",
    "# obtained from pd.pivot_table()\n",
    "\n",
    "# Fill NaN values with 0\n",
    "final_ratings_matrix.fillna(0, inplace=True)\n",
    "\n",
    "# Convert the DataFrame to a NumPy array\n",
    "array3 = final_ratings_matrix.reset_index().melt(id_vars=['ProfileName'], value_vars=final_ratings_matrix.columns)\n",
    "array3.columns = ['ProfileName', 'ProductId', 'Score']\n",
    "#array3 = array3[['ProfileName', 'ProductId']].values\n",
    "\n",
    "# Print the resulting array\n",
    "print(type(array3))\n",
    "print(array3)"
   ]
  },
  {
   "cell_type": "code",
   "execution_count": null,
   "metadata": {},
   "outputs": [],
   "source": [
    "x_test"
   ]
  },
  {
   "cell_type": "code",
   "execution_count": null,
   "metadata": {
    "scrolled": true
   },
   "outputs": [],
   "source": [
    "# Predict the ratings for the test set\n",
    "ratings = model.predict(array3)\n",
    "\n",
    "# Inverse transform the scaled ratings to get the actual ratings\n",
    "predicted_ratings = scaler.inverse_transform(ratings)\n",
    "\n",
    "# Create a new DataFrame with the columns from 'array3' and the 'predicted_ratings'\n",
    "df_predict = pd.DataFrame(array3, columns=['ProfileName', 'ProductId'])\n",
    "df_predict['PredictedRating'] = predicted_ratings\n",
    "\n",
    "# Print the updated DataFrame\n",
    "df_predict"
   ]
  },
  {
   "cell_type": "code",
   "execution_count": null,
   "metadata": {},
   "outputs": [],
   "source": [
    "df_predict"
   ]
  },
  {
   "cell_type": "code",
   "execution_count": null,
   "metadata": {},
   "outputs": [],
   "source": [
    "df_predict.to_csv('ratingpredict_resulted.csv', index=False)"
   ]
  },
  {
   "cell_type": "code",
   "execution_count": null,
   "metadata": {
    "scrolled": true
   },
   "outputs": [],
   "source": [
    "# Plot the model accuracy and loss\n",
    "plt.figure(figsize=(12, 4))\n",
    "plt.subplot(1, 2, 1)\n",
    "plt.plot(history.history['accuracy'], label='Training Accuracy')\n",
    "plt.plot(history.history['val_accuracy'], label='Validation Accuracy')\n",
    "plt.xlabel('Epochs')\n",
    "plt.ylabel('Accuracy')\n",
    "plt.legend()\n",
    "\n",
    "plt.subplot(1, 2, 2)\n",
    "plt.plot(history.history['loss'], label='Training Loss')\n",
    "plt.plot(history.history['val_loss'], label='Validation Loss')\n",
    "plt.xlabel('Epochs')\n",
    "plt.ylabel('Loss')\n",
    "plt.legend()\n",
    "\n",
    "plt.tight_layout()\n",
    "plt.show()"
   ]
  },
  {
   "cell_type": "code",
   "execution_count": null,
   "metadata": {},
   "outputs": [],
   "source": [
    "train_data"
   ]
  },
  {
   "cell_type": "code",
   "execution_count": null,
   "metadata": {
    "scrolled": true
   },
   "outputs": [],
   "source": [
    "import pandas as pd\n",
    "import numpy as np\n",
    "import tensorflow as tf\n",
    "from tensorflow.keras.preprocessing.text import Tokenizer\n",
    "from tensorflow.keras.preprocessing.sequence import pad_sequences\n",
    "from tensorflow.keras.layers import Embedding, Flatten, Dense\n",
    "from tensorflow.keras.models import Sequential\n",
    "from sklearn.model_selection import train_test_split\n",
    "from sklearn.preprocessing import MinMaxScaler\n",
    "\n",
    "# Prepare the training data\n",
    "x_train = train_data['ProfileName'].unique()\n",
    "y_train = train_data['Score']\n",
    "\n",
    "# Prepare the test data\n",
    "x_test = test_data['ProfileName']\n",
    "y_test = test_data['Score']\n",
    "\n",
    "# Tokenize the text data\n",
    "tokenizer = Tokenizer(num_words=5000)\n",
    "tokenizer.fit_on_texts(x_train)\n",
    "\n",
    "true_train = tokenizer.texts_to_sequences(x_train)\n",
    "true_test = tokenizer.texts_to_sequences(x_test)\n",
    "\n",
    "vocab_size = len(tokenizer.word_index) + 1\n",
    "max_length = 200\n",
    "\n",
    "true_train2 = pad_sequences(true_train, maxlen=max_length, padding='post')\n",
    "true_test2 = pad_sequences(true_test, maxlen=max_length, padding='post')\n",
    "\n",
    "# Scale the ratings between 0 and 1\n",
    "scaler = MinMaxScaler()\n",
    "y_train = scaler.fit_transform(y_train.values.reshape(-1, 1))\n",
    "\n",
    "# Create the model\n",
    "model = Sequential()\n",
    "model.add(Embedding(vocab_size, 64, input_length=max_length))\n",
    "model.add(Flatten())\n",
    "model.add(Dense(64, activation='relu'))\n",
    "model.add(Dense(1, activation='sigmoid'))\n",
    "\n",
    "# Compile the model\n",
    "model.compile(optimizer='adam', loss='mse', metrics=['accuracy'])\n",
    "\n",
    "# Train the model\n",
    "history = model.fit(true_train2, y_train, epochs=10, batch_size=32, validation_split=0.2)\n",
    "\n",
    "# Predict the ratings for the test set\n",
    "predictions = model.predict(true_test2)\n",
    "\n",
    "# Inverse transform the scaled ratings to get the actual ratings\n",
    "predicted_ratings = scaler.inverse_transform(predictions)\n",
    "\n",
    "# Create a DataFrame with the predicted ratings and original ratings\n",
    "predicted_df = pd.DataFrame({\n",
    "    'PredictedRating': predicted_ratings.flatten(),\n",
    "    'OriginalRating': y_test.values.flatten()\n",
    "})\n",
    "\n",
    "print(predicted_df.head())\n"
   ]
  },
  {
   "cell_type": "code",
   "execution_count": null,
   "metadata": {},
   "outputs": [],
   "source": [
    "# Plot the model accuracy and loss\n",
    "plt.figure(figsize=(12, 4))\n",
    "plt.subplot(1, 2, 1)\n",
    "plt.plot(history.history['accuracy'], label='Training Accuracy')\n",
    "plt.plot(history.history['val_accuracy'], label='Validation Accuracy')\n",
    "plt.xlabel('Epochs')\n",
    "plt.ylabel('Accuracy')\n",
    "plt.legend()\n",
    "\n",
    "plt.subplot(1, 2, 2)\n",
    "plt.plot(history.history['loss'], label='Training Loss')\n",
    "plt.plot(history.history['val_loss'], label='Validation Loss')\n",
    "plt.xlabel('Epochs')\n",
    "plt.ylabel('Loss')\n",
    "plt.legend()\n",
    "\n",
    "plt.tight_layout()\n",
    "plt.show()"
   ]
  },
  {
   "cell_type": "code",
   "execution_count": null,
   "metadata": {},
   "outputs": [],
   "source": []
  },
  {
   "cell_type": "code",
   "execution_count": null,
   "metadata": {
    "scrolled": true
   },
   "outputs": [],
   "source": [
    "#####USING BERT PRETRAINED\n",
    "# Load the BERT model\n",
    "from tensorflow.keras.layers import Input, Dense, Dropout\n",
    "from tensorflow.keras.models import Model\n",
    "from transformers import TFDistilBertForSequenceClassification\n",
    "\n",
    "# Load the pretrained DistilBERT model for sequence classification\n",
    "model = TFDistilBertForSequenceClassification.from_pretrained('distilbert-base-uncased', num_labels=2)\n",
    "\n",
    "# Set the input shapes\n",
    "input_ids = Input(shape=(max_length,), dtype=tf.int64)\n",
    "attention_mask = Input(shape=(max_length,), dtype=tf.int64)\n",
    "\n",
    "# Get the BERT output\n",
    "bert_output = model(input_ids, attention_mask=attention_mask)[0]\n",
    "\n",
    "# Create the model architecture\n",
    "dense_layer = Dense(128, activation='relu')(bert_output)\n",
    "dropout_layer = Dropout(0.5)(dense_layer)\n",
    "output_layer = Dense(1, activation='linear')(dropout_layer)\n",
    "\n",
    "# Combine the input and output layers into a model\n",
    "model = Model(inputs=[input_ids, attention_mask], outputs=output_layer)\n",
    "\n",
    "# Compile the model\n",
    "model.compile(optimizer='adam', loss='mse', metrics=['accuracy'])\n",
    "\n",
    "# Train the model\n",
    "history = model.fit([true_trainX, true_trainX2], y_train, epochs=10, batch_size=32, validation_split=0.2)"
   ]
  },
  {
   "cell_type": "code",
   "execution_count": null,
   "metadata": {},
   "outputs": [],
   "source": [
    "#####USING XLNET PRETRAINED\n",
    "# Load the BERT model\n",
    "from tensorflow.keras.layers import Input, Dense, Dropout\n",
    "from tensorflow.keras.models import Model\n",
    "from transformers import TFXLNetModel\n",
    "\n",
    "xlnet_model = TFXLNetModel.from_pretrained('xlnet-base-uncased')\n",
    "\n",
    "# Set the input shapes\n",
    "input_ids = Input(shape=(max_length,), dtype=tf.int64)\n",
    "attention_mask = Input(shape=(max_length,), dtype=tf.int64)\n",
    "\n",
    "# Get the BERT output\n",
    "xlnet_output = xlnet_model(input_ids=input_ids, attention_mask=attention_mask)[0]\n",
    "\n",
    "# Create the model architecture\n",
    "model = tf.keras.Sequential()\n",
    "model.add(xlnet_output)\n",
    "model.add(tf.keras.layers.Dense(128, activation='relu'))\n",
    "model.add(tf.keras.layers.Dropout(0.5))\n",
    "\n",
    "# Combine the input and output layers into a model\n",
    "model = Model(inputs=[input_ids, attention_mask], outputs=output_layer)\n",
    "\n",
    "# Compile the model\n",
    "model.compile(optimizer='adam', loss='mse', metrics=['accuracy'])\n",
    "\n",
    "# Train the model\n",
    "history = model.fit([true_trainX, true_trainX2], y_train, epochs=10, batch_size=32, validation_split=0.2)"
   ]
  },
  {
   "cell_type": "code",
   "execution_count": null,
   "metadata": {},
   "outputs": [],
   "source": [
    "#####USING BERT PRETRAINED\n",
    "# Load the BERT model\n",
    "from tensorflow.keras.layers import Input, Dense, Dropout\n",
    "from tensorflow.keras.models import Model\n",
    "from transformers import TFBertModel\n",
    "\n",
    "bert_model = TFBertModel.from_pretrained('bert-base-uncased')\n",
    "\n",
    "# Set the input shapes\n",
    "input_ids = Input(shape=(max_length,), dtype=tf.int32)\n",
    "attention_mask = Input(shape=(max_length,), dtype=tf.int32)\n",
    "\n",
    "# Get the BERT output\n",
    "bert_output = bert_model(input_ids, attention_mask=attention_mask)[0]\n",
    "\n",
    "# Create the model architecture\n",
    "dense_layer = Dense(128, activation='relu')(bert_output)\n",
    "dropout_layer = Dropout(0.5)(dense_layer)\n",
    "output_layer = Dense(1, activation='linear')(dropout_layer)\n",
    "\n",
    "# Combine the input and output layers into a model\n",
    "model = Model(inputs=[input_ids, attention_mask], outputs=output_layer)\n",
    "\n",
    "# Compile the model\n",
    "model.compile(optimizer='adam', loss='mse', metrics=['accuracy'])\n",
    "\n",
    "# Train the model\n",
    "history = model.fit([true_trainX, true_trainX2], y_train, epochs=10, batch_size=32, validation_split=0.2)"
   ]
  },
  {
   "cell_type": "code",
   "execution_count": null,
   "metadata": {},
   "outputs": [],
   "source": [
    "# Set the input shape for the base model\n",
    "input_ids = Input(shape=(max_seq_length,), dtype=tf.int32)\n",
    "attention_mask = Input(shape=(max_seq_length,), dtype=tf.int32)\n",
    "\n",
    "# Pass the inputs through the base model\n",
    "bert_output = base_model(input_ids, attention_mask=attention_mask)[0]\n",
    "\n",
    "# Add additional layers on top of the BERT output\n",
    "x = Dense(128, activation='relu')(bert_output)\n",
    "output = Dense(1, activation='linear')(x)\n",
    "\n",
    "# Create the final model\n",
    "model = Model(inputs=[input_ids, attention_mask], outputs=output)\n",
    "\n",
    "# Compile the model\n",
    "model.compile(optimizer='adam', loss='mse', metrics=['accuracy'])"
   ]
  },
  {
   "cell_type": "markdown",
   "metadata": {},
   "source": [
    "# tflite"
   ]
  },
  {
   "cell_type": "code",
   "execution_count": null,
   "metadata": {},
   "outputs": [],
   "source": [
    "export_dir = 'saved_model/1'\n",
    "tf.saved_model.save(model, export_dir)"
   ]
  },
  {
   "cell_type": "code",
   "execution_count": null,
   "metadata": {},
   "outputs": [],
   "source": [
    "# Convert the model.\n",
    "converter = tf.lite.TFLiteConverter.from_saved_model(export_dir)\n",
    "tflite_model = converter.convert()"
   ]
  },
  {
   "cell_type": "code",
   "execution_count": null,
   "metadata": {},
   "outputs": [],
   "source": [
    "#POST TRAIN QUANTIZATION\n",
    "converter.optimizations = [tf.lite.Optimize.DEFAULT]"
   ]
  },
  {
   "cell_type": "code",
   "execution_count": null,
   "metadata": {},
   "outputs": [],
   "source": [
    "import pathlib\n",
    "tflite_model_file = pathlib.Path(export_dir+'/recommender_model.tflite')\n",
    "tflite_model_file.write_bytes(tflite_model)"
   ]
  },
  {
   "cell_type": "code",
   "execution_count": null,
   "metadata": {},
   "outputs": [],
   "source": [
    "model.save(export_dir+'/recommender_model.h5')"
   ]
  }
 ],
 "metadata": {
  "kernelspec": {
   "display_name": "tfrs",
   "language": "python",
   "name": "tfrs"
  },
  "language_info": {
   "codemirror_mode": {
    "name": "ipython",
    "version": 3
   },
   "file_extension": ".py",
   "mimetype": "text/x-python",
   "name": "python",
   "nbconvert_exporter": "python",
   "pygments_lexer": "ipython3",
   "version": "3.10.4"
  }
 },
 "nbformat": 4,
 "nbformat_minor": 4
}
